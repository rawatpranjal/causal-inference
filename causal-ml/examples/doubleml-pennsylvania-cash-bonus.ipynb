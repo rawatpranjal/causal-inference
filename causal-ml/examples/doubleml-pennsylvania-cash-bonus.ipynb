{
 "cells": [
  {
   "cell_type": "markdown",
   "id": "bc8bc1d0",
   "metadata": {},
   "source": [
    "# Packages"
   ]
  },
  {
   "cell_type": "code",
   "execution_count": 1,
   "id": "cbc5a055",
   "metadata": {},
   "outputs": [],
   "source": [
    "import numpy as np\n",
    "import pandas as pd\n",
    "from doubleml.datasets import fetch_bonus\n",
    "from doubleml import DoubleMLData\n",
    "import statsmodels.api as sm\n",
    "from sklearn.base import clone\n",
    "from sklearn.ensemble import RandomForestRegressor, RandomForestClassifier\n",
    "from sklearn.linear_model import LassoCV\n",
    "from doubleml import DoubleMLPLR\n",
    "from doubleml import DoubleMLPLR\n",
    "from prettytable import PrettyTable\n",
    "from PIL import Image, ImageDraw, ImageFont\n",
    "from sklearn.linear_model import LinearRegression, LogisticRegression, LassoCV, LogisticRegressionCV\n",
    "from sklearn.neural_network import MLPRegressor, MLPClassifier\n",
    "from catboost import CatBoostRegressor, CatBoostClassifier\n",
    "from xgboost import XGBRegressor, XGBClassifier\n",
    "from sklearn.preprocessing import normalize\n",
    "from sklearn.model_selection import cross_val_score\n",
    "import warnings\n",
    "warnings.filterwarnings('ignore')\n",
    "np.random.seed(3293423)"
   ]
  },
  {
   "cell_type": "markdown",
   "id": "3e3ea0e8",
   "metadata": {},
   "source": [
    "# Load the Data"
   ]
  },
  {
   "cell_type": "code",
   "execution_count": 2,
   "id": "ba0dcabc",
   "metadata": {},
   "outputs": [
    {
     "data": {
      "text/html": [
       "<div>\n",
       "<style scoped>\n",
       "    .dataframe tbody tr th:only-of-type {\n",
       "        vertical-align: middle;\n",
       "    }\n",
       "\n",
       "    .dataframe tbody tr th {\n",
       "        vertical-align: top;\n",
       "    }\n",
       "\n",
       "    .dataframe thead th {\n",
       "        text-align: right;\n",
       "    }\n",
       "</style>\n",
       "<table border=\"1\" class=\"dataframe\">\n",
       "  <thead>\n",
       "    <tr style=\"text-align: right;\">\n",
       "      <th></th>\n",
       "      <th>index</th>\n",
       "      <th>abdt</th>\n",
       "      <th>tg</th>\n",
       "      <th>inuidur1</th>\n",
       "      <th>inuidur2</th>\n",
       "      <th>female</th>\n",
       "      <th>black</th>\n",
       "      <th>hispanic</th>\n",
       "      <th>othrace</th>\n",
       "      <th>dep</th>\n",
       "      <th>...</th>\n",
       "      <th>recall</th>\n",
       "      <th>agelt35</th>\n",
       "      <th>agegt54</th>\n",
       "      <th>durable</th>\n",
       "      <th>nondurable</th>\n",
       "      <th>lusd</th>\n",
       "      <th>husd</th>\n",
       "      <th>muld</th>\n",
       "      <th>dep1</th>\n",
       "      <th>dep2</th>\n",
       "    </tr>\n",
       "  </thead>\n",
       "  <tbody>\n",
       "    <tr>\n",
       "      <th>0</th>\n",
       "      <td>0</td>\n",
       "      <td>10824</td>\n",
       "      <td>0</td>\n",
       "      <td>2.890372</td>\n",
       "      <td>18</td>\n",
       "      <td>0</td>\n",
       "      <td>0</td>\n",
       "      <td>0</td>\n",
       "      <td>0</td>\n",
       "      <td>2</td>\n",
       "      <td>...</td>\n",
       "      <td>0</td>\n",
       "      <td>0</td>\n",
       "      <td>0</td>\n",
       "      <td>0</td>\n",
       "      <td>0</td>\n",
       "      <td>0</td>\n",
       "      <td>1</td>\n",
       "      <td>0</td>\n",
       "      <td>0.0</td>\n",
       "      <td>1.0</td>\n",
       "    </tr>\n",
       "    <tr>\n",
       "      <th>1</th>\n",
       "      <td>3</td>\n",
       "      <td>10824</td>\n",
       "      <td>0</td>\n",
       "      <td>0.000000</td>\n",
       "      <td>1</td>\n",
       "      <td>0</td>\n",
       "      <td>0</td>\n",
       "      <td>0</td>\n",
       "      <td>0</td>\n",
       "      <td>0</td>\n",
       "      <td>...</td>\n",
       "      <td>0</td>\n",
       "      <td>0</td>\n",
       "      <td>0</td>\n",
       "      <td>0</td>\n",
       "      <td>0</td>\n",
       "      <td>1</td>\n",
       "      <td>0</td>\n",
       "      <td>0</td>\n",
       "      <td>0.0</td>\n",
       "      <td>0.0</td>\n",
       "    </tr>\n",
       "    <tr>\n",
       "      <th>2</th>\n",
       "      <td>4</td>\n",
       "      <td>10747</td>\n",
       "      <td>0</td>\n",
       "      <td>3.295837</td>\n",
       "      <td>27</td>\n",
       "      <td>0</td>\n",
       "      <td>0</td>\n",
       "      <td>0</td>\n",
       "      <td>0</td>\n",
       "      <td>0</td>\n",
       "      <td>...</td>\n",
       "      <td>0</td>\n",
       "      <td>0</td>\n",
       "      <td>0</td>\n",
       "      <td>0</td>\n",
       "      <td>0</td>\n",
       "      <td>1</td>\n",
       "      <td>0</td>\n",
       "      <td>0</td>\n",
       "      <td>0.0</td>\n",
       "      <td>0.0</td>\n",
       "    </tr>\n",
       "    <tr>\n",
       "      <th>3</th>\n",
       "      <td>11</td>\n",
       "      <td>10607</td>\n",
       "      <td>1</td>\n",
       "      <td>2.197225</td>\n",
       "      <td>9</td>\n",
       "      <td>0</td>\n",
       "      <td>0</td>\n",
       "      <td>0</td>\n",
       "      <td>0</td>\n",
       "      <td>0</td>\n",
       "      <td>...</td>\n",
       "      <td>0</td>\n",
       "      <td>1</td>\n",
       "      <td>0</td>\n",
       "      <td>0</td>\n",
       "      <td>0</td>\n",
       "      <td>0</td>\n",
       "      <td>0</td>\n",
       "      <td>1</td>\n",
       "      <td>0.0</td>\n",
       "      <td>0.0</td>\n",
       "    </tr>\n",
       "    <tr>\n",
       "      <th>4</th>\n",
       "      <td>12</td>\n",
       "      <td>10831</td>\n",
       "      <td>0</td>\n",
       "      <td>3.295837</td>\n",
       "      <td>27</td>\n",
       "      <td>0</td>\n",
       "      <td>0</td>\n",
       "      <td>0</td>\n",
       "      <td>0</td>\n",
       "      <td>1</td>\n",
       "      <td>...</td>\n",
       "      <td>0</td>\n",
       "      <td>0</td>\n",
       "      <td>1</td>\n",
       "      <td>1</td>\n",
       "      <td>0</td>\n",
       "      <td>1</td>\n",
       "      <td>0</td>\n",
       "      <td>0</td>\n",
       "      <td>1.0</td>\n",
       "      <td>0.0</td>\n",
       "    </tr>\n",
       "  </tbody>\n",
       "</table>\n",
       "<p>5 rows × 26 columns</p>\n",
       "</div>"
      ],
      "text/plain": [
       "   index   abdt  tg  inuidur1  inuidur2  female  black  hispanic  othrace  \\\n",
       "0      0  10824   0  2.890372        18       0      0         0        0   \n",
       "1      3  10824   0  0.000000         1       0      0         0        0   \n",
       "2      4  10747   0  3.295837        27       0      0         0        0   \n",
       "3     11  10607   1  2.197225         9       0      0         0        0   \n",
       "4     12  10831   0  3.295837        27       0      0         0        0   \n",
       "\n",
       "   dep  ...  recall  agelt35  agegt54  durable  nondurable  lusd  husd  muld  \\\n",
       "0    2  ...       0        0        0        0           0     0     1     0   \n",
       "1    0  ...       0        0        0        0           0     1     0     0   \n",
       "2    0  ...       0        0        0        0           0     1     0     0   \n",
       "3    0  ...       0        1        0        0           0     0     0     1   \n",
       "4    1  ...       0        0        1        1           0     1     0     0   \n",
       "\n",
       "   dep1  dep2  \n",
       "0   0.0   1.0  \n",
       "1   0.0   0.0  \n",
       "2   0.0   0.0  \n",
       "3   0.0   0.0  \n",
       "4   1.0   0.0  \n",
       "\n",
       "[5 rows x 26 columns]"
      ]
     },
     "execution_count": 2,
     "metadata": {},
     "output_type": "execute_result"
    }
   ],
   "source": [
    "np.random.seed(1)\n",
    "df = fetch_bonus('DataFrame')\n",
    "df.head(5)"
   ]
  },
  {
   "cell_type": "code",
   "execution_count": 5,
   "id": "fe1221d5",
   "metadata": {},
   "outputs": [
    {
     "name": "stdout",
     "output_type": "stream",
     "text": [
      "(5099, 1) (5099, 1) (5099, 15)\n"
     ]
    }
   ],
   "source": [
    "outcome = 'inuidur1'\n",
    "treatment = 'tg'\n",
    "rest = ['female', 'black', 'othrace', 'dep1', 'dep2','q2', 'q3', 'q4', 'q5', 'q6', 'agelt35', 'agegt54','durable', 'lusd', 'husd']\n",
    "df = df[[outcome] + [treatment] + rest]\n",
    "y = np.array(df.inuidur1).reshape(-1, 1)\n",
    "d = np.array(df.tg).astype(int).reshape(-1, 1)\n",
    "x = np.array(df[rest])\n",
    "print(y.shape, d.shape, x.shape)"
   ]
  },
  {
   "cell_type": "markdown",
   "id": "b8448830",
   "metadata": {},
   "source": [
    "# First Stage"
   ]
  },
  {
   "cell_type": "code",
   "execution_count": 18,
   "id": "e42a800c",
   "metadata": {},
   "outputs": [
    {
     "name": "stdout",
     "output_type": "stream",
     "text": [
      "+-----------------------+-----------------------------+-----------------------------+\n",
      "|       Estimator       | Test Rsquared E[Y|X] = l(X) | Test Accuracy E[D|X] = m(X) |\n",
      "+-----------------------+-----------------------------+-----------------------------+\n",
      "|    Linear/Logistic    |            0.020            |            0.658            |\n",
      "| Linear/Logistic (Reg) |            0.019            |            0.658            |\n",
      "|     Random Forests    |            0.023            |            0.658            |\n",
      "|        Boosting       |            0.027            |            0.657            |\n",
      "|    Neural Networks    |            -0.034           |            0.621            |\n",
      "+-----------------------+-----------------------------+-----------------------------+\n"
     ]
    }
   ],
   "source": [
    "np.random.seed(42)\n",
    "table = PrettyTable()\n",
    "table.field_names = ['Estimator', 'Test Rsquared E[Y|X] = l(X)', 'Test Accuracy E[D|X] = m(X)']\n",
    "a = ['Linear/Logistic',np.mean(cross_val_score(LinearRegression(), x, y, cv=5)),\n",
    "     np.mean(cross_val_score(LogisticRegression(), x, d, cv=5))]\n",
    "table.add_row(a)\n",
    "a = ['Linear/Logistic (Reg)',np.mean(cross_val_score(LassoCV(), x, y, cv=5)),\n",
    "     np.mean(cross_val_score(LogisticRegressionCV(), x, d, cv=5))]\n",
    "table.add_row(a)\n",
    "a = ['Random Forests',np.mean(cross_val_score(RandomForestRegressor(max_depth=5,n_estimators=500,verbose=0), x, y, cv=5)),\n",
    "     np.mean(cross_val_score(RandomForestClassifier(max_depth=5, n_estimators=500), x, d, cv=5))]\n",
    "table.add_row(a)\n",
    "a = ['Boosting',np.mean(cross_val_score(XGBRegressor(max_depth=2,verbosity=0), x, y, cv=5)),\n",
    "     np.mean(cross_val_score(XGBClassifier(verbosity=0,max_depth=2), x, d, cv=5))]\n",
    "table.add_row(a)\n",
    "a = ['Neural Networks',np.mean(cross_val_score(MLPRegressor((100,),max_iter=1000, learning_rate_init=0.01), normalize(x), y, cv=5)),\n",
    "     np.mean(cross_val_score(MLPClassifier((100,), max_iter=1000,learning_rate_init=0.01), normalize(x), d, cv=5))]\n",
    "table.add_row(a)\n",
    "table.float_format = '0.3'\n",
    "print(table)"
   ]
  },
  {
   "cell_type": "markdown",
   "id": "74745986",
   "metadata": {},
   "source": [
    "# OLS"
   ]
  },
  {
   "cell_type": "code",
   "execution_count": 19,
   "id": "0691d6cb",
   "metadata": {},
   "outputs": [
    {
     "data": {
      "text/html": [
       "<table class=\"simpletable\">\n",
       "<caption>OLS Regression Results</caption>\n",
       "<tr>\n",
       "  <th>Dep. Variable:</th>            <td>y</td>        <th>  R-squared:         </th> <td>   0.029</td> \n",
       "</tr>\n",
       "<tr>\n",
       "  <th>Model:</th>                   <td>OLS</td>       <th>  Adj. R-squared:    </th> <td>   0.026</td> \n",
       "</tr>\n",
       "<tr>\n",
       "  <th>Method:</th>             <td>Least Squares</td>  <th>  F-statistic:       </th> <td>   9.534</td> \n",
       "</tr>\n",
       "<tr>\n",
       "  <th>Date:</th>             <td>Thu, 15 Dec 2022</td> <th>  Prob (F-statistic):</th> <td>6.23e-24</td> \n",
       "</tr>\n",
       "<tr>\n",
       "  <th>Time:</th>                 <td>22:53:17</td>     <th>  Log-Likelihood:    </th> <td> -8151.2</td> \n",
       "</tr>\n",
       "<tr>\n",
       "  <th>No. Observations:</th>      <td>  5099</td>      <th>  AIC:               </th> <td>1.634e+04</td>\n",
       "</tr>\n",
       "<tr>\n",
       "  <th>Df Residuals:</th>          <td>  5082</td>      <th>  BIC:               </th> <td>1.645e+04</td>\n",
       "</tr>\n",
       "<tr>\n",
       "  <th>Df Model:</th>              <td>    16</td>      <th>                     </th>     <td> </td>    \n",
       "</tr>\n",
       "<tr>\n",
       "  <th>Covariance Type:</th>      <td>nonrobust</td>    <th>                     </th>     <td> </td>    \n",
       "</tr>\n",
       "</table>\n",
       "<table class=\"simpletable\">\n",
       "<tr>\n",
       "    <td></td>       <th>coef</th>     <th>std err</th>      <th>t</th>      <th>P>|t|</th>  <th>[0.025</th>    <th>0.975]</th>  \n",
       "</tr>\n",
       "<tr>\n",
       "  <th>const</th> <td>    2.1785</td> <td>    0.159</td> <td>   13.700</td> <td> 0.000</td> <td>    1.867</td> <td>    2.490</td>\n",
       "</tr>\n",
       "<tr>\n",
       "  <th>x1</th>    <td>   -0.0717</td> <td>    0.035</td> <td>   -2.022</td> <td> 0.043</td> <td>   -0.141</td> <td>   -0.002</td>\n",
       "</tr>\n",
       "<tr>\n",
       "  <th>x2</th>    <td>    0.1264</td> <td>    0.035</td> <td>    3.629</td> <td> 0.000</td> <td>    0.058</td> <td>    0.195</td>\n",
       "</tr>\n",
       "<tr>\n",
       "  <th>x3</th>    <td>   -0.2938</td> <td>    0.053</td> <td>   -5.545</td> <td> 0.000</td> <td>   -0.398</td> <td>   -0.190</td>\n",
       "</tr>\n",
       "<tr>\n",
       "  <th>x4</th>    <td>   -0.4724</td> <td>    0.198</td> <td>   -2.381</td> <td> 0.017</td> <td>   -0.861</td> <td>   -0.084</td>\n",
       "</tr>\n",
       "<tr>\n",
       "  <th>x5</th>    <td>    0.0299</td> <td>    0.054</td> <td>    0.552</td> <td> 0.581</td> <td>   -0.076</td> <td>    0.136</td>\n",
       "</tr>\n",
       "<tr>\n",
       "  <th>x6</th>    <td>    0.0962</td> <td>    0.047</td> <td>    2.053</td> <td> 0.040</td> <td>    0.004</td> <td>    0.188</td>\n",
       "</tr>\n",
       "<tr>\n",
       "  <th>x7</th>    <td>    0.0737</td> <td>    0.157</td> <td>    0.470</td> <td> 0.639</td> <td>   -0.234</td> <td>    0.381</td>\n",
       "</tr>\n",
       "<tr>\n",
       "  <th>x8</th>    <td>   -0.0385</td> <td>    0.156</td> <td>   -0.246</td> <td> 0.806</td> <td>   -0.345</td> <td>    0.268</td>\n",
       "</tr>\n",
       "<tr>\n",
       "  <th>x9</th>    <td>   -0.0549</td> <td>    0.157</td> <td>   -0.351</td> <td> 0.726</td> <td>   -0.362</td> <td>    0.252</td>\n",
       "</tr>\n",
       "<tr>\n",
       "  <th>x10</th>   <td>   -0.1442</td> <td>    0.156</td> <td>   -0.925</td> <td> 0.355</td> <td>   -0.450</td> <td>    0.161</td>\n",
       "</tr>\n",
       "<tr>\n",
       "  <th>x11</th>   <td>    0.0034</td> <td>    0.166</td> <td>    0.020</td> <td> 0.984</td> <td>   -0.323</td> <td>    0.330</td>\n",
       "</tr>\n",
       "<tr>\n",
       "  <th>x12</th>   <td>   -0.1628</td> <td>    0.037</td> <td>   -4.403</td> <td> 0.000</td> <td>   -0.235</td> <td>   -0.090</td>\n",
       "</tr>\n",
       "<tr>\n",
       "  <th>x13</th>   <td>    0.2297</td> <td>    0.059</td> <td>    3.881</td> <td> 0.000</td> <td>    0.114</td> <td>    0.346</td>\n",
       "</tr>\n",
       "<tr>\n",
       "  <th>x14</th>   <td>    0.1266</td> <td>    0.048</td> <td>    2.629</td> <td> 0.009</td> <td>    0.032</td> <td>    0.221</td>\n",
       "</tr>\n",
       "<tr>\n",
       "  <th>x15</th>   <td>   -0.1754</td> <td>    0.041</td> <td>   -4.279</td> <td> 0.000</td> <td>   -0.256</td> <td>   -0.095</td>\n",
       "</tr>\n",
       "<tr>\n",
       "  <th>x16</th>   <td>   -0.1052</td> <td>    0.045</td> <td>   -2.343</td> <td> 0.019</td> <td>   -0.193</td> <td>   -0.017</td>\n",
       "</tr>\n",
       "</table>\n",
       "<table class=\"simpletable\">\n",
       "<tr>\n",
       "  <th>Omnibus:</th>       <td>1975.952</td> <th>  Durbin-Watson:     </th> <td>   1.989</td> \n",
       "</tr>\n",
       "<tr>\n",
       "  <th>Prob(Omnibus):</th>  <td> 0.000</td>  <th>  Jarque-Bera (JB):  </th> <td> 471.819</td> \n",
       "</tr>\n",
       "<tr>\n",
       "  <th>Skew:</th>           <td>-0.516</td>  <th>  Prob(JB):          </th> <td>3.51e-103</td>\n",
       "</tr>\n",
       "<tr>\n",
       "  <th>Kurtosis:</th>       <td> 1.924</td>  <th>  Cond. No.          </th> <td>    32.4</td> \n",
       "</tr>\n",
       "</table><br/><br/>Notes:<br/>[1] Standard Errors assume that the covariance matrix of the errors is correctly specified."
      ],
      "text/plain": [
       "<class 'statsmodels.iolib.summary.Summary'>\n",
       "\"\"\"\n",
       "                            OLS Regression Results                            \n",
       "==============================================================================\n",
       "Dep. Variable:                      y   R-squared:                       0.029\n",
       "Model:                            OLS   Adj. R-squared:                  0.026\n",
       "Method:                 Least Squares   F-statistic:                     9.534\n",
       "Date:                Thu, 15 Dec 2022   Prob (F-statistic):           6.23e-24\n",
       "Time:                        22:53:17   Log-Likelihood:                -8151.2\n",
       "No. Observations:                5099   AIC:                         1.634e+04\n",
       "Df Residuals:                    5082   BIC:                         1.645e+04\n",
       "Df Model:                          16                                         \n",
       "Covariance Type:            nonrobust                                         \n",
       "==============================================================================\n",
       "                 coef    std err          t      P>|t|      [0.025      0.975]\n",
       "------------------------------------------------------------------------------\n",
       "const          2.1785      0.159     13.700      0.000       1.867       2.490\n",
       "x1            -0.0717      0.035     -2.022      0.043      -0.141      -0.002\n",
       "x2             0.1264      0.035      3.629      0.000       0.058       0.195\n",
       "x3            -0.2938      0.053     -5.545      0.000      -0.398      -0.190\n",
       "x4            -0.4724      0.198     -2.381      0.017      -0.861      -0.084\n",
       "x5             0.0299      0.054      0.552      0.581      -0.076       0.136\n",
       "x6             0.0962      0.047      2.053      0.040       0.004       0.188\n",
       "x7             0.0737      0.157      0.470      0.639      -0.234       0.381\n",
       "x8            -0.0385      0.156     -0.246      0.806      -0.345       0.268\n",
       "x9            -0.0549      0.157     -0.351      0.726      -0.362       0.252\n",
       "x10           -0.1442      0.156     -0.925      0.355      -0.450       0.161\n",
       "x11            0.0034      0.166      0.020      0.984      -0.323       0.330\n",
       "x12           -0.1628      0.037     -4.403      0.000      -0.235      -0.090\n",
       "x13            0.2297      0.059      3.881      0.000       0.114       0.346\n",
       "x14            0.1266      0.048      2.629      0.009       0.032       0.221\n",
       "x15           -0.1754      0.041     -4.279      0.000      -0.256      -0.095\n",
       "x16           -0.1052      0.045     -2.343      0.019      -0.193      -0.017\n",
       "==============================================================================\n",
       "Omnibus:                     1975.952   Durbin-Watson:                   1.989\n",
       "Prob(Omnibus):                  0.000   Jarque-Bera (JB):              471.819\n",
       "Skew:                          -0.516   Prob(JB):                    3.51e-103\n",
       "Kurtosis:                       1.924   Cond. No.                         32.4\n",
       "==============================================================================\n",
       "\n",
       "Notes:\n",
       "[1] Standard Errors assume that the covariance matrix of the errors is correctly specified.\n",
       "\"\"\""
      ]
     },
     "execution_count": 19,
     "metadata": {},
     "output_type": "execute_result"
    }
   ],
   "source": [
    "OLS = sm.OLS(y,sm.add_constant(np.c_[d,x])).fit()\n",
    "OLS.summary()"
   ]
  },
  {
   "cell_type": "markdown",
   "id": "ae0712ed",
   "metadata": {},
   "source": [
    "# ML Estimation"
   ]
  },
  {
   "cell_type": "code",
   "execution_count": 10,
   "id": "25c4d154",
   "metadata": {},
   "outputs": [],
   "source": [
    "l = RandomForestRegressor(max_depth=5,n_estimators=500,verbose=0) # Model for E[Y|X]=E[θD+g(X)]\n",
    "g = RandomForestRegressor(max_depth=5,n_estimators=500,verbose=0) # Model for E[Y - θD|X]=g(X)\n",
    "m = RandomForestClassifier(max_depth=5,n_estimators=500,verbose=0) # Model for E[D|X]\n",
    "\n",
    "def score(y, d, l_hat, m_hat, g_hat, smpls):\n",
    "    \"Score function for Single ML\"\n",
    "    u_hat = y - g_hat\n",
    "    psi_a = -np.multiply(d, d)\n",
    "    psi_b = np.multiply(d, u_hat)\n",
    "    return psi_a, psi_b"
   ]
  },
  {
   "cell_type": "markdown",
   "id": "e8d63a3a",
   "metadata": {},
   "source": [
    "# Single-ML"
   ]
  },
  {
   "cell_type": "code",
   "execution_count": 11,
   "id": "0db6b608",
   "metadata": {},
   "outputs": [
    {
     "name": "stdout",
     "output_type": "stream",
     "text": [
      "       coef   std err         t     P>|t|     2.5 %   97.5 %\n",
      "tg -0.07236  0.028204 -2.565557  0.010301 -0.127639 -0.01708\n"
     ]
    }
   ],
   "source": [
    "data = DoubleMLData(df, y_col=outcome,d_cols=treatment,x_cols=rest)\n",
    "SML = DoubleMLPLR(data, l, m, g, n_folds=1, apply_cross_fitting=False, score=score)\n",
    "SML.fit()\n",
    "print(SML.summary)"
   ]
  },
  {
   "cell_type": "markdown",
   "id": "570313ff",
   "metadata": {},
   "source": [
    "# Orthogonal-ML"
   ]
  },
  {
   "cell_type": "code",
   "execution_count": 12,
   "id": "4c886179",
   "metadata": {},
   "outputs": [
    {
     "name": "stdout",
     "output_type": "stream",
     "text": [
      "        coef   std err         t     P>|t|     2.5 %    97.5 %\n",
      "tg -0.074555  0.034835 -2.140201  0.032339 -0.142831 -0.006279\n"
     ]
    }
   ],
   "source": [
    "data = DoubleMLData(df,y_col=outcome,d_cols=treatment,x_cols=rest)\n",
    "OML = DoubleMLPLR(data,l, m, g, n_folds=1,apply_cross_fitting=False,score='IV-type')\n",
    "OML.fit();\n",
    "print(OML.summary)"
   ]
  },
  {
   "cell_type": "markdown",
   "id": "79977e89",
   "metadata": {},
   "source": [
    "# Orthogonal + Crossfitting (DML)"
   ]
  },
  {
   "cell_type": "code",
   "execution_count": 15,
   "id": "2b5dc3b3",
   "metadata": {},
   "outputs": [
    {
     "name": "stdout",
     "output_type": "stream",
     "text": [
      "        coef   std err         t     P>|t|     2.5 %    97.5 %\n",
      "tg -0.070918  0.035426 -2.001898  0.045296 -0.140351 -0.001486\n"
     ]
    }
   ],
   "source": [
    "data = DoubleMLData(df,y_col=outcome,d_cols=treatment,x_cols=rest)\n",
    "DML = DoubleMLPLR(data, l,m,g, n_folds=10,apply_cross_fitting=True,score='IV-type')\n",
    "DML.fit();\n",
    "print(DML.summary)"
   ]
  },
  {
   "cell_type": "markdown",
   "id": "d441e6e9",
   "metadata": {},
   "source": [
    "# Summary"
   ]
  },
  {
   "cell_type": "code",
   "execution_count": 16,
   "id": "5b13036a",
   "metadata": {},
   "outputs": [
    {
     "name": "stdout",
     "output_type": "stream",
     "text": [
      "+---------------------+--------+-----------+--------+-------+--------+--------+\n",
      "|      Estimator      | θ_hat  | Std Error |   t    |   p   |  2.5%  | 97.25% |\n",
      "+---------------------+--------+-----------+--------+-------+--------+--------+\n",
      "|         OLS         | -0.072 |   0.035   | -2.022 | 0.043 |  nan   |  nan   |\n",
      "|   Single ML (SML)   | -0.072 |   0.028   | -2.566 | 0.010 | -0.128 | -0.017 |\n",
      "| Orthogonal ML (OML) | -0.075 |   0.035   | -2.140 | 0.032 | -0.143 | -0.006 |\n",
      "|   Double ML (DML)   | -0.071 |   0.035   | -2.002 | 0.045 | -0.140 | -0.001 |\n",
      "+---------------------+--------+-----------+--------+-------+--------+--------+\n"
     ]
    }
   ],
   "source": [
    "table = PrettyTable()\n",
    "table.field_names = ['Estimator', 'θ_hat', 'Std Error','t','p','2.5%','97.25%']\n",
    "idx = 1\n",
    "a = ['OLS']+ np.c_[OLS.params[idx], OLS.bse[idx], OLS.tvalues[idx], OLS.pvalues[idx], np.nan, np.nan].reshape(-1).tolist()\n",
    "table.add_row(a)\n",
    "a = ['Single ML (SML)']+ np.array(SML.summary).reshape(-1).tolist()\n",
    "table.add_row(a)\n",
    "a = ['Orthogonal ML (OML)']+ np.array(OML.summary).reshape(-1).tolist()\n",
    "table.add_row(a)\n",
    "a = ['Double ML (DML)']+ np.array(DML.summary).reshape(-1).tolist()\n",
    "table.add_row(a)\n",
    "table.float_format = '0.3'\n",
    "print(table)"
   ]
  },
  {
   "cell_type": "code",
   "execution_count": null,
   "id": "f3e96deb",
   "metadata": {},
   "outputs": [],
   "source": []
  }
 ],
 "metadata": {
  "kernelspec": {
   "display_name": "Python 3 (ipykernel)",
   "language": "python",
   "name": "python3"
  },
  "language_info": {
   "codemirror_mode": {
    "name": "ipython",
    "version": 3
   },
   "file_extension": ".py",
   "mimetype": "text/x-python",
   "name": "python",
   "nbconvert_exporter": "python",
   "pygments_lexer": "ipython3",
   "version": "3.10.9"
  }
 },
 "nbformat": 4,
 "nbformat_minor": 5
}
