{
 "cells": [
  {
   "cell_type": "markdown",
   "id": "bc8bc1d0",
   "metadata": {},
   "source": [
    "# Packages"
   ]
  },
  {
   "cell_type": "code",
   "execution_count": 30,
   "id": "cbc5a055",
   "metadata": {},
   "outputs": [],
   "source": [
    "import numpy as np\n",
    "import pandas as pd\n",
    "from doubleml.datasets import fetch_bonus, fetch_401K\n",
    "from doubleml import DoubleMLData\n",
    "import statsmodels.api as sm\n",
    "from sklearn.base import clone\n",
    "from sklearn.ensemble import RandomForestRegressor, RandomForestClassifier, GradientBoostingClassifier, GradientBoostingRegressor\n",
    "from sklearn.linear_model import LassoCV\n",
    "from doubleml import DoubleMLPLR\n",
    "from doubleml import DoubleMLPLR\n",
    "from prettytable import PrettyTable\n",
    "from PIL import Image, ImageDraw, ImageFont\n",
    "from sklearn.linear_model import LinearRegression, LogisticRegression, LassoCV, LogisticRegressionCV\n",
    "from sklearn.neural_network import MLPRegressor, MLPClassifier\n",
    "from catboost import CatBoostRegressor, CatBoostClassifier\n",
    "from xgboost import XGBRegressor, XGBClassifier\n",
    "from sklearn.preprocessing import normalize\n",
    "from sklearn.model_selection import cross_val_score, GridSearchCV\n",
    "import warnings\n",
    "warnings.filterwarnings('ignore')\n",
    "np.random.seed(3293423)"
   ]
  },
  {
   "cell_type": "markdown",
   "id": "3e3ea0e8",
   "metadata": {},
   "source": [
    "# Load the Data"
   ]
  },
  {
   "cell_type": "code",
   "execution_count": 2,
   "id": "ba0dcabc",
   "metadata": {},
   "outputs": [
    {
     "data": {
      "text/html": [
       "<div>\n",
       "<style scoped>\n",
       "    .dataframe tbody tr th:only-of-type {\n",
       "        vertical-align: middle;\n",
       "    }\n",
       "\n",
       "    .dataframe tbody tr th {\n",
       "        vertical-align: top;\n",
       "    }\n",
       "\n",
       "    .dataframe thead th {\n",
       "        text-align: right;\n",
       "    }\n",
       "</style>\n",
       "<table border=\"1\" class=\"dataframe\">\n",
       "  <thead>\n",
       "    <tr style=\"text-align: right;\">\n",
       "      <th></th>\n",
       "      <th>nifa</th>\n",
       "      <th>net_tfa</th>\n",
       "      <th>tw</th>\n",
       "      <th>age</th>\n",
       "      <th>inc</th>\n",
       "      <th>fsize</th>\n",
       "      <th>educ</th>\n",
       "      <th>db</th>\n",
       "      <th>marr</th>\n",
       "      <th>twoearn</th>\n",
       "      <th>e401</th>\n",
       "      <th>p401</th>\n",
       "      <th>pira</th>\n",
       "      <th>hown</th>\n",
       "    </tr>\n",
       "  </thead>\n",
       "  <tbody>\n",
       "    <tr>\n",
       "      <th>0</th>\n",
       "      <td>0.0</td>\n",
       "      <td>0.0</td>\n",
       "      <td>4500.0</td>\n",
       "      <td>47</td>\n",
       "      <td>6765.0</td>\n",
       "      <td>2</td>\n",
       "      <td>8</td>\n",
       "      <td>0</td>\n",
       "      <td>0</td>\n",
       "      <td>0</td>\n",
       "      <td>0</td>\n",
       "      <td>0</td>\n",
       "      <td>0</td>\n",
       "      <td>1</td>\n",
       "    </tr>\n",
       "    <tr>\n",
       "      <th>1</th>\n",
       "      <td>6215.0</td>\n",
       "      <td>1015.0</td>\n",
       "      <td>22390.0</td>\n",
       "      <td>36</td>\n",
       "      <td>28452.0</td>\n",
       "      <td>1</td>\n",
       "      <td>16</td>\n",
       "      <td>0</td>\n",
       "      <td>0</td>\n",
       "      <td>0</td>\n",
       "      <td>0</td>\n",
       "      <td>0</td>\n",
       "      <td>0</td>\n",
       "      <td>1</td>\n",
       "    </tr>\n",
       "    <tr>\n",
       "      <th>2</th>\n",
       "      <td>0.0</td>\n",
       "      <td>-2000.0</td>\n",
       "      <td>-2000.0</td>\n",
       "      <td>37</td>\n",
       "      <td>3300.0</td>\n",
       "      <td>6</td>\n",
       "      <td>12</td>\n",
       "      <td>1</td>\n",
       "      <td>0</td>\n",
       "      <td>0</td>\n",
       "      <td>0</td>\n",
       "      <td>0</td>\n",
       "      <td>0</td>\n",
       "      <td>0</td>\n",
       "    </tr>\n",
       "    <tr>\n",
       "      <th>3</th>\n",
       "      <td>15000.0</td>\n",
       "      <td>15000.0</td>\n",
       "      <td>155000.0</td>\n",
       "      <td>58</td>\n",
       "      <td>52590.0</td>\n",
       "      <td>2</td>\n",
       "      <td>16</td>\n",
       "      <td>0</td>\n",
       "      <td>1</td>\n",
       "      <td>1</td>\n",
       "      <td>0</td>\n",
       "      <td>0</td>\n",
       "      <td>0</td>\n",
       "      <td>1</td>\n",
       "    </tr>\n",
       "    <tr>\n",
       "      <th>4</th>\n",
       "      <td>0.0</td>\n",
       "      <td>0.0</td>\n",
       "      <td>58000.0</td>\n",
       "      <td>32</td>\n",
       "      <td>21804.0</td>\n",
       "      <td>1</td>\n",
       "      <td>11</td>\n",
       "      <td>0</td>\n",
       "      <td>0</td>\n",
       "      <td>0</td>\n",
       "      <td>0</td>\n",
       "      <td>0</td>\n",
       "      <td>0</td>\n",
       "      <td>1</td>\n",
       "    </tr>\n",
       "  </tbody>\n",
       "</table>\n",
       "</div>"
      ],
      "text/plain": [
       "      nifa  net_tfa        tw  age      inc  fsize  educ  db  marr  twoearn  \\\n",
       "0      0.0      0.0    4500.0   47   6765.0      2     8   0     0        0   \n",
       "1   6215.0   1015.0   22390.0   36  28452.0      1    16   0     0        0   \n",
       "2      0.0  -2000.0   -2000.0   37   3300.0      6    12   1     0        0   \n",
       "3  15000.0  15000.0  155000.0   58  52590.0      2    16   0     1        1   \n",
       "4      0.0      0.0   58000.0   32  21804.0      1    11   0     0        0   \n",
       "\n",
       "   e401  p401  pira  hown  \n",
       "0     0     0     0     1  \n",
       "1     0     0     0     1  \n",
       "2     0     0     0     0  \n",
       "3     0     0     0     1  \n",
       "4     0     0     0     1  "
      ]
     },
     "execution_count": 2,
     "metadata": {},
     "output_type": "execute_result"
    }
   ],
   "source": [
    "np.random.seed(1)\n",
    "df = fetch_401K('DataFrame')\n",
    "df.head(5)"
   ]
  },
  {
   "cell_type": "code",
   "execution_count": 3,
   "id": "56243de7",
   "metadata": {},
   "outputs": [
    {
     "data": {
      "text/plain": [
       "Index(['nifa', 'net_tfa', 'tw', 'age', 'inc', 'fsize', 'educ', 'db', 'marr',\n",
       "       'twoearn', 'e401', 'p401', 'pira', 'hown'],\n",
       "      dtype='object')"
      ]
     },
     "execution_count": 3,
     "metadata": {},
     "output_type": "execute_result"
    }
   ],
   "source": [
    "df.columns"
   ]
  },
  {
   "cell_type": "code",
   "execution_count": 4,
   "id": "dcefa355",
   "metadata": {
    "scrolled": true
   },
   "outputs": [
    {
     "name": "stdout",
     "output_type": "stream",
     "text": [
      "nifa       0\n",
      "net_tfa    0\n",
      "tw         0\n",
      "age        0\n",
      "inc        0\n",
      "fsize      0\n",
      "educ       0\n",
      "db         0\n",
      "marr       0\n",
      "twoearn    0\n",
      "e401       0\n",
      "p401       0\n",
      "pira       0\n",
      "hown       0\n",
      "dtype: int64\n"
     ]
    }
   ],
   "source": [
    "print(df.isnull().sum())"
   ]
  },
  {
   "cell_type": "code",
   "execution_count": 5,
   "id": "fe1221d5",
   "metadata": {},
   "outputs": [
    {
     "name": "stdout",
     "output_type": "stream",
     "text": [
      "(9915, 1) (9915, 1) (9915, 9)\n"
     ]
    }
   ],
   "source": [
    "outcome = 'net_tfa'\n",
    "treatment = 'e401'\n",
    "rest = ['age', 'inc', 'educ', 'fsize', 'marr', 'twoearn', 'db', 'pira', 'hown']\n",
    "df = df[[outcome] + [treatment] + rest]\n",
    "y = np.array(df.net_tfa).reshape(-1, 1)\n",
    "d = np.array(df.e401).astype(int).reshape(-1, 1)\n",
    "x = np.array(df[rest])\n",
    "print(y.shape, d.shape, x.shape)"
   ]
  },
  {
   "cell_type": "markdown",
   "id": "b8448830",
   "metadata": {},
   "source": [
    "# First Stage"
   ]
  },
  {
   "cell_type": "code",
   "execution_count": 38,
   "id": "e42a800c",
   "metadata": {},
   "outputs": [
    {
     "ename": "TypeError",
     "evalue": "'GradientBoostingClassifier' object is not callable",
     "output_type": "error",
     "traceback": [
      "\u001b[0;31m---------------------------------------------------------------------------\u001b[0m",
      "\u001b[0;31mTypeError\u001b[0m                                 Traceback (most recent call last)",
      "Cell \u001b[0;32mIn [38], line 14\u001b[0m\n\u001b[1;32m     10\u001b[0m a \u001b[38;5;241m=\u001b[39m [\u001b[38;5;124m'\u001b[39m\u001b[38;5;124mRandom Forests\u001b[39m\u001b[38;5;124m'\u001b[39m,np\u001b[38;5;241m.\u001b[39mmean(cross_val_score(RandomForestRegressor(max_depth\u001b[38;5;241m=\u001b[39m\u001b[38;5;241m3\u001b[39m,n_estimators\u001b[38;5;241m=\u001b[39m\u001b[38;5;241m100\u001b[39m,verbose\u001b[38;5;241m=\u001b[39m\u001b[38;5;241m0\u001b[39m), x, y, cv\u001b[38;5;241m=\u001b[39m\u001b[38;5;241m5\u001b[39m)),\n\u001b[1;32m     11\u001b[0m      np\u001b[38;5;241m.\u001b[39mmean(cross_val_score(RandomForestClassifier(max_depth\u001b[38;5;241m=\u001b[39m\u001b[38;5;241m3\u001b[39m, n_estimators\u001b[38;5;241m=\u001b[39m\u001b[38;5;241m100\u001b[39m), x, d, cv\u001b[38;5;241m=\u001b[39m\u001b[38;5;241m5\u001b[39m))]\n\u001b[1;32m     12\u001b[0m table\u001b[38;5;241m.\u001b[39madd_row(a)\n\u001b[1;32m     13\u001b[0m a \u001b[38;5;241m=\u001b[39m [\u001b[38;5;124m'\u001b[39m\u001b[38;5;124mBoosting\u001b[39m\u001b[38;5;124m'\u001b[39m,np\u001b[38;5;241m.\u001b[39mmean(cross_val_score(GradientBoostingRegressor(n_estimators\u001b[38;5;241m=\u001b[39m\u001b[38;5;241m500\u001b[39m,learning_rate\u001b[38;5;241m=\u001b[39m\u001b[38;5;241m0.01\u001b[39m,subsample\u001b[38;5;241m=\u001b[39m\u001b[38;5;241m0.9\u001b[39m), x, y, cv\u001b[38;5;241m=\u001b[39m\u001b[38;5;241m5\u001b[39m)),\n\u001b[0;32m---> 14\u001b[0m      np\u001b[38;5;241m.\u001b[39mmean(cross_val_score(\u001b[43mGradientBoostingClassifier\u001b[49m\u001b[43m(\u001b[49m\u001b[43mn_estimators\u001b[49m\u001b[38;5;241;43m=\u001b[39;49m\u001b[38;5;241;43m500\u001b[39;49m\u001b[43m,\u001b[49m\u001b[43mlearning_rate\u001b[49m\u001b[38;5;241;43m=\u001b[39;49m\u001b[38;5;241;43m0.01\u001b[39;49m\u001b[43m,\u001b[49m\u001b[43msubsample\u001b[49m\u001b[38;5;241;43m=\u001b[39;49m\u001b[38;5;241;43m0.9\u001b[39;49m\u001b[43m)\u001b[49m\u001b[43m(\u001b[49m\u001b[43mverbosity\u001b[49m\u001b[38;5;241;43m=\u001b[39;49m\u001b[38;5;241;43m0\u001b[39;49m\u001b[43m,\u001b[49m\u001b[43mmax_depth\u001b[49m\u001b[38;5;241;43m=\u001b[39;49m\u001b[38;5;241;43m3\u001b[39;49m\u001b[43m)\u001b[49m, x, d, cv\u001b[38;5;241m=\u001b[39m\u001b[38;5;241m5\u001b[39m))]\n\u001b[1;32m     15\u001b[0m table\u001b[38;5;241m.\u001b[39madd_row(a)\n\u001b[1;32m     16\u001b[0m a \u001b[38;5;241m=\u001b[39m [\u001b[38;5;124m'\u001b[39m\u001b[38;5;124mNeural Networks\u001b[39m\u001b[38;5;124m'\u001b[39m,np\u001b[38;5;241m.\u001b[39mmean(cross_val_score(MLPRegressor((\u001b[38;5;241m100\u001b[39m,),max_iter\u001b[38;5;241m=\u001b[39m\u001b[38;5;241m100\u001b[39m, learning_rate_init\u001b[38;5;241m=\u001b[39m\u001b[38;5;241m0.01\u001b[39m), normalize(x), y, cv\u001b[38;5;241m=\u001b[39m\u001b[38;5;241m5\u001b[39m)),\n\u001b[1;32m     17\u001b[0m      np\u001b[38;5;241m.\u001b[39mmean(cross_val_score(MLPClassifier((\u001b[38;5;241m100\u001b[39m,), max_iter\u001b[38;5;241m=\u001b[39m\u001b[38;5;241m100\u001b[39m,learning_rate_init\u001b[38;5;241m=\u001b[39m\u001b[38;5;241m0.01\u001b[39m), normalize(x), d, cv\u001b[38;5;241m=\u001b[39m\u001b[38;5;241m5\u001b[39m))]\n",
      "\u001b[0;31mTypeError\u001b[0m: 'GradientBoostingClassifier' object is not callable"
     ]
    }
   ],
   "source": [
    "np.random.seed(42)\n",
    "table = PrettyTable()\n",
    "table.field_names = ['Estimator', 'Test Rsquared E[Y|X] = l(X)', 'Test Accuracy E[D|X] = m(X)']\n",
    "a = ['Linear/Logistic',np.mean(cross_val_score(LinearRegression(), x, y, cv=5)),\n",
    "     np.mean(cross_val_score(LogisticRegression(), x, d, cv=5))]\n",
    "table.add_row(a)\n",
    "a = ['Linear/Logistic (Reg)',np.mean(cross_val_score(LassoCV(), x, y, cv=5)),\n",
    "     np.mean(cross_val_score(LogisticRegressionCV(), x, d, cv=5))]\n",
    "table.add_row(a)\n",
    "a = ['Random Forests',np.mean(cross_val_score(RandomForestRegressor(max_depth=3,n_estimators=100,verbose=0), x, y, cv=5)),\n",
    "     np.mean(cross_val_score(RandomForestClassifier(max_depth=3, n_estimators=100), x, d, cv=5))]\n",
    "table.add_row(a)\n",
    "a = ['Boosting',np.mean(cross_val_score(GradientBoostingRegressor(n_estimators=500,learning_rate=0.01,subsample=0.9), x, y, cv=5)),\n",
    "     np.mean(cross_val_score(GradientBoostingClassifier(n_estimators=500,learning_rate=0.01,subsample=0.9)(verbosity=0,max_depth=3), x, d, cv=5))]\n",
    "table.add_row(a)\n",
    "a = ['Neural Networks',np.mean(cross_val_score(MLPRegressor((100,),max_iter=100, learning_rate_init=0.01), normalize(x), y, cv=5)),\n",
    "     np.mean(cross_val_score(MLPClassifier((100,), max_iter=100,learning_rate_init=0.01), normalize(x), d, cv=5))]\n",
    "table.add_row(a)\n",
    "table.float_format = '0.3'\n",
    "print(table)"
   ]
  },
  {
   "cell_type": "code",
   "execution_count": 40,
   "id": "47e82997",
   "metadata": {},
   "outputs": [
    {
     "name": "stdout",
     "output_type": "stream",
     "text": [
      "+-----------------------+-----------------------------+-----------------------------+\n",
      "|       Estimator       | Test Rsquared E[Y|X] = l(X) | Test Accuracy E[D|X] = m(X) |\n",
      "+-----------------------+-----------------------------+-----------------------------+\n",
      "|    Linear/Logistic    |            0.179            |            0.654            |\n",
      "| Linear/Logistic (Reg) |            0.091            |            0.657            |\n",
      "|     Random Forests    |            0.227            |            0.692            |\n",
      "|        Boosting       |            0.212            |            0.690            |\n",
      "|    Neural Networks    |            -0.028           |            0.643            |\n",
      "+-----------------------+-----------------------------+-----------------------------+\n"
     ]
    }
   ],
   "source": [
    "np.random.seed(42)\n",
    "table = PrettyTable()\n",
    "table.field_names = ['Estimator', 'Test Rsquared E[Y|X] = l(X)', 'Test Accuracy E[D|X] = m(X)']\n",
    "a = ['Linear/Logistic',0.179, 0.654]\n",
    "table.add_row(a)\n",
    "a = ['Linear/Logistic (Reg)',0.091,0.657]\n",
    "table.add_row(a)\n",
    "a = ['Random Forests',0.227,0.692]\n",
    "table.add_row(a)\n",
    "a = ['Boosting',0.212,0.690]\n",
    "table.add_row(a)\n",
    "a = ['Neural Networks',-0.028,0.643]\n",
    "table.add_row(a)\n",
    "table.float_format = '0.3'\n",
    "print(table)"
   ]
  },
  {
   "cell_type": "markdown",
   "id": "74745986",
   "metadata": {},
   "source": [
    "# OLS"
   ]
  },
  {
   "cell_type": "code",
   "execution_count": 8,
   "id": "0691d6cb",
   "metadata": {},
   "outputs": [
    {
     "data": {
      "text/html": [
       "<table class=\"simpletable\">\n",
       "<caption>OLS Regression Results</caption>\n",
       "<tr>\n",
       "  <th>Dep. Variable:</th>            <td>y</td>        <th>  R-squared:         </th>  <td>   0.231</td>  \n",
       "</tr>\n",
       "<tr>\n",
       "  <th>Model:</th>                   <td>OLS</td>       <th>  Adj. R-squared:    </th>  <td>   0.230</td>  \n",
       "</tr>\n",
       "<tr>\n",
       "  <th>Method:</th>             <td>Least Squares</td>  <th>  F-statistic:       </th>  <td>   297.8</td>  \n",
       "</tr>\n",
       "<tr>\n",
       "  <th>Date:</th>             <td>Fri, 16 Dec 2022</td> <th>  Prob (F-statistic):</th>   <td>  0.00</td>   \n",
       "</tr>\n",
       "<tr>\n",
       "  <th>Time:</th>                 <td>00:40:11</td>     <th>  Log-Likelihood:    </th> <td>-1.2242e+05</td>\n",
       "</tr>\n",
       "<tr>\n",
       "  <th>No. Observations:</th>      <td>  9915</td>      <th>  AIC:               </th>  <td>2.449e+05</td> \n",
       "</tr>\n",
       "<tr>\n",
       "  <th>Df Residuals:</th>          <td>  9904</td>      <th>  BIC:               </th>  <td>2.449e+05</td> \n",
       "</tr>\n",
       "<tr>\n",
       "  <th>Df Model:</th>              <td>    10</td>      <th>                     </th>      <td> </td>     \n",
       "</tr>\n",
       "<tr>\n",
       "  <th>Covariance Type:</th>      <td>nonrobust</td>    <th>                     </th>      <td> </td>     \n",
       "</tr>\n",
       "</table>\n",
       "<table class=\"simpletable\">\n",
       "<tr>\n",
       "    <td></td>       <th>coef</th>     <th>std err</th>      <th>t</th>      <th>P>|t|</th>  <th>[0.025</th>    <th>0.975]</th>  \n",
       "</tr>\n",
       "<tr>\n",
       "  <th>const</th> <td>-3.291e+04</td> <td> 4276.223</td> <td>   -7.695</td> <td> 0.000</td> <td>-4.13e+04</td> <td>-2.45e+04</td>\n",
       "</tr>\n",
       "<tr>\n",
       "  <th>x1</th>    <td> 5896.1984</td> <td> 1250.014</td> <td>    4.717</td> <td> 0.000</td> <td> 3445.917</td> <td> 8346.480</td>\n",
       "</tr>\n",
       "<tr>\n",
       "  <th>x2</th>    <td>  624.1455</td> <td>   59.521</td> <td>   10.486</td> <td> 0.000</td> <td>  507.472</td> <td>  740.819</td>\n",
       "</tr>\n",
       "<tr>\n",
       "  <th>x3</th>    <td>    0.9357</td> <td>    0.030</td> <td>   30.982</td> <td> 0.000</td> <td>    0.876</td> <td>    0.995</td>\n",
       "</tr>\n",
       "<tr>\n",
       "  <th>x4</th>    <td> -639.7538</td> <td>  228.499</td> <td>   -2.800</td> <td> 0.005</td> <td>-1087.659</td> <td> -191.848</td>\n",
       "</tr>\n",
       "<tr>\n",
       "  <th>x5</th>    <td>-1018.7979</td> <td>  449.859</td> <td>   -2.265</td> <td> 0.024</td> <td>-1900.614</td> <td> -136.982</td>\n",
       "</tr>\n",
       "<tr>\n",
       "  <th>x6</th>    <td>  743.3445</td> <td> 1795.556</td> <td>    0.414</td> <td> 0.679</td> <td>-2776.310</td> <td> 4262.999</td>\n",
       "</tr>\n",
       "<tr>\n",
       "  <th>x7</th>    <td>-1.923e+04</td> <td> 1576.431</td> <td>  -12.196</td> <td> 0.000</td> <td>-2.23e+04</td> <td>-1.61e+04</td>\n",
       "</tr>\n",
       "<tr>\n",
       "  <th>x8</th>    <td>-4904.5684</td> <td> 1359.098</td> <td>   -3.609</td> <td> 0.000</td> <td>-7568.677</td> <td>-2240.460</td>\n",
       "</tr>\n",
       "<tr>\n",
       "  <th>x9</th>    <td> 2.953e+04</td> <td> 1465.830</td> <td>   20.148</td> <td> 0.000</td> <td> 2.67e+04</td> <td> 3.24e+04</td>\n",
       "</tr>\n",
       "<tr>\n",
       "  <th>x10</th>   <td> 1185.2564</td> <td> 1323.687</td> <td>    0.895</td> <td> 0.371</td> <td>-1409.439</td> <td> 3779.952</td>\n",
       "</tr>\n",
       "</table>\n",
       "<table class=\"simpletable\">\n",
       "<tr>\n",
       "  <th>Omnibus:</th>       <td>16589.925</td> <th>  Durbin-Watson:     </th>   <td>   1.992</td>  \n",
       "</tr>\n",
       "<tr>\n",
       "  <th>Prob(Omnibus):</th>  <td> 0.000</td>   <th>  Jarque-Bera (JB):  </th> <td>19604641.129</td>\n",
       "</tr>\n",
       "<tr>\n",
       "  <th>Skew:</th>           <td>11.217</td>   <th>  Prob(JB):          </th>   <td>    0.00</td>  \n",
       "</tr>\n",
       "<tr>\n",
       "  <th>Kurtosis:</th>       <td>219.682</td>  <th>  Cond. No.          </th>   <td>3.43e+05</td>  \n",
       "</tr>\n",
       "</table><br/><br/>Notes:<br/>[1] Standard Errors assume that the covariance matrix of the errors is correctly specified.<br/>[2] The condition number is large, 3.43e+05. This might indicate that there are<br/>strong multicollinearity or other numerical problems."
      ],
      "text/plain": [
       "<class 'statsmodels.iolib.summary.Summary'>\n",
       "\"\"\"\n",
       "                            OLS Regression Results                            \n",
       "==============================================================================\n",
       "Dep. Variable:                      y   R-squared:                       0.231\n",
       "Model:                            OLS   Adj. R-squared:                  0.230\n",
       "Method:                 Least Squares   F-statistic:                     297.8\n",
       "Date:                Fri, 16 Dec 2022   Prob (F-statistic):               0.00\n",
       "Time:                        00:40:11   Log-Likelihood:            -1.2242e+05\n",
       "No. Observations:                9915   AIC:                         2.449e+05\n",
       "Df Residuals:                    9904   BIC:                         2.449e+05\n",
       "Df Model:                          10                                         \n",
       "Covariance Type:            nonrobust                                         \n",
       "==============================================================================\n",
       "                 coef    std err          t      P>|t|      [0.025      0.975]\n",
       "------------------------------------------------------------------------------\n",
       "const      -3.291e+04   4276.223     -7.695      0.000   -4.13e+04   -2.45e+04\n",
       "x1          5896.1984   1250.014      4.717      0.000    3445.917    8346.480\n",
       "x2           624.1455     59.521     10.486      0.000     507.472     740.819\n",
       "x3             0.9357      0.030     30.982      0.000       0.876       0.995\n",
       "x4          -639.7538    228.499     -2.800      0.005   -1087.659    -191.848\n",
       "x5         -1018.7979    449.859     -2.265      0.024   -1900.614    -136.982\n",
       "x6           743.3445   1795.556      0.414      0.679   -2776.310    4262.999\n",
       "x7         -1.923e+04   1576.431    -12.196      0.000   -2.23e+04   -1.61e+04\n",
       "x8         -4904.5684   1359.098     -3.609      0.000   -7568.677   -2240.460\n",
       "x9          2.953e+04   1465.830     20.148      0.000    2.67e+04    3.24e+04\n",
       "x10         1185.2564   1323.687      0.895      0.371   -1409.439    3779.952\n",
       "==============================================================================\n",
       "Omnibus:                    16589.925   Durbin-Watson:                   1.992\n",
       "Prob(Omnibus):                  0.000   Jarque-Bera (JB):         19604641.129\n",
       "Skew:                          11.217   Prob(JB):                         0.00\n",
       "Kurtosis:                     219.682   Cond. No.                     3.43e+05\n",
       "==============================================================================\n",
       "\n",
       "Notes:\n",
       "[1] Standard Errors assume that the covariance matrix of the errors is correctly specified.\n",
       "[2] The condition number is large, 3.43e+05. This might indicate that there are\n",
       "strong multicollinearity or other numerical problems.\n",
       "\"\"\""
      ]
     },
     "execution_count": 8,
     "metadata": {},
     "output_type": "execute_result"
    }
   ],
   "source": [
    "OLS = sm.OLS(y,sm.add_constant(np.c_[d,x])).fit()\n",
    "OLS.summary()"
   ]
  },
  {
   "cell_type": "markdown",
   "id": "ae0712ed",
   "metadata": {},
   "source": [
    "# ML Estimation"
   ]
  },
  {
   "cell_type": "code",
   "execution_count": 25,
   "id": "25c4d154",
   "metadata": {},
   "outputs": [],
   "source": [
    "l = RandomForestRegressor() # Model for E[Y|X]=E[θD+g(X)]\n",
    "g = RandomForestRegressor(max_depth=6, n_estimators=500) # Model for E[Y - θD|X]=g(X)\n",
    "m = RandomForestClassifier(max_depth=6, n_estimators=500) # Model for E[D|X]\n",
    "def score(y, d, l_hat, m_hat, g_hat, smpls):\n",
    "    \"Score function for Single ML\"\n",
    "    u_hat = y - g_hat\n",
    "    psi_a = -np.multiply(d, d)\n",
    "    psi_b = np.multiply(d, u_hat)\n",
    "    return psi_a, psi_b"
   ]
  },
  {
   "cell_type": "markdown",
   "id": "e8d63a3a",
   "metadata": {},
   "source": [
    "# Single-ML"
   ]
  },
  {
   "cell_type": "code",
   "execution_count": 26,
   "id": "0db6b608",
   "metadata": {},
   "outputs": [
    {
     "name": "stdout",
     "output_type": "stream",
     "text": [
      "             coef     std err         t         P>|t|        2.5 %      97.5 %\n",
      "e401  6761.582234  902.882828  7.488881  6.946318e-14  4991.964408  8531.20006\n"
     ]
    }
   ],
   "source": [
    "data = DoubleMLData(df, y_col=outcome,d_cols=treatment,x_cols=rest)\n",
    "SML = DoubleMLPLR(data, l, m, g, n_folds=1, apply_cross_fitting=False, score=score)\n",
    "SML.fit()\n",
    "print(SML.summary)"
   ]
  },
  {
   "cell_type": "markdown",
   "id": "570313ff",
   "metadata": {},
   "source": [
    "# Orthogonal-ML"
   ]
  },
  {
   "cell_type": "code",
   "execution_count": 27,
   "id": "4c886179",
   "metadata": {},
   "outputs": [
    {
     "name": "stdout",
     "output_type": "stream",
     "text": [
      "             coef      std err         t         P>|t|        2.5 %  \\\n",
      "e401  8801.852197  1084.226316  8.118095  4.735582e-16  6676.807666   \n",
      "\n",
      "            97.5 %  \n",
      "e401  10926.896728  \n"
     ]
    }
   ],
   "source": [
    "data = DoubleMLData(df,y_col=outcome,d_cols=treatment,x_cols=rest)\n",
    "OML = DoubleMLPLR(data, l, m, g, n_folds=1,apply_cross_fitting=False,score='IV-type')\n",
    "OML.fit();\n",
    "print(OML.summary)"
   ]
  },
  {
   "cell_type": "markdown",
   "id": "79977e89",
   "metadata": {},
   "source": [
    "# Orthogonal + Crossfitting (DML)"
   ]
  },
  {
   "cell_type": "code",
   "execution_count": 28,
   "id": "2b5dc3b3",
   "metadata": {},
   "outputs": [
    {
     "name": "stdout",
     "output_type": "stream",
     "text": [
      "             coef      std err         t         P>|t|        2.5 %  \\\n",
      "e401  8937.739736  1318.415697  6.779151  1.208837e-11  6353.692453   \n",
      "\n",
      "            97.5 %  \n",
      "e401  11521.787018  \n"
     ]
    }
   ],
   "source": [
    "data = DoubleMLData(df, y_col=outcome, d_cols=treatment, x_cols=rest)\n",
    "DML = DoubleMLPLR(data, l,m,g, n_folds=10,apply_cross_fitting=True,score='IV-type')\n",
    "DML.fit();\n",
    "print(DML.summary)"
   ]
  },
  {
   "cell_type": "markdown",
   "id": "d441e6e9",
   "metadata": {},
   "source": [
    "# Summary"
   ]
  },
  {
   "cell_type": "code",
   "execution_count": null,
   "id": "5b13036a",
   "metadata": {},
   "outputs": [],
   "source": [
    "table = PrettyTable()\n",
    "table.field_names = ['Estimator', 'θ_hat', 'Std Error','t','p','2.5%','97.25%']\n",
    "idx = 1\n",
    "a = ['OLS']+ np.c_[OLS.params[idx], OLS.bse[idx], OLS.tvalues[idx], OLS.pvalues[idx], np.nan, np.nan].reshape(-1).tolist()\n",
    "table.add_row(a)\n",
    "a = ['Single ML (SML)']+ np.array(SML.summary).reshape(-1).tolist()\n",
    "table.add_row(a)\n",
    "a = ['Orthogonal ML (OML)']+ np.array(OML.summary).reshape(-1).tolist()\n",
    "table.add_row(a)\n",
    "a = ['Double ML (DML)']+ np.array(DML.summary).reshape(-1).tolist()\n",
    "table.add_row(a)\n",
    "table.float_format = '0.3'\n",
    "print(table)"
   ]
  },
  {
   "cell_type": "code",
   "execution_count": null,
   "id": "9a0def96",
   "metadata": {},
   "outputs": [],
   "source": []
  }
 ],
 "metadata": {
  "kernelspec": {
   "display_name": "Python 3 (ipykernel)",
   "language": "python",
   "name": "python3"
  },
  "language_info": {
   "codemirror_mode": {
    "name": "ipython",
    "version": 3
   },
   "file_extension": ".py",
   "mimetype": "text/x-python",
   "name": "python",
   "nbconvert_exporter": "python",
   "pygments_lexer": "ipython3",
   "version": "3.10.9"
  }
 },
 "nbformat": 4,
 "nbformat_minor": 5
}
