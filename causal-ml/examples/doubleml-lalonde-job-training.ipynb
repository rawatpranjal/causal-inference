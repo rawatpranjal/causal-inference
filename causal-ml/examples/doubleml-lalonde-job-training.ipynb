{
 "cells": [
  {
   "cell_type": "markdown",
   "id": "bc8bc1d0",
   "metadata": {},
   "source": [
    "# Packages"
   ]
  },
  {
   "cell_type": "code",
   "execution_count": 46,
   "id": "cbc5a055",
   "metadata": {},
   "outputs": [],
   "source": [
    "import numpy as np\n",
    "import pandas as pd\n",
    "from doubleml.datasets import fetch_bonus\n",
    "from doubleml import DoubleMLData\n",
    "import statsmodels.api as sm\n",
    "from sklearn.base import clone\n",
    "from sklearn.ensemble import RandomForestRegressor, RandomForestClassifier, GradientBoostingRegressor, GradientBoostingClassifier\n",
    "from sklearn.linear_model import LassoCV\n",
    "from doubleml import DoubleMLPLR\n",
    "from doubleml import DoubleMLPLR\n",
    "from prettytable import PrettyTable\n",
    "from PIL import Image, ImageDraw, ImageFont\n",
    "from sklearn.linear_model import LinearRegression, LogisticRegression, LassoCV, LogisticRegressionCV\n",
    "from sklearn.neural_network import MLPRegressor, MLPClassifier\n",
    "from catboost import CatBoostRegressor, CatBoostClassifier\n",
    "from xgboost import XGBRegressor, XGBClassifier\n",
    "from sklearn.preprocessing import normalize\n",
    "from sklearn.model_selection import cross_val_score, GridSearchCV\n",
    "import warnings\n",
    "warnings.filterwarnings('ignore')\n",
    "np.random.seed(3293423)"
   ]
  },
  {
   "cell_type": "markdown",
   "id": "3e3ea0e8",
   "metadata": {},
   "source": [
    "# Load the Data"
   ]
  },
  {
   "cell_type": "code",
   "execution_count": 47,
   "id": "ba0dcabc",
   "metadata": {},
   "outputs": [
    {
     "name": "stdout",
     "output_type": "stream",
     "text": [
      "(445, 19)\n"
     ]
    },
    {
     "data": {
      "text/html": [
       "<div>\n",
       "<style scoped>\n",
       "    .dataframe tbody tr th:only-of-type {\n",
       "        vertical-align: middle;\n",
       "    }\n",
       "\n",
       "    .dataframe tbody tr th {\n",
       "        vertical-align: top;\n",
       "    }\n",
       "\n",
       "    .dataframe thead th {\n",
       "        text-align: right;\n",
       "    }\n",
       "</style>\n",
       "<table border=\"1\" class=\"dataframe\">\n",
       "  <thead>\n",
       "    <tr style=\"text-align: right;\">\n",
       "      <th></th>\n",
       "      <th>train</th>\n",
       "      <th>age</th>\n",
       "      <th>educ</th>\n",
       "      <th>black</th>\n",
       "      <th>hisp</th>\n",
       "      <th>married</th>\n",
       "      <th>nodegree</th>\n",
       "      <th>mosinex</th>\n",
       "      <th>re74</th>\n",
       "      <th>re75</th>\n",
       "      <th>re78</th>\n",
       "      <th>unem74</th>\n",
       "      <th>unem75</th>\n",
       "      <th>unem78</th>\n",
       "      <th>lre74</th>\n",
       "      <th>lre75</th>\n",
       "      <th>lre78</th>\n",
       "      <th>agesq</th>\n",
       "      <th>mostrn</th>\n",
       "    </tr>\n",
       "  </thead>\n",
       "  <tbody>\n",
       "    <tr>\n",
       "      <th>0</th>\n",
       "      <td>1</td>\n",
       "      <td>37</td>\n",
       "      <td>11</td>\n",
       "      <td>1</td>\n",
       "      <td>0</td>\n",
       "      <td>1</td>\n",
       "      <td>1</td>\n",
       "      <td>13</td>\n",
       "      <td>0.0</td>\n",
       "      <td>0.0</td>\n",
       "      <td>9.93005</td>\n",
       "      <td>1</td>\n",
       "      <td>1</td>\n",
       "      <td>0</td>\n",
       "      <td>0.0</td>\n",
       "      <td>0.0</td>\n",
       "      <td>2.295566</td>\n",
       "      <td>1369</td>\n",
       "      <td>13</td>\n",
       "    </tr>\n",
       "    <tr>\n",
       "      <th>1</th>\n",
       "      <td>1</td>\n",
       "      <td>22</td>\n",
       "      <td>9</td>\n",
       "      <td>0</td>\n",
       "      <td>1</td>\n",
       "      <td>0</td>\n",
       "      <td>1</td>\n",
       "      <td>13</td>\n",
       "      <td>0.0</td>\n",
       "      <td>0.0</td>\n",
       "      <td>3.59589</td>\n",
       "      <td>1</td>\n",
       "      <td>1</td>\n",
       "      <td>0</td>\n",
       "      <td>0.0</td>\n",
       "      <td>0.0</td>\n",
       "      <td>1.279792</td>\n",
       "      <td>484</td>\n",
       "      <td>13</td>\n",
       "    </tr>\n",
       "    <tr>\n",
       "      <th>2</th>\n",
       "      <td>1</td>\n",
       "      <td>30</td>\n",
       "      <td>12</td>\n",
       "      <td>1</td>\n",
       "      <td>0</td>\n",
       "      <td>0</td>\n",
       "      <td>0</td>\n",
       "      <td>13</td>\n",
       "      <td>0.0</td>\n",
       "      <td>0.0</td>\n",
       "      <td>24.90950</td>\n",
       "      <td>1</td>\n",
       "      <td>1</td>\n",
       "      <td>0</td>\n",
       "      <td>0.0</td>\n",
       "      <td>0.0</td>\n",
       "      <td>3.215249</td>\n",
       "      <td>900</td>\n",
       "      <td>13</td>\n",
       "    </tr>\n",
       "    <tr>\n",
       "      <th>3</th>\n",
       "      <td>1</td>\n",
       "      <td>27</td>\n",
       "      <td>11</td>\n",
       "      <td>1</td>\n",
       "      <td>0</td>\n",
       "      <td>0</td>\n",
       "      <td>1</td>\n",
       "      <td>13</td>\n",
       "      <td>0.0</td>\n",
       "      <td>0.0</td>\n",
       "      <td>7.50615</td>\n",
       "      <td>1</td>\n",
       "      <td>1</td>\n",
       "      <td>0</td>\n",
       "      <td>0.0</td>\n",
       "      <td>0.0</td>\n",
       "      <td>2.015723</td>\n",
       "      <td>729</td>\n",
       "      <td>13</td>\n",
       "    </tr>\n",
       "    <tr>\n",
       "      <th>4</th>\n",
       "      <td>1</td>\n",
       "      <td>33</td>\n",
       "      <td>8</td>\n",
       "      <td>1</td>\n",
       "      <td>0</td>\n",
       "      <td>0</td>\n",
       "      <td>1</td>\n",
       "      <td>13</td>\n",
       "      <td>0.0</td>\n",
       "      <td>0.0</td>\n",
       "      <td>0.28979</td>\n",
       "      <td>1</td>\n",
       "      <td>1</td>\n",
       "      <td>0</td>\n",
       "      <td>0.0</td>\n",
       "      <td>0.0</td>\n",
       "      <td>-1.238599</td>\n",
       "      <td>1089</td>\n",
       "      <td>13</td>\n",
       "    </tr>\n",
       "  </tbody>\n",
       "</table>\n",
       "</div>"
      ],
      "text/plain": [
       "   train  age  educ  black  hisp  married  nodegree  mosinex  re74  re75  \\\n",
       "0      1   37    11      1     0        1         1       13   0.0   0.0   \n",
       "1      1   22     9      0     1        0         1       13   0.0   0.0   \n",
       "2      1   30    12      1     0        0         0       13   0.0   0.0   \n",
       "3      1   27    11      1     0        0         1       13   0.0   0.0   \n",
       "4      1   33     8      1     0        0         1       13   0.0   0.0   \n",
       "\n",
       "       re78  unem74  unem75  unem78  lre74  lre75     lre78  agesq  mostrn  \n",
       "0   9.93005       1       1       0    0.0    0.0  2.295566   1369      13  \n",
       "1   3.59589       1       1       0    0.0    0.0  1.279792    484      13  \n",
       "2  24.90950       1       1       0    0.0    0.0  3.215249    900      13  \n",
       "3   7.50615       1       1       0    0.0    0.0  2.015723    729      13  \n",
       "4   0.28979       1       1       0    0.0    0.0 -1.238599   1089      13  "
      ]
     },
     "execution_count": 47,
     "metadata": {},
     "output_type": "execute_result"
    }
   ],
   "source": [
    "import wooldridge\n",
    "df = wooldridge.data('jtrain2')\n",
    "#df = df[df.re78>0]\n",
    "print(df.shape)\n",
    "df.head()"
   ]
  },
  {
   "cell_type": "code",
   "execution_count": 48,
   "id": "dcefa355",
   "metadata": {},
   "outputs": [
    {
     "name": "stdout",
     "output_type": "stream",
     "text": [
      "train       0\n",
      "age         0\n",
      "educ        0\n",
      "black       0\n",
      "hisp        0\n",
      "married     0\n",
      "nodegree    0\n",
      "mosinex     0\n",
      "re74        0\n",
      "re75        0\n",
      "re78        0\n",
      "unem74      0\n",
      "unem75      0\n",
      "unem78      0\n",
      "lre74       0\n",
      "lre75       0\n",
      "lre78       0\n",
      "agesq       0\n",
      "mostrn      0\n",
      "dtype: int64\n"
     ]
    }
   ],
   "source": [
    "print(df.isnull().sum())"
   ]
  },
  {
   "cell_type": "code",
   "execution_count": 49,
   "id": "fe1221d5",
   "metadata": {},
   "outputs": [
    {
     "name": "stdout",
     "output_type": "stream",
     "text": [
      "(445, 1) (445, 1) (445, 7)\n"
     ]
    }
   ],
   "source": [
    "outcome = 're78'\n",
    "treatment = 'train'\n",
    "rest = ['age', 'educ', 'black', 'hisp', 'married', 're74', 're75']\n",
    "df = df[[outcome] + [treatment] + rest]\n",
    "y = np.array(df.re78).reshape(-1, 1)\n",
    "d = np.array(df.train).astype(int).reshape(-1, 1)\n",
    "x = np.array(df[rest])\n",
    "print(y.shape, d.shape, x.shape)"
   ]
  },
  {
   "cell_type": "markdown",
   "id": "b8448830",
   "metadata": {},
   "source": [
    "# First Stage"
   ]
  },
  {
   "cell_type": "code",
   "execution_count": 58,
   "id": "e42a800c",
   "metadata": {},
   "outputs": [
    {
     "name": "stdout",
     "output_type": "stream",
     "text": [
      "+-----------------------+-----------------------------+-----------------------------+\n",
      "|       Estimator       | Test Rsquared E[Y|X] = l(X) | Test Accuracy E[D|X] = m(X) |\n",
      "+-----------------------+-----------------------------+-----------------------------+\n",
      "|    Linear/Logistic    |            -0.076           |            0.548            |\n",
      "| Linear/Logistic (Reg) |            -0.059           |            0.551            |\n",
      "|     Random Forests    |            -0.100           |            0.553            |\n",
      "|        Boosting       |            -0.436           |            0.542            |\n",
      "|    Neural Networks    |            -0.073           |            0.557            |\n",
      "+-----------------------+-----------------------------+-----------------------------+\n"
     ]
    }
   ],
   "source": [
    "np.random.seed(42)\n",
    "table = PrettyTable()\n",
    "table.field_names = ['Estimator', 'Test Rsquared E[Y|X] = l(X)', 'Test Accuracy E[D|X] = m(X)']\n",
    "a = ['Linear/Logistic',np.mean(cross_val_score(LinearRegression(), x, y, cv=5)),\n",
    "     np.mean(cross_val_score(LogisticRegression(), x, d, cv=5))]\n",
    "table.add_row(a)\n",
    "a = ['Linear/Logistic (Reg)',np.mean(cross_val_score(LassoCV(), x, y, cv=5)),\n",
    "     np.mean(cross_val_score(LogisticRegressionCV(), x, d, cv=5))]\n",
    "table.add_row(a)\n",
    "a = ['Random Forests',np.mean(cross_val_score(RandomForestRegressor(max_depth=2,n_estimators=500,verbose=0), x, y, cv=5)),\n",
    "     np.mean(cross_val_score(RandomForestClassifier(max_depth=2, n_estimators=500), x, d, cv=5))]\n",
    "table.add_row(a)\n",
    "a = ['Boosting',np.mean(cross_val_score(XGBRegressor(max_depth=2,verbosity=0), x, y, cv=5)),\n",
    "     np.mean(cross_val_score(XGBClassifier(verbosity=0,max_depth=2), x, d, cv=5))]\n",
    "table.add_row(a)\n",
    "a = ['Neural Networks',np.mean(cross_val_score(MLPRegressor((100,),max_iter=1000, learning_rate_init=0.01), normalize(x), y, cv=5)),\n",
    "     np.mean(cross_val_score(MLPClassifier((100,), max_iter=1000,learning_rate_init=0.01), normalize(x), d, cv=5))]\n",
    "table.add_row(a)\n",
    "table.float_format = '0.3'\n",
    "print(table)"
   ]
  },
  {
   "cell_type": "markdown",
   "id": "74745986",
   "metadata": {},
   "source": [
    "# OLS"
   ]
  },
  {
   "cell_type": "code",
   "execution_count": 289,
   "id": "0691d6cb",
   "metadata": {},
   "outputs": [
    {
     "data": {
      "text/html": [
       "<table class=\"simpletable\">\n",
       "<caption>OLS Regression Results</caption>\n",
       "<tr>\n",
       "  <th>Dep. Variable:</th>            <td>y</td>        <th>  R-squared:         </th> <td>   0.055</td>\n",
       "</tr>\n",
       "<tr>\n",
       "  <th>Model:</th>                   <td>OLS</td>       <th>  Adj. R-squared:    </th> <td>   0.037</td>\n",
       "</tr>\n",
       "<tr>\n",
       "  <th>Method:</th>             <td>Least Squares</td>  <th>  F-statistic:       </th> <td>   3.161</td>\n",
       "</tr>\n",
       "<tr>\n",
       "  <th>Date:</th>             <td>Thu, 15 Dec 2022</td> <th>  Prob (F-statistic):</th>  <td>0.00171</td>\n",
       "</tr>\n",
       "<tr>\n",
       "  <th>Time:</th>                 <td>15:07:35</td>     <th>  Log-Likelihood:    </th> <td> -1460.2</td>\n",
       "</tr>\n",
       "<tr>\n",
       "  <th>No. Observations:</th>      <td>   445</td>      <th>  AIC:               </th> <td>   2938.</td>\n",
       "</tr>\n",
       "<tr>\n",
       "  <th>Df Residuals:</th>          <td>   436</td>      <th>  BIC:               </th> <td>   2975.</td>\n",
       "</tr>\n",
       "<tr>\n",
       "  <th>Df Model:</th>              <td>     8</td>      <th>                     </th>     <td> </td>   \n",
       "</tr>\n",
       "<tr>\n",
       "  <th>Covariance Type:</th>      <td>nonrobust</td>    <th>                     </th>     <td> </td>   \n",
       "</tr>\n",
       "</table>\n",
       "<table class=\"simpletable\">\n",
       "<tr>\n",
       "    <td></td>       <th>coef</th>     <th>std err</th>      <th>t</th>      <th>P>|t|</th>  <th>[0.025</th>    <th>0.975]</th>  \n",
       "</tr>\n",
       "<tr>\n",
       "  <th>const</th> <td>    0.6217</td> <td>    2.447</td> <td>    0.254</td> <td> 0.800</td> <td>   -4.189</td> <td>    5.432</td>\n",
       "</tr>\n",
       "<tr>\n",
       "  <th>x1</th>    <td>    1.6826</td> <td>    0.632</td> <td>    2.663</td> <td> 0.008</td> <td>    0.441</td> <td>    2.924</td>\n",
       "</tr>\n",
       "<tr>\n",
       "  <th>x2</th>    <td>    0.0558</td> <td>    0.045</td> <td>    1.246</td> <td> 0.214</td> <td>   -0.032</td> <td>    0.144</td>\n",
       "</tr>\n",
       "<tr>\n",
       "  <th>x3</th>    <td>    0.4059</td> <td>    0.176</td> <td>    2.311</td> <td> 0.021</td> <td>    0.061</td> <td>    0.751</td>\n",
       "</tr>\n",
       "<tr>\n",
       "  <th>x4</th>    <td>   -2.1698</td> <td>    1.159</td> <td>   -1.873</td> <td> 0.062</td> <td>   -4.447</td> <td>    0.107</td>\n",
       "</tr>\n",
       "<tr>\n",
       "  <th>x5</th>    <td>    0.1579</td> <td>    1.545</td> <td>    0.102</td> <td> 0.919</td> <td>   -2.879</td> <td>    3.195</td>\n",
       "</tr>\n",
       "<tr>\n",
       "  <th>x6</th>    <td>   -0.1403</td> <td>    0.878</td> <td>   -0.160</td> <td> 0.873</td> <td>   -1.867</td> <td>    1.586</td>\n",
       "</tr>\n",
       "<tr>\n",
       "  <th>x7</th>    <td>    0.0829</td> <td>    0.077</td> <td>    1.081</td> <td> 0.280</td> <td>   -0.068</td> <td>    0.234</td>\n",
       "</tr>\n",
       "<tr>\n",
       "  <th>x8</th>    <td>    0.0515</td> <td>    0.134</td> <td>    0.384</td> <td> 0.701</td> <td>   -0.212</td> <td>    0.315</td>\n",
       "</tr>\n",
       "</table>\n",
       "<table class=\"simpletable\">\n",
       "<tr>\n",
       "  <th>Omnibus:</th>       <td>284.573</td> <th>  Durbin-Watson:     </th> <td>   2.059</td>\n",
       "</tr>\n",
       "<tr>\n",
       "  <th>Prob(Omnibus):</th> <td> 0.000</td>  <th>  Jarque-Bera (JB):  </th> <td>3759.179</td>\n",
       "</tr>\n",
       "<tr>\n",
       "  <th>Skew:</th>          <td> 2.543</td>  <th>  Prob(JB):          </th> <td>    0.00</td>\n",
       "</tr>\n",
       "<tr>\n",
       "  <th>Kurtosis:</th>      <td>16.299</td>  <th>  Cond. No.          </th> <td>    247.</td>\n",
       "</tr>\n",
       "</table><br/><br/>Notes:<br/>[1] Standard Errors assume that the covariance matrix of the errors is correctly specified."
      ],
      "text/plain": [
       "<class 'statsmodels.iolib.summary.Summary'>\n",
       "\"\"\"\n",
       "                            OLS Regression Results                            \n",
       "==============================================================================\n",
       "Dep. Variable:                      y   R-squared:                       0.055\n",
       "Model:                            OLS   Adj. R-squared:                  0.037\n",
       "Method:                 Least Squares   F-statistic:                     3.161\n",
       "Date:                Thu, 15 Dec 2022   Prob (F-statistic):            0.00171\n",
       "Time:                        15:07:35   Log-Likelihood:                -1460.2\n",
       "No. Observations:                 445   AIC:                             2938.\n",
       "Df Residuals:                     436   BIC:                             2975.\n",
       "Df Model:                           8                                         \n",
       "Covariance Type:            nonrobust                                         \n",
       "==============================================================================\n",
       "                 coef    std err          t      P>|t|      [0.025      0.975]\n",
       "------------------------------------------------------------------------------\n",
       "const          0.6217      2.447      0.254      0.800      -4.189       5.432\n",
       "x1             1.6826      0.632      2.663      0.008       0.441       2.924\n",
       "x2             0.0558      0.045      1.246      0.214      -0.032       0.144\n",
       "x3             0.4059      0.176      2.311      0.021       0.061       0.751\n",
       "x4            -2.1698      1.159     -1.873      0.062      -4.447       0.107\n",
       "x5             0.1579      1.545      0.102      0.919      -2.879       3.195\n",
       "x6            -0.1403      0.878     -0.160      0.873      -1.867       1.586\n",
       "x7             0.0829      0.077      1.081      0.280      -0.068       0.234\n",
       "x8             0.0515      0.134      0.384      0.701      -0.212       0.315\n",
       "==============================================================================\n",
       "Omnibus:                      284.573   Durbin-Watson:                   2.059\n",
       "Prob(Omnibus):                  0.000   Jarque-Bera (JB):             3759.179\n",
       "Skew:                           2.543   Prob(JB):                         0.00\n",
       "Kurtosis:                      16.299   Cond. No.                         247.\n",
       "==============================================================================\n",
       "\n",
       "Notes:\n",
       "[1] Standard Errors assume that the covariance matrix of the errors is correctly specified.\n",
       "\"\"\""
      ]
     },
     "execution_count": 289,
     "metadata": {},
     "output_type": "execute_result"
    }
   ],
   "source": [
    "OLS = sm.OLS(y,sm.add_constant(np.c_[d, x])).fit()\n",
    "OLS.summary()"
   ]
  },
  {
   "cell_type": "markdown",
   "id": "ae0712ed",
   "metadata": {},
   "source": [
    "# ML Estimation"
   ]
  },
  {
   "cell_type": "code",
   "execution_count": 294,
   "id": "25c4d154",
   "metadata": {},
   "outputs": [],
   "source": [
    "l = LassoCV() # Model for E[Y|X]=E[θD+g(X)]\n",
    "g = LassoCV() # Model for E[Y - θD|X]=g(X)\n",
    "m = RandomForestClassifier(verbose=0,max_depth=3) # Model for E[D|X]\n",
    "\n",
    "def score(y, d, l_hat, m_hat, g_hat, smpls):\n",
    "    \"Score function for Single ML\"\n",
    "    u_hat = y - g_hat\n",
    "    psi_a = -np.multiply(d, d)\n",
    "    psi_b = np.multiply(d, u_hat)\n",
    "    return psi_a, psi_b"
   ]
  },
  {
   "cell_type": "markdown",
   "id": "e8d63a3a",
   "metadata": {},
   "source": [
    "# Single-ML"
   ]
  },
  {
   "cell_type": "code",
   "execution_count": 295,
   "id": "0db6b608",
   "metadata": {},
   "outputs": [
    {
     "name": "stdout",
     "output_type": "stream",
     "text": [
      "           coef  std err         t     P>|t|     2.5 %    97.5 %\n",
      "train  1.678206  0.56537  2.968333  0.002994  0.570102  2.786311\n"
     ]
    }
   ],
   "source": [
    "data = DoubleMLData(df, y_col=outcome,d_cols=treatment,x_cols=rest)\n",
    "SML = DoubleMLPLR(data, l, m, g, n_folds=1, apply_cross_fitting=False, score=score)\n",
    "SML.fit()\n",
    "print(SML.summary)"
   ]
  },
  {
   "cell_type": "markdown",
   "id": "570313ff",
   "metadata": {},
   "source": [
    "# Orthogonal-ML"
   ]
  },
  {
   "cell_type": "code",
   "execution_count": 296,
   "id": "4c886179",
   "metadata": {},
   "outputs": [
    {
     "name": "stdout",
     "output_type": "stream",
     "text": [
      "           coef   std err         t     P>|t|     2.5 %    97.5 %\n",
      "train  1.665686  0.656571  2.536947  0.011182  0.378831  2.952542\n"
     ]
    }
   ],
   "source": [
    "data = DoubleMLData(df,y_col=outcome,d_cols=treatment,x_cols=rest)\n",
    "OML = DoubleMLPLR(data,l, m, g, n_folds=1,apply_cross_fitting=False,score='IV-type')\n",
    "OML.fit();\n",
    "print(OML.summary)"
   ]
  },
  {
   "cell_type": "markdown",
   "id": "79977e89",
   "metadata": {},
   "source": [
    "# Orthogonal + Crossfitting (DML)"
   ]
  },
  {
   "cell_type": "code",
   "execution_count": 297,
   "id": "2b5dc3b3",
   "metadata": {},
   "outputs": [
    {
     "name": "stdout",
     "output_type": "stream",
     "text": [
      "           coef  std err         t     P>|t|     2.5 %    97.5 %\n",
      "train  1.675692  0.66064  2.536468  0.011198  0.380862  2.970522\n"
     ]
    }
   ],
   "source": [
    "data = DoubleMLData(df,y_col=outcome,d_cols=treatment,x_cols=rest)\n",
    "DML = DoubleMLPLR(data, l,m,g, n_folds=10,apply_cross_fitting=True,score='IV-type')\n",
    "DML.fit();\n",
    "print(DML.summary)"
   ]
  },
  {
   "cell_type": "markdown",
   "id": "d441e6e9",
   "metadata": {},
   "source": [
    "# Summary"
   ]
  },
  {
   "cell_type": "code",
   "execution_count": 298,
   "id": "5b13036a",
   "metadata": {},
   "outputs": [
    {
     "name": "stdout",
     "output_type": "stream",
     "text": [
      "+---------------------+-------+-----------+-------+-------+-------+--------+\n",
      "|      Estimator      | θ_hat | Std Error |   t   |   p   |  2.5% | 97.25% |\n",
      "+---------------------+-------+-----------+-------+-------+-------+--------+\n",
      "|         OLS         | 1.683 |   0.632   | 2.663 | 0.008 |  nan  |  nan   |\n",
      "|   Single ML (SML)   | 1.678 |   0.565   | 2.968 | 0.003 | 0.570 | 2.786  |\n",
      "| Orthogonal ML (OML) | 1.666 |   0.657   | 2.537 | 0.011 | 0.379 | 2.953  |\n",
      "|   Double ML (DML)   | 1.676 |   0.661   | 2.536 | 0.011 | 0.381 | 2.971  |\n",
      "+---------------------+-------+-----------+-------+-------+-------+--------+\n"
     ]
    }
   ],
   "source": [
    "table = PrettyTable()\n",
    "table.field_names = ['Estimator', 'θ_hat', 'Std Error','t','p','2.5%','97.25%']\n",
    "idx = 1\n",
    "a = ['OLS']+ np.c_[OLS.params[idx], OLS.bse[idx], OLS.tvalues[idx], OLS.pvalues[idx], np.nan, np.nan].reshape(-1).tolist()\n",
    "table.add_row(a)\n",
    "a = ['Single ML (SML)']+ np.array(SML.summary).reshape(-1).tolist()\n",
    "table.add_row(a)\n",
    "a = ['Orthogonal ML (OML)']+ np.array(OML.summary).reshape(-1).tolist()\n",
    "table.add_row(a)\n",
    "a = ['Double ML (DML)']+ np.array(DML.summary).reshape(-1).tolist()\n",
    "table.add_row(a)\n",
    "table.float_format = '0.3'\n",
    "print(table)"
   ]
  },
  {
   "cell_type": "code",
   "execution_count": null,
   "id": "4d7c0201",
   "metadata": {},
   "outputs": [],
   "source": []
  }
 ],
 "metadata": {
  "kernelspec": {
   "display_name": "Python 3 (ipykernel)",
   "language": "python",
   "name": "python3"
  },
  "language_info": {
   "codemirror_mode": {
    "name": "ipython",
    "version": 3
   },
   "file_extension": ".py",
   "mimetype": "text/x-python",
   "name": "python",
   "nbconvert_exporter": "python",
   "pygments_lexer": "ipython3",
   "version": "3.10.9"
  }
 },
 "nbformat": 4,
 "nbformat_minor": 5
}
