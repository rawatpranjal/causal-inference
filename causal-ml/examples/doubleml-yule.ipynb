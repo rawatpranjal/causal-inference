{
 "cells": [
  {
   "cell_type": "code",
   "execution_count": 61,
   "id": "e8a6fe4f",
   "metadata": {},
   "outputs": [
    {
     "name": "stdout",
     "output_type": "stream",
     "text": [
      "['Mroz', '__all__', '__builtins__', '__cached__', '__doc__', '__file__', '__loader__', '__name__', '__package__', '__path__', '__spec__', 'abortion', 'adult_services', 'auto', 'avocado', 'black_politicians', 'castle', 'close_elections_lmb', 'cps_mixtape', 'credit_cards', 'gapminder', 'google_stock', 'gov_transfers', 'gov_transfers_density', 'greek_data', 'mortgages', 'nhefs', 'nhefs_codebook', 'nhefs_complete', 'nsw_mixtape', 'organ_donations', 'restaurant_inspections', 'ri', 'scorecard', 'snow', 'social_insure', 'texas', 'thornton_hiv', 'titanic', 'training_bias_reduction', 'training_example', 'yule']\n",
      "::\n",
      "    Number of observations - 32\n",
      "    Number of variables - 5\n",
      "    Variables name definitions::\n",
      "            location - Location in England\n",
      "            paup - Pauperism Growth\n",
      "            outrelief - Poverty Relief Growth\n",
      "            old - Annual growth in aged population\n",
      "            pop - Annual growth in population\n",
      "\n",
      "This data allows for a look at the correlation between poverty relief and poverty rates in England in the 19th century. This data is used in the Potential Outcomes Causal Model chapter of Causal Inference: The Mixtape by Cunningham.\n",
      "\n",
      "Yule, G. Udny. 1899. 'An Investigation into the Causes of Changes in Pauperism in England, Chiefly During the Last Two Interensal Decades.' Journal of Royal Statistical Society 62: 249–95.\n",
      "\n"
     ]
    }
   ],
   "source": [
    "import causaldata\n",
    "import numpy as np\n",
    "print(dir(causaldata))\n",
    "df = causaldata.yule.load_pandas().data\n",
    "print(causaldata.yule.NOTE)\n",
    "print(causaldata.yule.DESCRLONG)\n",
    "print(causaldata.yule.SOURCE)"
   ]
  },
  {
   "cell_type": "code",
   "execution_count": 62,
   "id": "8957f6e4",
   "metadata": {},
   "outputs": [],
   "source": [
    "outcome = 'paup'\n",
    "treatment = 'outrelief'\n",
    "rest = ['old', 'pop']"
   ]
  },
  {
   "cell_type": "code",
   "execution_count": 63,
   "id": "e10c68a3",
   "metadata": {},
   "outputs": [
    {
     "name": "stdout",
     "output_type": "stream",
     "text": [
      "(32, 5)\n"
     ]
    },
    {
     "data": {
      "text/html": [
       "<div>\n",
       "<style scoped>\n",
       "    .dataframe tbody tr th:only-of-type {\n",
       "        vertical-align: middle;\n",
       "    }\n",
       "\n",
       "    .dataframe tbody tr th {\n",
       "        vertical-align: top;\n",
       "    }\n",
       "\n",
       "    .dataframe thead th {\n",
       "        text-align: right;\n",
       "    }\n",
       "</style>\n",
       "<table border=\"1\" class=\"dataframe\">\n",
       "  <thead>\n",
       "    <tr style=\"text-align: right;\">\n",
       "      <th></th>\n",
       "      <th>location</th>\n",
       "      <th>paup</th>\n",
       "      <th>outrelief</th>\n",
       "      <th>old</th>\n",
       "      <th>pop</th>\n",
       "    </tr>\n",
       "  </thead>\n",
       "  <tbody>\n",
       "    <tr>\n",
       "      <th>0</th>\n",
       "      <td>Kensington</td>\n",
       "      <td>27</td>\n",
       "      <td>5</td>\n",
       "      <td>104</td>\n",
       "      <td>136</td>\n",
       "    </tr>\n",
       "    <tr>\n",
       "      <th>1</th>\n",
       "      <td>Paddington</td>\n",
       "      <td>47</td>\n",
       "      <td>12</td>\n",
       "      <td>115</td>\n",
       "      <td>111</td>\n",
       "    </tr>\n",
       "    <tr>\n",
       "      <th>2</th>\n",
       "      <td>Fulham</td>\n",
       "      <td>31</td>\n",
       "      <td>21</td>\n",
       "      <td>85</td>\n",
       "      <td>174</td>\n",
       "    </tr>\n",
       "    <tr>\n",
       "      <th>3</th>\n",
       "      <td>Chelsea</td>\n",
       "      <td>64</td>\n",
       "      <td>21</td>\n",
       "      <td>81</td>\n",
       "      <td>124</td>\n",
       "    </tr>\n",
       "    <tr>\n",
       "      <th>4</th>\n",
       "      <td>St. George’s</td>\n",
       "      <td>46</td>\n",
       "      <td>18</td>\n",
       "      <td>113</td>\n",
       "      <td>96</td>\n",
       "    </tr>\n",
       "  </tbody>\n",
       "</table>\n",
       "</div>"
      ],
      "text/plain": [
       "        location  paup  outrelief  old  pop\n",
       "0    Kensington     27          5  104  136\n",
       "1    Paddington     47         12  115  111\n",
       "2        Fulham     31         21   85  174\n",
       "3       Chelsea     64         21   81  124\n",
       "4  St. George’s     46         18  113   96"
      ]
     },
     "execution_count": 63,
     "metadata": {},
     "output_type": "execute_result"
    }
   ],
   "source": [
    "#import wooldridge\n",
    "#df = wooldridge.data('jtrain3')\n",
    "#df['avg'] = 0.5 * (df.re74+df.re75)\n",
    "#df = df.dropna()\n",
    "#df = df[df.avg <= 15]\n",
    "y = df[outcome]\n",
    "d = df[treatment]\n",
    "x = df[rest]\n",
    "print(df.shape)\n",
    "df.head()"
   ]
  },
  {
   "cell_type": "code",
   "execution_count": 64,
   "id": "52505279",
   "metadata": {},
   "outputs": [
    {
     "name": "stdout",
     "output_type": "stream",
     "text": [
      "                            OLS Regression Results                            \n",
      "==============================================================================\n",
      "Dep. Variable:                   paup   R-squared:                       0.353\n",
      "Model:                            OLS   Adj. R-squared:                  0.331\n",
      "Method:                 Least Squares   F-statistic:                     16.36\n",
      "Date:                Sun, 04 Dec 2022   Prob (F-statistic):           0.000338\n",
      "Time:                        20:41:24   Log-Likelihood:                -127.62\n",
      "No. Observations:                  32   AIC:                             259.2\n",
      "Df Residuals:                      30   BIC:                             262.2\n",
      "Df Model:                           1                                         \n",
      "Covariance Type:            nonrobust                                         \n",
      "==============================================================================\n",
      "                 coef    std err          t      P>|t|      [0.025      0.975]\n",
      "------------------------------------------------------------------------------\n",
      "x1             0.7654      0.189      4.045      0.000       0.379       1.152\n",
      "const         31.0894      5.324      5.840      0.000      20.217      41.962\n",
      "==============================================================================\n",
      "Omnibus:                        0.720   Durbin-Watson:                   1.853\n",
      "Prob(Omnibus):                  0.698   Jarque-Bera (JB):                0.195\n",
      "Skew:                           0.175   Prob(JB):                        0.907\n",
      "Kurtosis:                       3.156   Cond. No.                         62.9\n",
      "==============================================================================\n",
      "\n",
      "Notes:\n",
      "[1] Standard Errors assume that the covariance matrix of the errors is correctly specified.\n",
      "0.7653888536619898\n",
      "0.18923679511365274\n"
     ]
    }
   ],
   "source": [
    "# Simple Comparision of Means\n",
    "import statsmodels.api as sm\n",
    "mod = sm.OLS(y, sm.add_constant(np.c_[d], prepend=False))\n",
    "res = mod.fit()\n",
    "print(res.summary())\n",
    "print(res.params[0])\n",
    "print(res.bse[0])"
   ]
  },
  {
   "cell_type": "code",
   "execution_count": 65,
   "id": "8167540c",
   "metadata": {},
   "outputs": [
    {
     "name": "stdout",
     "output_type": "stream",
     "text": [
      "                            OLS Regression Results                            \n",
      "==============================================================================\n",
      "Dep. Variable:                   paup   R-squared:                       0.697\n",
      "Model:                            OLS   Adj. R-squared:                  0.665\n",
      "Method:                 Least Squares   F-statistic:                     21.49\n",
      "Date:                Sun, 04 Dec 2022   Prob (F-statistic):           2.00e-07\n",
      "Time:                        20:41:26   Log-Likelihood:                -115.47\n",
      "No. Observations:                  32   AIC:                             238.9\n",
      "Df Residuals:                      28   BIC:                             244.8\n",
      "Df Model:                           3                                         \n",
      "Covariance Type:            nonrobust                                         \n",
      "==============================================================================\n",
      "                 coef    std err          t      P>|t|      [0.025      0.975]\n",
      "------------------------------------------------------------------------------\n",
      "x1             0.7521      0.135      5.572      0.000       0.476       1.029\n",
      "x2             0.0556      0.223      0.249      0.805      -0.402       0.513\n",
      "x3            -0.3107      0.067     -4.648      0.000      -0.448      -0.174\n",
      "const         63.1877     27.144      2.328      0.027       7.586     118.789\n",
      "==============================================================================\n",
      "Omnibus:                        7.594   Durbin-Watson:                   2.344\n",
      "Prob(Omnibus):                  0.022   Jarque-Bera (JB):                5.979\n",
      "Skew:                           0.961   Prob(JB):                       0.0503\n",
      "Kurtosis:                       3.888   Cond. No.                     2.56e+03\n",
      "==============================================================================\n",
      "\n",
      "Notes:\n",
      "[1] Standard Errors assume that the covariance matrix of the errors is correctly specified.\n",
      "[2] The condition number is large, 2.56e+03. This might indicate that there are\n",
      "strong multicollinearity or other numerical problems.\n",
      "0.7520945011431495\n",
      "0.13498727047160153\n"
     ]
    }
   ],
   "source": [
    "# Pooled Regression Adjustment\n",
    "import statsmodels.api as sm\n",
    "mod = sm.OLS(y, sm.add_constant(np.c_[d, x], prepend=False))\n",
    "res = mod.fit()\n",
    "print(res.summary())\n",
    "print(res.params[0])\n",
    "print(res.bse[0])"
   ]
  },
  {
   "cell_type": "code",
   "execution_count": 66,
   "id": "a72d3881",
   "metadata": {},
   "outputs": [
    {
     "name": "stdout",
     "output_type": "stream",
     "text": [
      "================== DoubleMLData Object ==================\n",
      "\n",
      "------------------ Data summary      ------------------\n",
      "Outcome variable: paup\n",
      "Treatment variable(s): ['outrelief']\n",
      "Covariates: ['old', 'pop']\n",
      "Instrument variable(s): None\n",
      "No. Observations: 32\n",
      "\n",
      "------------------ DataFrame info    ------------------\n",
      "<class 'pandas.core.frame.DataFrame'>\n",
      "Int64Index: 32 entries, 0 to 31\n",
      "Columns: 5 entries, location to pop\n",
      "dtypes: int16(2), int8(2), object(1)\n",
      "memory usage: 704.0+ bytes\n",
      "\n",
      "================== DoubleMLPLR Object ==================\n",
      "\n",
      "------------------ Data summary      ------------------\n",
      "Outcome variable: paup\n",
      "Treatment variable(s): ['outrelief']\n",
      "Covariates: ['old', 'pop']\n",
      "Instrument variable(s): None\n",
      "No. Observations: 32\n",
      "\n",
      "------------------ Score & algorithm ------------------\n",
      "Score function: partialling out\n",
      "DML algorithm: dml2\n",
      "\n",
      "------------------ Machine learner   ------------------\n",
      "Learner ml_l: RandomForestRegressor(max_depth=6, max_features='sqrt', n_estimators=500)\n",
      "Learner ml_m: RandomForestRegressor(max_depth=6, max_features='sqrt', n_estimators=500)\n",
      "\n",
      "------------------ Resampling        ------------------\n",
      "No. folds: 5\n",
      "No. repeated sample splits: 1\n",
      "Apply cross-fitting: True\n",
      "\n",
      "------------------ Fit summary       ------------------\n",
      "               coef   std err         t         P>|t|     2.5 %    97.5 %\n",
      "outrelief  0.752581  0.151107  4.980457  6.343418e-07  0.456417  1.048745\n"
     ]
    }
   ],
   "source": [
    "import numpy as np\n",
    "from doubleml.datasets import make_plr_CCDDHNR2018\n",
    "from doubleml import DoubleMLData\n",
    "\n",
    "np.random.seed(1234)\n",
    "dml_data_bonus = DoubleMLData(df, y_col=outcome,\n",
    "                                  d_cols=treatment,\n",
    "                                  x_cols=rest)\n",
    "print(dml_data_bonus)\n",
    "from sklearn.base import clone\n",
    "from sklearn.ensemble import RandomForestRegressor\n",
    "from sklearn.linear_model import LassoCV\n",
    "learner = RandomForestRegressor(n_estimators = 500, max_features = 'sqrt', max_depth= 6)\n",
    "ml_l_bonus = clone(learner)\n",
    "ml_m_bonus = clone(learner)\n",
    "learner = LassoCV()\n",
    "ml_l_sim = clone(learner)\n",
    "ml_m_sim = clone(learner)\n",
    "def non_orth_score(y, d, l_hat, m_hat, g_hat, smpls):\n",
    "    u_hat = y - g_hat\n",
    "    psi_a = -np.multiply(d, d)\n",
    "    psi_b = np.multiply(d, u_hat)\n",
    "    return psi_a, psi_b\n",
    "\n",
    "from doubleml import DoubleMLPLR\n",
    "np.random.seed(3141)\n",
    "obj_dml_plr_bonus = DoubleMLPLR(dml_data_bonus, ml_l_bonus, ml_m_bonus)\n",
    "obj_dml_plr_bonus.fit();\n",
    "print(obj_dml_plr_bonus)"
   ]
  },
  {
   "cell_type": "code",
   "execution_count": 59,
   "id": "0c9d0077",
   "metadata": {},
   "outputs": [
    {
     "name": "stdout",
     "output_type": "stream",
     "text": [
      "Coefficient Results:  X is None, please call intercept_inference to learn the constant!\n"
     ]
    },
    {
     "data": {
      "text/html": [
       "<table class=\"simpletable\">\n",
       "<caption>CATE Intercept Results</caption>\n",
       "<tr>\n",
       "         <td></td>        <th>point_estimate</th> <th>stderr</th> <th>zstat</th> <th>pvalue</th> <th>ci_lower</th> <th>ci_upper</th>\n",
       "</tr>\n",
       "<tr>\n",
       "  <th>cate_intercept</th>       <td>0.7</td>       <td>0.102</td> <td>6.847</td>   <td>0.0</td>     <td>0.5</td>     <td>0.901</td> \n",
       "</tr>\n",
       "</table><br/><br/><sub>A linear parametric conditional average treatment effect (CATE) model was fitted:<br/>$Y = \\Theta(X)\\cdot T + g(X, W) + \\epsilon$<br/>where for every outcome $i$ and treatment $j$ the CATE $\\Theta_{ij}(X)$ has the form:<br/>$\\Theta_{ij}(X) = X' coef_{ij} + cate\\_intercept_{ij}$<br/>Coefficient Results table portrays the $coef_{ij}$ parameter vector for each outcome $i$ and treatment $j$. Intercept Results table portrays the $cate\\_intercept_{ij}$ parameter.</sub>"
      ],
      "text/plain": [
       "<class 'econml.utilities.Summary'>\n",
       "\"\"\"\n",
       "                       CATE Intercept Results                      \n",
       "===================================================================\n",
       "               point_estimate stderr zstat pvalue ci_lower ci_upper\n",
       "-------------------------------------------------------------------\n",
       "cate_intercept            0.7  0.102 6.847    0.0      0.5    0.901\n",
       "-------------------------------------------------------------------\n",
       "\n",
       "<sub>A linear parametric conditional average treatment effect (CATE) model was fitted:\n",
       "$Y = \\Theta(X)\\cdot T + g(X, W) + \\epsilon$\n",
       "where for every outcome $i$ and treatment $j$ the CATE $\\Theta_{ij}(X)$ has the form:\n",
       "$\\Theta_{ij}(X) = X' coef_{ij} + cate\\_intercept_{ij}$\n",
       "Coefficient Results table portrays the $coef_{ij}$ parameter vector for each outcome $i$ and treatment $j$. Intercept Results table portrays the $cate\\_intercept_{ij}$ parameter.</sub>\n",
       "\"\"\""
      ]
     },
     "execution_count": 59,
     "metadata": {},
     "output_type": "execute_result"
    }
   ],
   "source": [
    "# DML regression - still yeilds unbiased estimate of ATE \n",
    "from econml.dml import LinearDML\n",
    "est = LinearDML(random_state=45)\n",
    "est.fit(y, d, X=None,W=x)\n",
    "est.summary()"
   ]
  },
  {
   "cell_type": "code",
   "execution_count": null,
   "id": "96e5aa4f",
   "metadata": {},
   "outputs": [],
   "source": []
  }
 ],
 "metadata": {
  "kernelspec": {
   "display_name": "Python 3 (ipykernel)",
   "language": "python",
   "name": "python3"
  },
  "language_info": {
   "codemirror_mode": {
    "name": "ipython",
    "version": 3
   },
   "file_extension": ".py",
   "mimetype": "text/x-python",
   "name": "python",
   "nbconvert_exporter": "python",
   "pygments_lexer": "ipython3",
   "version": "3.10.8"
  }
 },
 "nbformat": 4,
 "nbformat_minor": 5
}
