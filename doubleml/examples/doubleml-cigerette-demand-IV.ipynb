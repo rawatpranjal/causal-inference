{
 "cells": [
  {
   "cell_type": "code",
   "execution_count": 2,
   "id": "cbc5a055",
   "metadata": {},
   "outputs": [],
   "source": [
    "import numpy as np\n",
    "import pandas as pd\n",
    "from doubleml.datasets import fetch_bonus\n",
    "from doubleml import DoubleMLData\n",
    "import statsmodels.api as sm\n",
    "from sklearn.base import clone\n",
    "from sklearn.ensemble import RandomForestRegressor, RandomForestClassifier\n",
    "from sklearn.linear_model import LassoCV\n",
    "from doubleml import DoubleMLPLR   \n",
    "from doubleml import DoubleMLPLR  ,DoubleMLPLIV         \n",
    "from prettytable import PrettyTable\n",
    "from PIL import Image, ImageDraw, ImageFont\n",
    "from sklearn.linear_model import LinearRegression, LogisticRegression\n",
    "from doubleml.datasets import fetch_401K\n",
    "import wooldridge"
   ]
  },
  {
   "cell_type": "code",
   "execution_count": null,
   "id": "be171555",
   "metadata": {},
   "outputs": [],
   "source": [
    "c1985 <- subset(CigarettesSW, year == \"1985\")\n",
    "\n",
    "# define differences in variables\n",
    "packsdiff <- log(c1995$packs) - log(c1985$packs)\n",
    "\n",
    "pricediff <- log(c1995$price/c1995$cpi) - log(c1985$price/c1985$cpi)\n",
    "\n",
    "incomediff <- log(c1995$income/c1995$population/c1995$cpi) -\n",
    "log(c1985$income/c1985$population/c1985$cpi)\n",
    "\n",
    "salestaxdiff <- (c1995$taxs - c1995$tax)/c1995$cpi - (c1985$taxs - c1985$tax)/c1985$cpi\n",
    "\n",
    "cigtaxdiff <- c1995$tax/c1995$cpi - c1985$tax/c1985$cpi"
   ]
  },
  {
   "cell_type": "code",
   "execution_count": 4,
   "id": "7e543a8d",
   "metadata": {},
   "outputs": [
    {
     "data": {
      "text/html": [
       "<div>\n",
       "<style scoped>\n",
       "    .dataframe tbody tr th:only-of-type {\n",
       "        vertical-align: middle;\n",
       "    }\n",
       "\n",
       "    .dataframe tbody tr th {\n",
       "        vertical-align: top;\n",
       "    }\n",
       "\n",
       "    .dataframe thead th {\n",
       "        text-align: right;\n",
       "    }\n",
       "</style>\n",
       "<table border=\"1\" class=\"dataframe\">\n",
       "  <thead>\n",
       "    <tr style=\"text-align: right;\">\n",
       "      <th></th>\n",
       "      <th>Unnamed: 0</th>\n",
       "      <th>state</th>\n",
       "      <th>year</th>\n",
       "      <th>cpi</th>\n",
       "      <th>population</th>\n",
       "      <th>packs</th>\n",
       "      <th>income</th>\n",
       "      <th>tax</th>\n",
       "      <th>price</th>\n",
       "      <th>taxs</th>\n",
       "    </tr>\n",
       "  </thead>\n",
       "  <tbody>\n",
       "    <tr>\n",
       "      <th>0</th>\n",
       "      <td>1</td>\n",
       "      <td>AL</td>\n",
       "      <td>1985</td>\n",
       "      <td>1.076</td>\n",
       "      <td>3973000.0</td>\n",
       "      <td>116.486282</td>\n",
       "      <td>46014968</td>\n",
       "      <td>32.500004</td>\n",
       "      <td>102.181671</td>\n",
       "      <td>33.348335</td>\n",
       "    </tr>\n",
       "    <tr>\n",
       "      <th>1</th>\n",
       "      <td>2</td>\n",
       "      <td>AR</td>\n",
       "      <td>1985</td>\n",
       "      <td>1.076</td>\n",
       "      <td>2327000.0</td>\n",
       "      <td>128.534592</td>\n",
       "      <td>26210736</td>\n",
       "      <td>37.000000</td>\n",
       "      <td>101.474998</td>\n",
       "      <td>37.000000</td>\n",
       "    </tr>\n",
       "    <tr>\n",
       "      <th>2</th>\n",
       "      <td>3</td>\n",
       "      <td>AZ</td>\n",
       "      <td>1985</td>\n",
       "      <td>1.076</td>\n",
       "      <td>3184000.0</td>\n",
       "      <td>104.522614</td>\n",
       "      <td>43956936</td>\n",
       "      <td>31.000000</td>\n",
       "      <td>108.578751</td>\n",
       "      <td>36.170418</td>\n",
       "    </tr>\n",
       "    <tr>\n",
       "      <th>3</th>\n",
       "      <td>4</td>\n",
       "      <td>CA</td>\n",
       "      <td>1985</td>\n",
       "      <td>1.076</td>\n",
       "      <td>26444000.0</td>\n",
       "      <td>100.363037</td>\n",
       "      <td>447102816</td>\n",
       "      <td>26.000000</td>\n",
       "      <td>107.837341</td>\n",
       "      <td>32.104000</td>\n",
       "    </tr>\n",
       "    <tr>\n",
       "      <th>4</th>\n",
       "      <td>5</td>\n",
       "      <td>CO</td>\n",
       "      <td>1985</td>\n",
       "      <td>1.076</td>\n",
       "      <td>3209000.0</td>\n",
       "      <td>112.963539</td>\n",
       "      <td>49466672</td>\n",
       "      <td>31.000000</td>\n",
       "      <td>94.266663</td>\n",
       "      <td>31.000000</td>\n",
       "    </tr>\n",
       "  </tbody>\n",
       "</table>\n",
       "</div>"
      ],
      "text/plain": [
       "   Unnamed: 0 state  year    cpi  population       packs     income  \\\n",
       "0           1    AL  1985  1.076   3973000.0  116.486282   46014968   \n",
       "1           2    AR  1985  1.076   2327000.0  128.534592   26210736   \n",
       "2           3    AZ  1985  1.076   3184000.0  104.522614   43956936   \n",
       "3           4    CA  1985  1.076  26444000.0  100.363037  447102816   \n",
       "4           5    CO  1985  1.076   3209000.0  112.963539   49466672   \n",
       "\n",
       "         tax       price       taxs  \n",
       "0  32.500004  102.181671  33.348335  \n",
       "1  37.000000  101.474998  37.000000  \n",
       "2  31.000000  108.578751  36.170418  \n",
       "3  26.000000  107.837341  32.104000  \n",
       "4  31.000000   94.266663  31.000000  "
      ]
     },
     "execution_count": 4,
     "metadata": {},
     "output_type": "execute_result"
    }
   ],
   "source": [
    "df = pd.read_csv('/Users/pranjal/Desktop/Causal-Inference/data/CigarettesSW.csv')\n",
    "df.head()"
   ]
  },
  {
   "cell_type": "code",
   "execution_count": 16,
   "id": "2e7eb986",
   "metadata": {},
   "outputs": [
    {
     "data": {
      "text/plain": [
       "Unnamed: 0      int64\n",
       "state          object\n",
       "year            int64\n",
       "cpi           float64\n",
       "population    float64\n",
       "packs         float64\n",
       "income          int64\n",
       "tax           float64\n",
       "price         float64\n",
       "taxs          float64\n",
       "dtype: object"
      ]
     },
     "execution_count": 16,
     "metadata": {},
     "output_type": "execute_result"
    }
   ],
   "source": [
    "df.dtypes"
   ]
  },
  {
   "cell_type": "code",
   "execution_count": 21,
   "id": "5bb0d81a",
   "metadata": {},
   "outputs": [
    {
     "data": {
      "text/plain": [
       "(48, 10)"
      ]
     },
     "execution_count": 21,
     "metadata": {},
     "output_type": "execute_result"
    }
   ],
   "source": [
    "df85 = df[df.year==1985]\n",
    "df95 = df[df.year==1995]\n",
    "df95.shape"
   ]
  },
  {
   "cell_type": "code",
   "execution_count": 13,
   "id": "b6e6610e",
   "metadata": {},
   "outputs": [
    {
     "data": {
      "text/html": [
       "<div>\n",
       "<style scoped>\n",
       "    .dataframe tbody tr th:only-of-type {\n",
       "        vertical-align: middle;\n",
       "    }\n",
       "\n",
       "    .dataframe tbody tr th {\n",
       "        vertical-align: top;\n",
       "    }\n",
       "\n",
       "    .dataframe thead th {\n",
       "        text-align: right;\n",
       "    }\n",
       "</style>\n",
       "<table border=\"1\" class=\"dataframe\">\n",
       "  <thead>\n",
       "    <tr style=\"text-align: right;\">\n",
       "      <th></th>\n",
       "      <th>pack</th>\n",
       "      <th>price</th>\n",
       "      <th>inc</th>\n",
       "      <th>sales</th>\n",
       "      <th>cig</th>\n",
       "    </tr>\n",
       "  </thead>\n",
       "  <tbody>\n",
       "    <tr>\n",
       "      <th>0</th>\n",
       "      <td>NaN</td>\n",
       "      <td>NaN</td>\n",
       "      <td>NaN</td>\n",
       "      <td>NaN</td>\n",
       "      <td>NaN</td>\n",
       "    </tr>\n",
       "    <tr>\n",
       "      <th>1</th>\n",
       "      <td>NaN</td>\n",
       "      <td>NaN</td>\n",
       "      <td>NaN</td>\n",
       "      <td>NaN</td>\n",
       "      <td>NaN</td>\n",
       "    </tr>\n",
       "    <tr>\n",
       "      <th>2</th>\n",
       "      <td>NaN</td>\n",
       "      <td>NaN</td>\n",
       "      <td>NaN</td>\n",
       "      <td>NaN</td>\n",
       "      <td>NaN</td>\n",
       "    </tr>\n",
       "    <tr>\n",
       "      <th>3</th>\n",
       "      <td>NaN</td>\n",
       "      <td>NaN</td>\n",
       "      <td>NaN</td>\n",
       "      <td>NaN</td>\n",
       "      <td>NaN</td>\n",
       "    </tr>\n",
       "    <tr>\n",
       "      <th>4</th>\n",
       "      <td>NaN</td>\n",
       "      <td>NaN</td>\n",
       "      <td>NaN</td>\n",
       "      <td>NaN</td>\n",
       "      <td>NaN</td>\n",
       "    </tr>\n",
       "    <tr>\n",
       "      <th>...</th>\n",
       "      <td>...</td>\n",
       "      <td>...</td>\n",
       "      <td>...</td>\n",
       "      <td>...</td>\n",
       "      <td>...</td>\n",
       "    </tr>\n",
       "    <tr>\n",
       "      <th>91</th>\n",
       "      <td>NaN</td>\n",
       "      <td>NaN</td>\n",
       "      <td>NaN</td>\n",
       "      <td>NaN</td>\n",
       "      <td>NaN</td>\n",
       "    </tr>\n",
       "    <tr>\n",
       "      <th>92</th>\n",
       "      <td>NaN</td>\n",
       "      <td>NaN</td>\n",
       "      <td>NaN</td>\n",
       "      <td>NaN</td>\n",
       "      <td>NaN</td>\n",
       "    </tr>\n",
       "    <tr>\n",
       "      <th>93</th>\n",
       "      <td>NaN</td>\n",
       "      <td>NaN</td>\n",
       "      <td>NaN</td>\n",
       "      <td>NaN</td>\n",
       "      <td>NaN</td>\n",
       "    </tr>\n",
       "    <tr>\n",
       "      <th>94</th>\n",
       "      <td>NaN</td>\n",
       "      <td>NaN</td>\n",
       "      <td>NaN</td>\n",
       "      <td>NaN</td>\n",
       "      <td>NaN</td>\n",
       "    </tr>\n",
       "    <tr>\n",
       "      <th>95</th>\n",
       "      <td>NaN</td>\n",
       "      <td>NaN</td>\n",
       "      <td>NaN</td>\n",
       "      <td>NaN</td>\n",
       "      <td>NaN</td>\n",
       "    </tr>\n",
       "  </tbody>\n",
       "</table>\n",
       "<p>96 rows × 5 columns</p>\n",
       "</div>"
      ],
      "text/plain": [
       "    pack  price  inc  sales  cig\n",
       "0    NaN    NaN  NaN    NaN  NaN\n",
       "1    NaN    NaN  NaN    NaN  NaN\n",
       "2    NaN    NaN  NaN    NaN  NaN\n",
       "3    NaN    NaN  NaN    NaN  NaN\n",
       "4    NaN    NaN  NaN    NaN  NaN\n",
       "..   ...    ...  ...    ...  ...\n",
       "91   NaN    NaN  NaN    NaN  NaN\n",
       "92   NaN    NaN  NaN    NaN  NaN\n",
       "93   NaN    NaN  NaN    NaN  NaN\n",
       "94   NaN    NaN  NaN    NaN  NaN\n",
       "95   NaN    NaN  NaN    NaN  NaN\n",
       "\n",
       "[96 rows x 5 columns]"
      ]
     },
     "execution_count": 13,
     "metadata": {},
     "output_type": "execute_result"
    }
   ],
   "source": [
    "packsdiff = np.log(df95.packs) - np.log(df85.packs)\n",
    "pricediff = np.log(df95.price/df95.cpi)- np.log(df85.price/df85.cpi)\n",
    "incomediff = np.log(df95.income/df95.population/df95.cpi)- np.log(df85.income/df85.population/df85.cpi)\n",
    "salestaxdiff = (df95.taxs-df95.tax)/df95.cpi - (df85.taxs-df85.tax)/df85.cpi\n",
    "cigtaxdiff = df95.tax/df95.cpi - df85.tax/df85.cpi\n",
    "\n",
    "pd.DataFrame(np.c_[packsdiff, pricediff, incomediff, salestaxdiff, cigtaxdiff], columns = ['pack', 'price', 'inc', 'sales', 'cig'])"
   ]
  },
  {
   "cell_type": "code",
   "execution_count": 5,
   "id": "6d83365b",
   "metadata": {},
   "outputs": [
    {
     "ename": "SyntaxError",
     "evalue": "cannot assign to attribute here. Maybe you meant '==' instead of '='? (2118269489.py, line 1)",
     "output_type": "error",
     "traceback": [
      "\u001b[0;36m  Cell \u001b[0;32mIn [5], line 1\u001b[0;36m\u001b[0m\n\u001b[0;31m    df_1985 = df[df.year=1985]\u001b[0m\n\u001b[0m                 ^\u001b[0m\n\u001b[0;31mSyntaxError\u001b[0m\u001b[0;31m:\u001b[0m cannot assign to attribute here. Maybe you meant '==' instead of '='?\n"
     ]
    }
   ],
   "source": []
  },
  {
   "cell_type": "code",
   "execution_count": 14,
   "id": "d0279147",
   "metadata": {},
   "outputs": [],
   "source": [
    "df = df[['lwage','nearc2', 'nearc4' ,'age', 'married', 'smsa', 'educ' ]].dropna()"
   ]
  },
  {
   "cell_type": "code",
   "execution_count": 15,
   "id": "ba0dcabc",
   "metadata": {},
   "outputs": [
    {
     "name": "stdout",
     "output_type": "stream",
     "text": [
      "(3003,) (3003, 3) (3003,) (3003, 2)\n"
     ]
    }
   ],
   "source": [
    "np.random.seed(1)\n",
    "df.head(5)\n",
    "y = df['lwage']\n",
    "d = df['educ']\n",
    "x = df[['age', 'married', 'smsa']]\n",
    "z = df[['nearc2', 'nearc4']]\n",
    "\n",
    "l = RandomForestRegressor(n_estimators = 500, max_features = 'sqrt', max_depth= 5)\n",
    "g = clone(l)\n",
    "m = RandomForestClassifier(n_estimators = 500, max_features = 'sqrt', max_depth= 5)\n",
    "r = RandomForestRegressor(n_estimators = 500, max_features = 'sqrt', max_depth= 5)\n",
    "\n",
    "def score(y, d, l_hat, m_hat, g_hat, smpls):\n",
    "    u_hat = y - g_hat\n",
    "    psi_a = -np.multiply(d, d)\n",
    "    psi_b = np.multiply(d, u_hat)\n",
    "    return psi_a, psi_b\n",
    "\n",
    "print(y.shape, x.shape, d.shape, z.shape)"
   ]
  },
  {
   "cell_type": "code",
   "execution_count": 27,
   "id": "7e12e9df",
   "metadata": {},
   "outputs": [],
   "source": [
    "import statsmodels.api as sm\n",
    "OLS = sm.OLS(y, sm.add_constant(np.c_[d, x])).fit()"
   ]
  },
  {
   "cell_type": "code",
   "execution_count": 17,
   "id": "0691d6cb",
   "metadata": {},
   "outputs": [
    {
     "data": {
      "text/html": [
       "<table class=\"simpletable\">\n",
       "<caption>IV2SLS Regression Results</caption>\n",
       "<tr>\n",
       "  <th>Dep. Variable:</th>          <td>lwage</td>      <th>  R-squared:         </th> <td>  -0.093</td>\n",
       "</tr>\n",
       "<tr>\n",
       "  <th>Model:</th>                 <td>IV2SLS</td>      <th>  Adj. R-squared:    </th> <td>  -0.094</td>\n",
       "</tr>\n",
       "<tr>\n",
       "  <th>Method:</th>               <td>Two Stage</td>    <th>  F-statistic:       </th> <td>   118.4</td>\n",
       "</tr>\n",
       "<tr>\n",
       "  <th></th>                    <td>Least Squares</td>  <th>  Prob (F-statistic):</th> <td>7.21e-94</td>\n",
       "</tr>\n",
       "<tr>\n",
       "  <th>Date:</th>             <td>Tue, 13 Dec 2022</td> <th>                     </th>     <td> </td>   \n",
       "</tr>\n",
       "<tr>\n",
       "  <th>Time:</th>                 <td>12:19:59</td>     <th>                     </th>     <td> </td>   \n",
       "</tr>\n",
       "<tr>\n",
       "  <th>No. Observations:</th>      <td>  3003</td>      <th>                     </th>     <td> </td>   \n",
       "</tr>\n",
       "<tr>\n",
       "  <th>Df Residuals:</th>          <td>  2998</td>      <th>                     </th>     <td> </td>   \n",
       "</tr>\n",
       "<tr>\n",
       "  <th>Df Model:</th>              <td>     4</td>      <th>                     </th>     <td> </td>   \n",
       "</tr>\n",
       "</table>\n",
       "<table class=\"simpletable\">\n",
       "<tr>\n",
       "     <td></td>        <th>coef</th>     <th>std err</th>      <th>t</th>      <th>P>|t|</th>  <th>[0.025</th>    <th>0.975]</th>  \n",
       "</tr>\n",
       "<tr>\n",
       "  <th>const</th>   <td>    3.3827</td> <td>    0.465</td> <td>    7.275</td> <td> 0.000</td> <td>    2.471</td> <td>    4.294</td>\n",
       "</tr>\n",
       "<tr>\n",
       "  <th>educ</th>    <td>    0.1473</td> <td>    0.038</td> <td>    3.908</td> <td> 0.000</td> <td>    0.073</td> <td>    0.221</td>\n",
       "</tr>\n",
       "<tr>\n",
       "  <th>age</th>     <td>    0.0345</td> <td>    0.003</td> <td>   12.389</td> <td> 0.000</td> <td>    0.029</td> <td>    0.040</td>\n",
       "</tr>\n",
       "<tr>\n",
       "  <th>married</th> <td>   -0.0479</td> <td>    0.005</td> <td>   -9.454</td> <td> 0.000</td> <td>   -0.058</td> <td>   -0.038</td>\n",
       "</tr>\n",
       "<tr>\n",
       "  <th>smsa</th>    <td>    0.0900</td> <td>    0.045</td> <td>    1.998</td> <td> 0.046</td> <td>    0.002</td> <td>    0.178</td>\n",
       "</tr>\n",
       "</table>\n",
       "<table class=\"simpletable\">\n",
       "<tr>\n",
       "  <th>Omnibus:</th>       <td>20.554</td> <th>  Durbin-Watson:     </th> <td>   1.849</td>\n",
       "</tr>\n",
       "<tr>\n",
       "  <th>Prob(Omnibus):</th> <td> 0.000</td> <th>  Jarque-Bera (JB):  </th> <td>  23.283</td>\n",
       "</tr>\n",
       "<tr>\n",
       "  <th>Skew:</th>          <td>-0.146</td> <th>  Prob(JB):          </th> <td>8.79e-06</td>\n",
       "</tr>\n",
       "<tr>\n",
       "  <th>Kurtosis:</th>      <td> 3.318</td> <th>  Cond. No.          </th> <td>    337.</td>\n",
       "</tr>\n",
       "</table>"
      ],
      "text/plain": [
       "<class 'statsmodels.iolib.summary.Summary'>\n",
       "\"\"\"\n",
       "                          IV2SLS Regression Results                           \n",
       "==============================================================================\n",
       "Dep. Variable:                  lwage   R-squared:                      -0.093\n",
       "Model:                         IV2SLS   Adj. R-squared:                 -0.094\n",
       "Method:                     Two Stage   F-statistic:                     118.4\n",
       "                        Least Squares   Prob (F-statistic):           7.21e-94\n",
       "Date:                Tue, 13 Dec 2022                                         \n",
       "Time:                        12:19:59                                         \n",
       "No. Observations:                3003                                         \n",
       "Df Residuals:                    2998                                         \n",
       "Df Model:                           4                                         \n",
       "==============================================================================\n",
       "                 coef    std err          t      P>|t|      [0.025      0.975]\n",
       "------------------------------------------------------------------------------\n",
       "const          3.3827      0.465      7.275      0.000       2.471       4.294\n",
       "educ           0.1473      0.038      3.908      0.000       0.073       0.221\n",
       "age            0.0345      0.003     12.389      0.000       0.029       0.040\n",
       "married       -0.0479      0.005     -9.454      0.000      -0.058      -0.038\n",
       "smsa           0.0900      0.045      1.998      0.046       0.002       0.178\n",
       "==============================================================================\n",
       "Omnibus:                       20.554   Durbin-Watson:                   1.849\n",
       "Prob(Omnibus):                  0.000   Jarque-Bera (JB):               23.283\n",
       "Skew:                          -0.146   Prob(JB):                     8.79e-06\n",
       "Kurtosis:                       3.318   Cond. No.                         337.\n",
       "==============================================================================\n",
       "\"\"\""
      ]
     },
     "execution_count": 17,
     "metadata": {},
     "output_type": "execute_result"
    }
   ],
   "source": [
    "from statsmodels.sandbox.regression.gmm import IV2SLS\n",
    "endog = df['lwage']\n",
    "exog =  df[['educ', 'age', 'married', 'smsa']]\n",
    "instr = df[['nearc2', 'nearc4' ,'age', 'married', 'smsa']]\n",
    "exog_constant = sm.add_constant(exog)\n",
    "instr_constant = sm.add_constant(instr)\n",
    "IV2SLS = IV2SLS(endog, exog_constant, instrument = instr_constant).fit()\n",
    "IV2SLS.summary()\n"
   ]
  },
  {
   "cell_type": "code",
   "execution_count": 23,
   "id": "0db6b608",
   "metadata": {},
   "outputs": [
    {
     "name": "stderr",
     "output_type": "stream",
     "text": [
      "/usr/local/lib/python3.10/site-packages/doubleml/double_ml.py:953: UserWarning: Learner provided for ml_m is probably invalid: RandomForestClassifier(max_depth=5, n_estimators=500) is (probably) no regressor.\n",
      "  warnings.warn(warn_msg_prefix + f'{str(learner)} is (probably) no regressor.')\n"
     ]
    }
   ],
   "source": [
    "data = DoubleMLData(df.sample(int(df.shape[0]*0.8)), 'lwage', 'educ', z_cols=['nearc2', 'nearc4'])\n",
    "SML = DoubleMLPLIV(data, l,m,g,r, n_folds=1,apply_cross_fitting=False,score=score)\n",
    "#SML.fit();"
   ]
  },
  {
   "cell_type": "code",
   "execution_count": 25,
   "id": "4c886179",
   "metadata": {},
   "outputs": [
    {
     "name": "stderr",
     "output_type": "stream",
     "text": [
      "/usr/local/lib/python3.10/site-packages/doubleml/double_ml.py:953: UserWarning: Learner provided for ml_m is probably invalid: RandomForestClassifier(max_depth=5, n_estimators=500) is (probably) no regressor.\n",
      "  warnings.warn(warn_msg_prefix + f'{str(learner)} is (probably) no regressor.')\n",
      "/usr/local/lib/python3.10/site-packages/doubleml/double_ml_pliv.py:153: UserWarning: A learner ml_g has been provided for score = \"partialling out\" but will be ignored. \"A learner ml_g is not required for estimation.\n",
      "  warnings.warn(('A learner ml_g has been provided for score = \"partialling out\" but will be ignored. \"'\n"
     ]
    }
   ],
   "source": [
    "data = DoubleMLData(df.sample(int(df.shape[0]*0.8)), 'lwage', 'educ', z_cols=['nearc2', 'nearc4'])\n",
    "OML = DoubleMLPLIV(data,l,m,g,r, n_folds=1,apply_cross_fitting=False)\n",
    "#OML.fit();"
   ]
  },
  {
   "cell_type": "code",
   "execution_count": 26,
   "id": "2b5dc3b3",
   "metadata": {},
   "outputs": [
    {
     "name": "stderr",
     "output_type": "stream",
     "text": [
      "/usr/local/lib/python3.10/site-packages/doubleml/double_ml.py:953: UserWarning: Learner provided for ml_m is probably invalid: RandomForestClassifier(max_depth=5, n_estimators=500) is (probably) no regressor.\n",
      "  warnings.warn(warn_msg_prefix + f'{str(learner)} is (probably) no regressor.')\n",
      "/usr/local/lib/python3.10/site-packages/doubleml/double_ml_pliv.py:153: UserWarning: A learner ml_g has been provided for score = \"partialling out\" but will be ignored. \"A learner ml_g is not required for estimation.\n",
      "  warnings.warn(('A learner ml_g has been provided for score = \"partialling out\" but will be ignored. \"'\n"
     ]
    }
   ],
   "source": [
    "data = DoubleMLData(df.sample(int(df.shape[0]*1)), 'lwage', 'educ', z_cols=['nearc2', 'nearc4'])\n",
    "DML = DoubleMLPLIV(data, l,m,g,r, n_folds=5,apply_cross_fitting=True)\n",
    "DML.fit();"
   ]
  },
  {
   "cell_type": "code",
   "execution_count": 28,
   "id": "5b13036a",
   "metadata": {},
   "outputs": [
    {
     "name": "stdout",
     "output_type": "stream",
     "text": [
      "+----------------------------------+-------+-----------+--------+-------+-------+--------+\n",
      "|            Estimator             | θ_hat | Std Error |   t    |   p   |  2.5% | 97.25% |\n",
      "+----------------------------------+-------+-----------+--------+-------+-------+--------+\n",
      "|               OLS                | 0.048 |   0.003   | 18.122 | 0.000 |  nan  |  nan   |\n",
      "|             IV-2SLS              | 0.147 |   0.038   | 3.908  | 0.000 |  nan  |  nan   |\n",
      "| Orthogonal+Crossfitting ML (DML) | 0.166 |   0.054   | 3.061  | 0.002 | 0.060 | 0.272  |\n",
      "+----------------------------------+-------+-----------+--------+-------+-------+--------+\n"
     ]
    }
   ],
   "source": [
    "table = PrettyTable()\n",
    "table.field_names = ['Estimator', 'θ_hat', 'Std Error','t','p','2.5%','97.25%']\n",
    "a = ['OLS']+ np.c_[OLS.params[1], OLS.bse[1], OLS.tvalues[1], OLS.pvalues[1], np.nan, np.nan].reshape(-1).tolist()\n",
    "table.add_row(a)\n",
    "a = ['IV-2SLS']+ np.c_[IV2SLS.params[1], IV2SLS.bse[1], IV2SLS.tvalues[1], IV2SLS.pvalues[1], np.nan, np.nan].reshape(-1).tolist()\n",
    "table.add_row(a)\n",
    "#a = ['Naive/Single ML (SML)']+ np.array(SML.summary).reshape(-1).tolist()\n",
    "#table.add_row(a)\n",
    "#a = ['Orthogonal ML (OML)']+ np.array(OML.summary).reshape(-1).tolist()\n",
    "#table.add_row(a)\n",
    "a = ['Orthogonal+Crossfitting ML (DML)']+ np.array(DML.summary).reshape(-1).tolist()\n",
    "table.add_row(a)\n",
    "table.float_format = '0.3'\n",
    "print(table)"
   ]
  },
  {
   "cell_type": "code",
   "execution_count": null,
   "id": "11a7febb",
   "metadata": {},
   "outputs": [],
   "source": []
  }
 ],
 "metadata": {
  "kernelspec": {
   "display_name": "Python 3 (ipykernel)",
   "language": "python",
   "name": "python3"
  },
  "language_info": {
   "codemirror_mode": {
    "name": "ipython",
    "version": 3
   },
   "file_extension": ".py",
   "mimetype": "text/x-python",
   "name": "python",
   "nbconvert_exporter": "python",
   "pygments_lexer": "ipython3",
   "version": "3.10.9"
  }
 },
 "nbformat": 4,
 "nbformat_minor": 5
}
