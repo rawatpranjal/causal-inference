{
 "cells": [
  {
   "cell_type": "markdown",
   "id": "bc8bc1d0",
   "metadata": {},
   "source": [
    "# Packages"
   ]
  },
  {
   "cell_type": "code",
   "execution_count": 31,
   "id": "cbc5a055",
   "metadata": {},
   "outputs": [],
   "source": [
    "import numpy as np\n",
    "import pandas as pd\n",
    "from doubleml.datasets import fetch_bonus, fetch_401K\n",
    "from doubleml import DoubleMLData\n",
    "import statsmodels.api as sm\n",
    "from sklearn.base import clone\n",
    "from sklearn.ensemble import RandomForestRegressor, RandomForestClassifier\n",
    "from sklearn.linear_model import LassoCV\n",
    "from doubleml import DoubleMLPLR\n",
    "from doubleml import DoubleMLPLR\n",
    "from prettytable import PrettyTable\n",
    "from PIL import Image, ImageDraw, ImageFont\n",
    "from sklearn.linear_model import LinearRegression, LogisticRegression, LassoCV, LogisticRegressionCV\n",
    "from sklearn.neural_network import MLPRegressor, MLPClassifier\n",
    "from catboost import CatBoostRegressor, CatBoostClassifier\n",
    "from xgboost import XGBRegressor, XGBClassifier\n",
    "from sklearn.preprocessing import normalize\n",
    "from sklearn.model_selection import cross_val_score\n",
    "import warnings\n",
    "warnings.filterwarnings('ignore')\n",
    "np.random.seed(3293423)"
   ]
  },
  {
   "cell_type": "markdown",
   "id": "3e3ea0e8",
   "metadata": {},
   "source": [
    "# Load the Data"
   ]
  },
  {
   "cell_type": "markdown",
   "id": "da49e9ef",
   "metadata": {},
   "source": [
    "Between 1965 and 1982, the Social Security Survivor Benefits (SSSB) Program in the United States offered $6,700 (expressed in year 2000 dol- lars) in college financial aid to the 18- to 22-year-old children of deceased, disabled, or retired Social Security recipients. In 1981, the U.S. Congress eliminated the SSSB program, mandating that otherwise eligible children who were not enrolled in college as of May 1982 would not receive the SSSB college-aid offer. Using the National Longitudinal Survey of Youth, Dynarski identified students in cohorts of high-school seniors, just before and just after the policy change, who would have been eligible for the aid offer because their fathers were Social Security recipients who had died. She argued that, other than differing in receipt of the offer of college aid, these two groups of students were equal in expectation initially. However, the 137 high-school seniors who satisfied SSSB eligibility requirements immediately before the policy change (in the years 1979 through 1981) received the college financial-aid offer and therefore constituted the treat- ment group. The 54 high-school seniors who satisfied SSSB eligibility requirements immediately after the policy change (1982 and 1983) received no SSSB-related financial-aid offer and made up the control group."
   ]
  },
  {
   "cell_type": "code",
   "execution_count": 32,
   "id": "ba0dcabc",
   "metadata": {},
   "outputs": [
    {
     "data": {
      "text/html": [
       "<div>\n",
       "<style scoped>\n",
       "    .dataframe tbody tr th:only-of-type {\n",
       "        vertical-align: middle;\n",
       "    }\n",
       "\n",
       "    .dataframe tbody tr th {\n",
       "        vertical-align: top;\n",
       "    }\n",
       "\n",
       "    .dataframe thead th {\n",
       "        text-align: right;\n",
       "    }\n",
       "</style>\n",
       "<table border=\"1\" class=\"dataframe\">\n",
       "  <thead>\n",
       "    <tr style=\"text-align: right;\">\n",
       "      <th></th>\n",
       "      <th>id</th>\n",
       "      <th>hhid</th>\n",
       "      <th>wt88</th>\n",
       "      <th>coll</th>\n",
       "      <th>hgc23</th>\n",
       "      <th>yearsr</th>\n",
       "      <th>fatherdec</th>\n",
       "      <th>offer</th>\n",
       "      <th>fd</th>\n",
       "    </tr>\n",
       "  </thead>\n",
       "  <tbody>\n",
       "    <tr>\n",
       "      <th>0</th>\n",
       "      <td>9</td>\n",
       "      <td>9</td>\n",
       "      <td>691916</td>\n",
       "      <td>1</td>\n",
       "      <td>13</td>\n",
       "      <td>81</td>\n",
       "      <td>Father not deceased</td>\n",
       "      <td>1</td>\n",
       "      <td>1</td>\n",
       "    </tr>\n",
       "    <tr>\n",
       "      <th>1</th>\n",
       "      <td>14</td>\n",
       "      <td>13</td>\n",
       "      <td>784204</td>\n",
       "      <td>1</td>\n",
       "      <td>16</td>\n",
       "      <td>81</td>\n",
       "      <td>Father not deceased</td>\n",
       "      <td>1</td>\n",
       "      <td>1</td>\n",
       "    </tr>\n",
       "    <tr>\n",
       "      <th>2</th>\n",
       "      <td>15</td>\n",
       "      <td>15</td>\n",
       "      <td>811032</td>\n",
       "      <td>1</td>\n",
       "      <td>16</td>\n",
       "      <td>82</td>\n",
       "      <td>Father not deceased</td>\n",
       "      <td>0</td>\n",
       "      <td>1</td>\n",
       "    </tr>\n",
       "    <tr>\n",
       "      <th>3</th>\n",
       "      <td>21</td>\n",
       "      <td>20</td>\n",
       "      <td>644853</td>\n",
       "      <td>1</td>\n",
       "      <td>16</td>\n",
       "      <td>79</td>\n",
       "      <td>Father not deceased</td>\n",
       "      <td>1</td>\n",
       "      <td>1</td>\n",
       "    </tr>\n",
       "    <tr>\n",
       "      <th>4</th>\n",
       "      <td>22</td>\n",
       "      <td>22</td>\n",
       "      <td>728189</td>\n",
       "      <td>1</td>\n",
       "      <td>16</td>\n",
       "      <td>80</td>\n",
       "      <td>Father not deceased</td>\n",
       "      <td>1</td>\n",
       "      <td>1</td>\n",
       "    </tr>\n",
       "  </tbody>\n",
       "</table>\n",
       "</div>"
      ],
      "text/plain": [
       "   id  hhid    wt88  coll  hgc23  yearsr            fatherdec  offer  fd\n",
       "0   9     9  691916     1     13      81  Father not deceased      1   1\n",
       "1  14    13  784204     1     16      81  Father not deceased      1   1\n",
       "2  15    15  811032     1     16      82  Father not deceased      0   1\n",
       "3  21    20  644853     1     16      79  Father not deceased      1   1\n",
       "4  22    22  728189     1     16      80  Father not deceased      1   1"
      ]
     },
     "execution_count": 32,
     "metadata": {},
     "output_type": "execute_result"
    }
   ],
   "source": [
    "import pandas as pd\n",
    "import numpy as np\n",
    "df = pd.read_csv('/Users/pranjal/Desktop/Causal-Inference/data/collegeoffer.csv')\n",
    "df['fd'] = 0\n",
    "df.loc[df.fatherdec=='Father not deceased', 'fd'] = 1\n",
    "df.head()"
   ]
  },
  {
   "cell_type": "code",
   "execution_count": 33,
   "id": "6c52c34a",
   "metadata": {},
   "outputs": [
    {
     "data": {
      "text/html": [
       "<div>\n",
       "<style scoped>\n",
       "    .dataframe tbody tr th:only-of-type {\n",
       "        vertical-align: middle;\n",
       "    }\n",
       "\n",
       "    .dataframe tbody tr th {\n",
       "        vertical-align: top;\n",
       "    }\n",
       "\n",
       "    .dataframe thead th {\n",
       "        text-align: right;\n",
       "    }\n",
       "</style>\n",
       "<table border=\"1\" class=\"dataframe\">\n",
       "  <thead>\n",
       "    <tr style=\"text-align: right;\">\n",
       "      <th></th>\n",
       "      <th>id</th>\n",
       "      <th>hhid</th>\n",
       "      <th>wt88</th>\n",
       "      <th>coll</th>\n",
       "      <th>hgc23</th>\n",
       "      <th>yearsr</th>\n",
       "      <th>offer</th>\n",
       "      <th>fd</th>\n",
       "    </tr>\n",
       "  </thead>\n",
       "  <tbody>\n",
       "    <tr>\n",
       "      <th>id</th>\n",
       "      <td>1.000000</td>\n",
       "      <td>1.000000</td>\n",
       "      <td>-0.579677</td>\n",
       "      <td>-0.076675</td>\n",
       "      <td>-0.126027</td>\n",
       "      <td>0.040928</td>\n",
       "      <td>-0.034088</td>\n",
       "      <td>-0.018138</td>\n",
       "    </tr>\n",
       "    <tr>\n",
       "      <th>hhid</th>\n",
       "      <td>1.000000</td>\n",
       "      <td>1.000000</td>\n",
       "      <td>-0.579669</td>\n",
       "      <td>-0.076661</td>\n",
       "      <td>-0.126012</td>\n",
       "      <td>0.040878</td>\n",
       "      <td>-0.034049</td>\n",
       "      <td>-0.018136</td>\n",
       "    </tr>\n",
       "    <tr>\n",
       "      <th>wt88</th>\n",
       "      <td>-0.579677</td>\n",
       "      <td>-0.579669</td>\n",
       "      <td>1.000000</td>\n",
       "      <td>0.110379</td>\n",
       "      <td>0.205170</td>\n",
       "      <td>0.017405</td>\n",
       "      <td>-0.048547</td>\n",
       "      <td>0.058347</td>\n",
       "    </tr>\n",
       "    <tr>\n",
       "      <th>coll</th>\n",
       "      <td>-0.076675</td>\n",
       "      <td>-0.076661</td>\n",
       "      <td>0.110379</td>\n",
       "      <td>1.000000</td>\n",
       "      <td>0.775674</td>\n",
       "      <td>-0.045338</td>\n",
       "      <td>0.044412</td>\n",
       "      <td>-0.003655</td>\n",
       "    </tr>\n",
       "    <tr>\n",
       "      <th>hgc23</th>\n",
       "      <td>-0.126027</td>\n",
       "      <td>-0.126012</td>\n",
       "      <td>0.205170</td>\n",
       "      <td>0.775674</td>\n",
       "      <td>1.000000</td>\n",
       "      <td>-0.074521</td>\n",
       "      <td>0.058952</td>\n",
       "      <td>0.014941</td>\n",
       "    </tr>\n",
       "    <tr>\n",
       "      <th>yearsr</th>\n",
       "      <td>0.040928</td>\n",
       "      <td>0.040878</td>\n",
       "      <td>0.017405</td>\n",
       "      <td>-0.045338</td>\n",
       "      <td>-0.074521</td>\n",
       "      <td>1.000000</td>\n",
       "      <td>-0.811417</td>\n",
       "      <td>-0.014989</td>\n",
       "    </tr>\n",
       "    <tr>\n",
       "      <th>offer</th>\n",
       "      <td>-0.034088</td>\n",
       "      <td>-0.034049</td>\n",
       "      <td>-0.048547</td>\n",
       "      <td>0.044412</td>\n",
       "      <td>0.058952</td>\n",
       "      <td>-0.811417</td>\n",
       "      <td>1.000000</td>\n",
       "      <td>0.002884</td>\n",
       "    </tr>\n",
       "    <tr>\n",
       "      <th>fd</th>\n",
       "      <td>-0.018138</td>\n",
       "      <td>-0.018136</td>\n",
       "      <td>0.058347</td>\n",
       "      <td>-0.003655</td>\n",
       "      <td>0.014941</td>\n",
       "      <td>-0.014989</td>\n",
       "      <td>0.002884</td>\n",
       "      <td>1.000000</td>\n",
       "    </tr>\n",
       "  </tbody>\n",
       "</table>\n",
       "</div>"
      ],
      "text/plain": [
       "              id      hhid      wt88      coll     hgc23    yearsr     offer  \\\n",
       "id      1.000000  1.000000 -0.579677 -0.076675 -0.126027  0.040928 -0.034088   \n",
       "hhid    1.000000  1.000000 -0.579669 -0.076661 -0.126012  0.040878 -0.034049   \n",
       "wt88   -0.579677 -0.579669  1.000000  0.110379  0.205170  0.017405 -0.048547   \n",
       "coll   -0.076675 -0.076661  0.110379  1.000000  0.775674 -0.045338  0.044412   \n",
       "hgc23  -0.126027 -0.126012  0.205170  0.775674  1.000000 -0.074521  0.058952   \n",
       "yearsr  0.040928  0.040878  0.017405 -0.045338 -0.074521  1.000000 -0.811417   \n",
       "offer  -0.034088 -0.034049 -0.048547  0.044412  0.058952 -0.811417  1.000000   \n",
       "fd     -0.018138 -0.018136  0.058347 -0.003655  0.014941 -0.014989  0.002884   \n",
       "\n",
       "              fd  \n",
       "id     -0.018138  \n",
       "hhid   -0.018136  \n",
       "wt88    0.058347  \n",
       "coll   -0.003655  \n",
       "hgc23   0.014941  \n",
       "yearsr -0.014989  \n",
       "offer   0.002884  \n",
       "fd      1.000000  "
      ]
     },
     "execution_count": 33,
     "metadata": {},
     "output_type": "execute_result"
    }
   ],
   "source": [
    "df.corr()"
   ]
  },
  {
   "cell_type": "code",
   "execution_count": 34,
   "id": "56243de7",
   "metadata": {},
   "outputs": [
    {
     "data": {
      "text/plain": [
       "Index(['id', 'hhid', 'wt88', 'coll', 'hgc23', 'yearsr', 'fatherdec', 'offer',\n",
       "       'fd'],\n",
       "      dtype='object')"
      ]
     },
     "execution_count": 34,
     "metadata": {},
     "output_type": "execute_result"
    }
   ],
   "source": [
    "df.columns"
   ]
  },
  {
   "cell_type": "code",
   "execution_count": 35,
   "id": "dcefa355",
   "metadata": {
    "scrolled": true
   },
   "outputs": [
    {
     "name": "stdout",
     "output_type": "stream",
     "text": [
      "id           0\n",
      "hhid         0\n",
      "wt88         0\n",
      "coll         0\n",
      "hgc23        0\n",
      "yearsr       0\n",
      "fatherdec    0\n",
      "offer        0\n",
      "fd           0\n",
      "dtype: int64\n"
     ]
    }
   ],
   "source": [
    "print(df.isnull().sum())"
   ]
  },
  {
   "cell_type": "code",
   "execution_count": 36,
   "id": "fe1221d5",
   "metadata": {},
   "outputs": [
    {
     "name": "stdout",
     "output_type": "stream",
     "text": [
      "(3986, 1) (3986, 1) (3986, 3)\n"
     ]
    }
   ],
   "source": [
    "outcome = 'coll'\n",
    "treatment = 'offer'\n",
    "rest = list(df.drop([outcome, treatment, 'hhid', 'id', 'fatherdec', 'yearsr'], axis = 1).columns)\n",
    "df = df[[outcome] + [treatment] + rest]\n",
    "y = np.array(df.coll).reshape(-1, 1)\n",
    "d = np.array(df.offer).astype(int).reshape(-1, 1)\n",
    "x = np.array(df[rest])\n",
    "print(y.shape, d.shape, x.shape)"
   ]
  },
  {
   "cell_type": "markdown",
   "id": "b8448830",
   "metadata": {},
   "source": [
    "# First Stage"
   ]
  },
  {
   "cell_type": "code",
   "execution_count": 37,
   "id": "e42a800c",
   "metadata": {},
   "outputs": [
    {
     "name": "stdout",
     "output_type": "stream",
     "text": [
      "+-----------------------+---------------+---------------+\n",
      "|       Estimator       | g(X):Rsquared | m(X):Accuracy |\n",
      "+-----------------------+---------------+---------------+\n",
      "|    Linear/Logistic    |     0.598     |     0.723     |\n",
      "| Linear/Logistic (Reg) |     0.000     |     0.723     |\n",
      "|     Random Forests    |     0.726     |     0.724     |\n",
      "|        Boosting       |     0.705     |     0.697     |\n",
      "|    Neural Networks    |     -0.031    |     0.723     |\n",
      "+-----------------------+---------------+---------------+\n"
     ]
    }
   ],
   "source": [
    "np.random.seed(42)\n",
    "table = PrettyTable()\n",
    "table.field_names = ['Estimator', 'g(X):Rsquared', 'm(X):Accuracy']\n",
    "a = ['Linear/Logistic',np.mean(cross_val_score(LinearRegression(), x, y, cv=5)),np.mean(cross_val_score(LogisticRegression(), x, d, cv=5))]\n",
    "table.add_row(a)\n",
    "a = ['Linear/Logistic (Reg)',np.mean(cross_val_score(LassoCV(), x, y, cv=5)),np.mean(cross_val_score(LogisticRegressionCV(), x, d, cv=5))]\n",
    "table.add_row(a)\n",
    "a = ['Random Forests',np.mean(cross_val_score(RandomForestRegressor(max_depth=5,n_estimators=500,verbose=0), x, y, cv=5)),np.mean(cross_val_score(RandomForestClassifier(max_depth=5), x, d, cv=5))]\n",
    "table.add_row(a)\n",
    "a = ['Boosting',np.mean(cross_val_score(XGBRegressor(max_depth=3,verbosity=0), x, y, cv=5)),np.mean(cross_val_score(XGBClassifier(verbosity=0,max_depth=5), x, d, cv=5))]\n",
    "table.add_row(a)\n",
    "a = ['Neural Networks',np.mean(cross_val_score(MLPRegressor(activation = 'tanh', max_iter=500, learning_rate_init=0.01), normalize(x), y, cv=5)),np.mean(cross_val_score(MLPClassifier((5,2,), activation = 'tanh', max_iter=500,learning_rate_init=0.01), normalize(x), d, cv=5))]\n",
    "table.add_row(a)\n",
    "table.float_format = '0.3'\n",
    "print(table)"
   ]
  },
  {
   "cell_type": "markdown",
   "id": "74745986",
   "metadata": {},
   "source": [
    "# OLS"
   ]
  },
  {
   "cell_type": "code",
   "execution_count": 11,
   "id": "0691d6cb",
   "metadata": {},
   "outputs": [
    {
     "data": {
      "text/html": [
       "<table class=\"simpletable\">\n",
       "<caption>OLS Regression Results</caption>\n",
       "<tr>\n",
       "  <th>Dep. Variable:</th>            <td>y</td>        <th>  R-squared:         </th> <td>   0.605</td>\n",
       "</tr>\n",
       "<tr>\n",
       "  <th>Model:</th>                   <td>OLS</td>       <th>  Adj. R-squared:    </th> <td>   0.604</td>\n",
       "</tr>\n",
       "<tr>\n",
       "  <th>Method:</th>             <td>Least Squares</td>  <th>  F-statistic:       </th> <td>   1217.</td>\n",
       "</tr>\n",
       "<tr>\n",
       "  <th>Date:</th>             <td>Thu, 15 Dec 2022</td> <th>  Prob (F-statistic):</th>  <td>  0.00</td> \n",
       "</tr>\n",
       "<tr>\n",
       "  <th>Time:</th>                 <td>10:38:40</td>     <th>  Log-Likelihood:    </th> <td> -1029.3</td>\n",
       "</tr>\n",
       "<tr>\n",
       "  <th>No. Observations:</th>      <td>  3986</td>      <th>  AIC:               </th> <td>   2071.</td>\n",
       "</tr>\n",
       "<tr>\n",
       "  <th>Df Residuals:</th>          <td>  3980</td>      <th>  BIC:               </th> <td>   2108.</td>\n",
       "</tr>\n",
       "<tr>\n",
       "  <th>Df Model:</th>              <td>     5</td>      <th>                     </th>     <td> </td>   \n",
       "</tr>\n",
       "<tr>\n",
       "  <th>Covariance Type:</th>      <td>nonrobust</td>    <th>                     </th>     <td> </td>   \n",
       "</tr>\n",
       "</table>\n",
       "<table class=\"simpletable\">\n",
       "<tr>\n",
       "    <td></td>       <th>coef</th>     <th>std err</th>      <th>t</th>      <th>P>|t|</th>  <th>[0.025</th>    <th>0.975]</th>  \n",
       "</tr>\n",
       "<tr>\n",
       "  <th>const</th> <td>   -3.6529</td> <td>    0.576</td> <td>   -6.341</td> <td> 0.000</td> <td>   -4.782</td> <td>   -2.524</td>\n",
       "</tr>\n",
       "<tr>\n",
       "  <th>x1</th>    <td>    0.0228</td> <td>    0.019</td> <td>    1.197</td> <td> 0.231</td> <td>   -0.015</td> <td>    0.060</td>\n",
       "</tr>\n",
       "<tr>\n",
       "  <th>x2</th>    <td>-1.147e-07</td> <td> 2.35e-08</td> <td>   -4.887</td> <td> 0.000</td> <td>-1.61e-07</td> <td>-6.87e-08</td>\n",
       "</tr>\n",
       "<tr>\n",
       "  <th>x3</th>    <td>    0.2400</td> <td>    0.003</td> <td>   77.050</td> <td> 0.000</td> <td>    0.234</td> <td>    0.246</td>\n",
       "</tr>\n",
       "<tr>\n",
       "  <th>x4</th>    <td>    0.0125</td> <td>    0.007</td> <td>    1.792</td> <td> 0.073</td> <td>   -0.001</td> <td>    0.026</td>\n",
       "</tr>\n",
       "<tr>\n",
       "  <th>x5</th>    <td>   -0.0282</td> <td>    0.023</td> <td>   -1.212</td> <td> 0.226</td> <td>   -0.074</td> <td>    0.017</td>\n",
       "</tr>\n",
       "</table>\n",
       "<table class=\"simpletable\">\n",
       "<tr>\n",
       "  <th>Omnibus:</th>       <td>648.469</td> <th>  Durbin-Watson:     </th> <td>   1.902</td> \n",
       "</tr>\n",
       "<tr>\n",
       "  <th>Prob(Omnibus):</th> <td> 0.000</td>  <th>  Jarque-Bera (JB):  </th> <td>1003.043</td> \n",
       "</tr>\n",
       "<tr>\n",
       "  <th>Skew:</th>          <td> 1.196</td>  <th>  Prob(JB):          </th> <td>1.56e-218</td>\n",
       "</tr>\n",
       "<tr>\n",
       "  <th>Kurtosis:</th>      <td> 3.565</td>  <th>  Cond. No.          </th> <td>4.55e+07</td> \n",
       "</tr>\n",
       "</table><br/><br/>Notes:<br/>[1] Standard Errors assume that the covariance matrix of the errors is correctly specified.<br/>[2] The condition number is large, 4.55e+07. This might indicate that there are<br/>strong multicollinearity or other numerical problems."
      ],
      "text/plain": [
       "<class 'statsmodels.iolib.summary.Summary'>\n",
       "\"\"\"\n",
       "                            OLS Regression Results                            \n",
       "==============================================================================\n",
       "Dep. Variable:                      y   R-squared:                       0.605\n",
       "Model:                            OLS   Adj. R-squared:                  0.604\n",
       "Method:                 Least Squares   F-statistic:                     1217.\n",
       "Date:                Thu, 15 Dec 2022   Prob (F-statistic):               0.00\n",
       "Time:                        10:38:40   Log-Likelihood:                -1029.3\n",
       "No. Observations:                3986   AIC:                             2071.\n",
       "Df Residuals:                    3980   BIC:                             2108.\n",
       "Df Model:                           5                                         \n",
       "Covariance Type:            nonrobust                                         \n",
       "==============================================================================\n",
       "                 coef    std err          t      P>|t|      [0.025      0.975]\n",
       "------------------------------------------------------------------------------\n",
       "const         -3.6529      0.576     -6.341      0.000      -4.782      -2.524\n",
       "x1             0.0228      0.019      1.197      0.231      -0.015       0.060\n",
       "x2         -1.147e-07   2.35e-08     -4.887      0.000   -1.61e-07   -6.87e-08\n",
       "x3             0.2400      0.003     77.050      0.000       0.234       0.246\n",
       "x4             0.0125      0.007      1.792      0.073      -0.001       0.026\n",
       "x5            -0.0282      0.023     -1.212      0.226      -0.074       0.017\n",
       "==============================================================================\n",
       "Omnibus:                      648.469   Durbin-Watson:                   1.902\n",
       "Prob(Omnibus):                  0.000   Jarque-Bera (JB):             1003.043\n",
       "Skew:                           1.196   Prob(JB):                    1.56e-218\n",
       "Kurtosis:                       3.565   Cond. No.                     4.55e+07\n",
       "==============================================================================\n",
       "\n",
       "Notes:\n",
       "[1] Standard Errors assume that the covariance matrix of the errors is correctly specified.\n",
       "[2] The condition number is large, 4.55e+07. This might indicate that there are\n",
       "strong multicollinearity or other numerical problems.\n",
       "\"\"\""
      ]
     },
     "execution_count": 11,
     "metadata": {},
     "output_type": "execute_result"
    }
   ],
   "source": [
    "OLS = sm.OLS(y,sm.add_constant(np.c_[d,x])).fit()\n",
    "OLS.summary()"
   ]
  },
  {
   "cell_type": "markdown",
   "id": "ae0712ed",
   "metadata": {},
   "source": [
    "# ML Estimation"
   ]
  },
  {
   "cell_type": "code",
   "execution_count": 12,
   "id": "25c4d154",
   "metadata": {},
   "outputs": [],
   "source": [
    "l = RandomForestRegressor(max_depth=5,n_estimators=500,verbose=0) # Model for E[Y|X]=E[θD+g(X)]\n",
    "g = RandomForestRegressor(max_depth=5,n_estimators=500,verbose=0) # Model for E[Y - θD|X]=g(X)\n",
    "m = RandomForestClassifier(max_depth=5,n_estimators=500,verbose=0) # Model for E[D|X]\n",
    "\n",
    "def score(y, d, l_hat, m_hat, g_hat, smpls):\n",
    "    \"Score function for Single ML\"\n",
    "    u_hat = y - g_hat\n",
    "    psi_a = -np.multiply(d, d)\n",
    "    psi_b = np.multiply(d, u_hat)\n",
    "    return psi_a, psi_b"
   ]
  },
  {
   "cell_type": "markdown",
   "id": "e8d63a3a",
   "metadata": {},
   "source": [
    "# Single-ML"
   ]
  },
  {
   "cell_type": "code",
   "execution_count": 13,
   "id": "0db6b608",
   "metadata": {},
   "outputs": [
    {
     "name": "stdout",
     "output_type": "stream",
     "text": [
      "           coef   std err         t     P>|t|     2.5 %    97.5 %\n",
      "offer -0.014615  0.004665 -3.132811  0.001731 -0.023759 -0.005472\n"
     ]
    }
   ],
   "source": [
    "data = DoubleMLData(df, y_col=outcome,d_cols=treatment,x_cols=rest)\n",
    "SML = DoubleMLPLR(data, l, m, g, n_folds=1, apply_cross_fitting=False, score=score)\n",
    "SML.fit()\n",
    "print(SML.summary)"
   ]
  },
  {
   "cell_type": "markdown",
   "id": "570313ff",
   "metadata": {},
   "source": [
    "# Orthogonal-ML"
   ]
  },
  {
   "cell_type": "code",
   "execution_count": 14,
   "id": "4c886179",
   "metadata": {},
   "outputs": [
    {
     "name": "stdout",
     "output_type": "stream",
     "text": [
      "           coef   std err         t         P>|t|     2.5 %    97.5 %\n",
      "offer  0.049297  0.009132  5.398167  6.732507e-08  0.031398  0.067196\n"
     ]
    }
   ],
   "source": [
    "data = DoubleMLData(df,y_col=outcome,d_cols=treatment,x_cols=rest)\n",
    "OML = DoubleMLPLR(data,l, m, g, n_folds=1,apply_cross_fitting=False,score='IV-type')\n",
    "OML.fit();\n",
    "print(OML.summary)"
   ]
  },
  {
   "cell_type": "markdown",
   "id": "79977e89",
   "metadata": {},
   "source": [
    "# Orthogonal + Crossfitting (DML)"
   ]
  },
  {
   "cell_type": "code",
   "execution_count": 15,
   "id": "2b5dc3b3",
   "metadata": {},
   "outputs": [
    {
     "name": "stdout",
     "output_type": "stream",
     "text": [
      "           coef   std err         t         P>|t|   2.5 %    97.5 %\n",
      "offer  0.089288  0.009382  9.516846  1.785147e-21  0.0709  0.107677\n"
     ]
    }
   ],
   "source": [
    "data = DoubleMLData(df,y_col=outcome,d_cols=treatment,x_cols=rest)\n",
    "DML = DoubleMLPLR(data, l,m,g, n_folds=5,apply_cross_fitting=True,score='IV-type')\n",
    "DML.fit();\n",
    "print(DML.summary)"
   ]
  },
  {
   "cell_type": "markdown",
   "id": "d441e6e9",
   "metadata": {},
   "source": [
    "# Summary"
   ]
  },
  {
   "cell_type": "code",
   "execution_count": 16,
   "id": "5b13036a",
   "metadata": {},
   "outputs": [
    {
     "name": "stdout",
     "output_type": "stream",
     "text": [
      "+---------------------+--------+-----------+--------+-------+--------+--------+\n",
      "|      Estimator      | θ_hat  | Std Error |   t    |   p   |  2.5%  | 97.25% |\n",
      "+---------------------+--------+-----------+--------+-------+--------+--------+\n",
      "|         OLS         | 0.023  |   0.019   | 1.197  | 0.231 |  nan   |  nan   |\n",
      "|   Single ML (SML)   | -0.015 |   0.005   | -3.133 | 0.002 | -0.024 | -0.005 |\n",
      "| Orthogonal ML (OML) | 0.049  |   0.009   | 5.398  | 0.000 | 0.031  | 0.067  |\n",
      "|   Double ML (DML)   | 0.089  |   0.009   | 9.517  | 0.000 | 0.071  | 0.108  |\n",
      "+---------------------+--------+-----------+--------+-------+--------+--------+\n"
     ]
    }
   ],
   "source": [
    "table = PrettyTable()\n",
    "table.field_names = ['Estimator', 'θ_hat', 'Std Error','t','p','2.5%','97.25%']\n",
    "idx = 1\n",
    "a = ['OLS']+ np.c_[OLS.params[idx], OLS.bse[idx], OLS.tvalues[idx], OLS.pvalues[idx], np.nan, np.nan].reshape(-1).tolist()\n",
    "table.add_row(a)\n",
    "a = ['Single ML (SML)']+ np.array(SML.summary).reshape(-1).tolist()\n",
    "table.add_row(a)\n",
    "a = ['Orthogonal ML (OML)']+ np.array(OML.summary).reshape(-1).tolist()\n",
    "table.add_row(a)\n",
    "a = ['Double ML (DML)']+ np.array(DML.summary).reshape(-1).tolist()\n",
    "table.add_row(a)\n",
    "table.float_format = '0.3'\n",
    "print(table)"
   ]
  },
  {
   "cell_type": "code",
   "execution_count": null,
   "id": "9a0def96",
   "metadata": {},
   "outputs": [],
   "source": []
  }
 ],
 "metadata": {
  "kernelspec": {
   "display_name": "Python 3 (ipykernel)",
   "language": "python",
   "name": "python3"
  },
  "language_info": {
   "codemirror_mode": {
    "name": "ipython",
    "version": 3
   },
   "file_extension": ".py",
   "mimetype": "text/x-python",
   "name": "python",
   "nbconvert_exporter": "python",
   "pygments_lexer": "ipython3",
   "version": "3.10.9"
  }
 },
 "nbformat": 4,
 "nbformat_minor": 5
}
