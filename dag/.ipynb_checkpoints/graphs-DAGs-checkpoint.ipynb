{
 "cells": [
  {
   "cell_type": "markdown",
   "id": "11cf177e",
   "metadata": {},
   "source": [
    "# Graphs\n",
    "\n",
    "- have \"nodes\" and \"directed edges\"\n",
    "- \"nodes\" represent random variables\n",
    "- \"directed edges\" represent functional relationship/causal influence between variables\n",
    "- child nodes are functions of all parent nodes plus an exogenous stochastic component unique to itself\n",
    "- root node has no 'factors' but is also stochastic\n",
    "- the parameters that link variables are fixed and unchanging i.e structural parameters\n",
    "- many observations can be generated from the same graph"
   ]
  },
  {
   "cell_type": "markdown",
   "id": "548440c3",
   "metadata": {},
   "source": [
    "# Example 1: Chain"
   ]
  },
  {
   "cell_type": "code",
   "execution_count": 203,
   "id": "560ad028",
   "metadata": {},
   "outputs": [
    {
     "data": {
      "image/png": "[encoded data removed]",
      "text/plain": [
       "<Figure size 432x288 with 1 Axes>"
      ]
     },
     "metadata": {},
     "output_type": "display_data"
    }
   ],
   "source": [
    "import networkx as nx\n",
    "G = nx.DiGraph()\n",
    "G.add_nodes_from(['rain', 'wet', 'accident'])\n",
    "G.add_edge('rain', 'wet')\n",
    "G.add_edge('wet', 'accident')\n",
    "\n",
    "options = {\n",
    "    \"font_size\": 10,\n",
    "    \"node_size\": 3000,\n",
    "    \"node_color\": \"red\",\n",
    "    \"edgecolors\": \"black\",\n",
    "    \"linewidths\": 1,\n",
    "    \"width\": 5,\n",
    "}\n",
    "\n",
    "nx.draw(G, **options, with_labels=True)\n",
    "plt.show()"
   ]
  },
  {
   "cell_type": "markdown",
   "id": "ad470491",
   "metadata": {},
   "source": [
    "- Rain influences wetness which influences accidents\n",
    "- But each has intrisic randomness, there are no deterministic relationships\n",
    "- we generate N datapoints from this causal graph\n",
    "- first rain is randomly generated (half the time it rains), then wetness, then accidents\n",
    "- the prob of wetness if it rains is 0.7\n",
    "- the prob of accidents if is wet is 0.7\n",
    "- rain is not somewhat related to accidents but its correlation is very little (could be misleading)"
   ]
  },
  {
   "cell_type": "code",
   "execution_count": 220,
   "id": "aa55a950",
   "metadata": {},
   "outputs": [
    {
     "data": {
      "text/html": [
       "<div>\n",
       "<style scoped>\n",
       "    .dataframe tbody tr th:only-of-type {\n",
       "        vertical-align: middle;\n",
       "    }\n",
       "\n",
       "    .dataframe tbody tr th {\n",
       "        vertical-align: top;\n",
       "    }\n",
       "\n",
       "    .dataframe thead th {\n",
       "        text-align: right;\n",
       "    }\n",
       "</style>\n",
       "<table border=\"1\" class=\"dataframe\">\n",
       "  <thead>\n",
       "    <tr style=\"text-align: right;\">\n",
       "      <th></th>\n",
       "      <th>rain</th>\n",
       "      <th>wet</th>\n",
       "      <th>accident</th>\n",
       "    </tr>\n",
       "  </thead>\n",
       "  <tbody>\n",
       "    <tr>\n",
       "      <th>0</th>\n",
       "      <td>0</td>\n",
       "      <td>1</td>\n",
       "      <td>1</td>\n",
       "    </tr>\n",
       "    <tr>\n",
       "      <th>1</th>\n",
       "      <td>1</td>\n",
       "      <td>1</td>\n",
       "      <td>1</td>\n",
       "    </tr>\n",
       "    <tr>\n",
       "      <th>2</th>\n",
       "      <td>0</td>\n",
       "      <td>1</td>\n",
       "      <td>1</td>\n",
       "    </tr>\n",
       "    <tr>\n",
       "      <th>3</th>\n",
       "      <td>1</td>\n",
       "      <td>1</td>\n",
       "      <td>1</td>\n",
       "    </tr>\n",
       "    <tr>\n",
       "      <th>4</th>\n",
       "      <td>1</td>\n",
       "      <td>0</td>\n",
       "      <td>0</td>\n",
       "    </tr>\n",
       "    <tr>\n",
       "      <th>5</th>\n",
       "      <td>1</td>\n",
       "      <td>1</td>\n",
       "      <td>1</td>\n",
       "    </tr>\n",
       "    <tr>\n",
       "      <th>6</th>\n",
       "      <td>0</td>\n",
       "      <td>1</td>\n",
       "      <td>1</td>\n",
       "    </tr>\n",
       "    <tr>\n",
       "      <th>7</th>\n",
       "      <td>0</td>\n",
       "      <td>0</td>\n",
       "      <td>1</td>\n",
       "    </tr>\n",
       "    <tr>\n",
       "      <th>8</th>\n",
       "      <td>0</td>\n",
       "      <td>0</td>\n",
       "      <td>0</td>\n",
       "    </tr>\n",
       "    <tr>\n",
       "      <th>9</th>\n",
       "      <td>0</td>\n",
       "      <td>0</td>\n",
       "      <td>0</td>\n",
       "    </tr>\n",
       "    <tr>\n",
       "      <th>10</th>\n",
       "      <td>0</td>\n",
       "      <td>1</td>\n",
       "      <td>1</td>\n",
       "    </tr>\n",
       "    <tr>\n",
       "      <th>11</th>\n",
       "      <td>1</td>\n",
       "      <td>0</td>\n",
       "      <td>1</td>\n",
       "    </tr>\n",
       "    <tr>\n",
       "      <th>12</th>\n",
       "      <td>0</td>\n",
       "      <td>0</td>\n",
       "      <td>1</td>\n",
       "    </tr>\n",
       "    <tr>\n",
       "      <th>13</th>\n",
       "      <td>0</td>\n",
       "      <td>0</td>\n",
       "      <td>0</td>\n",
       "    </tr>\n",
       "    <tr>\n",
       "      <th>14</th>\n",
       "      <td>0</td>\n",
       "      <td>0</td>\n",
       "      <td>0</td>\n",
       "    </tr>\n",
       "    <tr>\n",
       "      <th>15</th>\n",
       "      <td>1</td>\n",
       "      <td>0</td>\n",
       "      <td>0</td>\n",
       "    </tr>\n",
       "    <tr>\n",
       "      <th>16</th>\n",
       "      <td>0</td>\n",
       "      <td>0</td>\n",
       "      <td>0</td>\n",
       "    </tr>\n",
       "    <tr>\n",
       "      <th>17</th>\n",
       "      <td>0</td>\n",
       "      <td>0</td>\n",
       "      <td>1</td>\n",
       "    </tr>\n",
       "    <tr>\n",
       "      <th>18</th>\n",
       "      <td>1</td>\n",
       "      <td>1</td>\n",
       "      <td>0</td>\n",
       "    </tr>\n",
       "    <tr>\n",
       "      <th>19</th>\n",
       "      <td>0</td>\n",
       "      <td>0</td>\n",
       "      <td>0</td>\n",
       "    </tr>\n",
       "  </tbody>\n",
       "</table>\n",
       "</div>"
      ],
      "text/plain": [
       "    rain  wet  accident\n",
       "0      0    1         1\n",
       "1      1    1         1\n",
       "2      0    1         1\n",
       "3      1    1         1\n",
       "4      1    0         0\n",
       "5      1    1         1\n",
       "6      0    1         1\n",
       "7      0    0         1\n",
       "8      0    0         0\n",
       "9      0    0         0\n",
       "10     0    1         1\n",
       "11     1    0         1\n",
       "12     0    0         1\n",
       "13     0    0         0\n",
       "14     0    0         0\n",
       "15     1    0         0\n",
       "16     0    0         0\n",
       "17     0    0         1\n",
       "18     1    1         0\n",
       "19     0    0         0"
      ]
     },
     "execution_count": 220,
     "metadata": {},
     "output_type": "execute_result"
    }
   ],
   "source": [
    "# Datapoints\n",
    "N = 10000\n",
    "\n",
    "# Rains randomly half the time\n",
    "rain = np.random.choice([0,1], N, p = [0.5, 0.5])\n",
    "\n",
    "# When it rains the road is likely to get wet\n",
    "wet = np.zeros(N)\n",
    "for i in range(0, N, 1):\n",
    "    if rain[i] == 1:\n",
    "        wet[i] = np.random.choice([0,1], 1, p = [0.3, 0.7])\n",
    "    else:\n",
    "        wet[i] = np.random.choice([0,1], 1, p = [0.7, 0.3])\n",
    "\n",
    "# When the road is wet there is likelihood of accidents\n",
    "accident = np.zeros(N)\n",
    "for i in range(0, N, 1):\n",
    "    if wet[i] == 1:\n",
    "        accident[i] = np.random.choice([0,1], 1, p = [0.3, 0.7])\n",
    "    else:\n",
    "        accident[i] = np.random.choice([0,1], 1, p = [0.7, 0.3])\n",
    "\n",
    "data = np.c_[rain, wet, accident]\n",
    "import pandas as pd\n",
    "df = pd.DataFrame(data.astype(int), columns = ['rain', 'wet', 'accident'])\n",
    "df.head(20)"
   ]
  },
  {
   "cell_type": "code",
   "execution_count": 221,
   "id": "def59158",
   "metadata": {},
   "outputs": [
    {
     "data": {
      "text/plain": [
       "rain        0.5046\n",
       "wet         0.4996\n",
       "accident    0.5021\n",
       "dtype: float64"
      ]
     },
     "execution_count": 221,
     "metadata": {},
     "output_type": "execute_result"
    }
   ],
   "source": [
    "# roughly half the days we see rain / wetness / accidents\n",
    "df.mean()"
   ]
  },
  {
   "cell_type": "code",
   "execution_count": 222,
   "id": "335b3b1e",
   "metadata": {},
   "outputs": [
    {
     "data": {
      "text/html": [
       "<div>\n",
       "<style scoped>\n",
       "    .dataframe tbody tr th:only-of-type {\n",
       "        vertical-align: middle;\n",
       "    }\n",
       "\n",
       "    .dataframe tbody tr th {\n",
       "        vertical-align: top;\n",
       "    }\n",
       "\n",
       "    .dataframe thead th {\n",
       "        text-align: right;\n",
       "    }\n",
       "</style>\n",
       "<table border=\"1\" class=\"dataframe\">\n",
       "  <thead>\n",
       "    <tr style=\"text-align: right;\">\n",
       "      <th></th>\n",
       "      <th>rain</th>\n",
       "      <th>wet</th>\n",
       "      <th>accident</th>\n",
       "    </tr>\n",
       "  </thead>\n",
       "  <tbody>\n",
       "    <tr>\n",
       "      <th>rain</th>\n",
       "      <td>1.000000</td>\n",
       "      <td>0.411625</td>\n",
       "      <td>0.150569</td>\n",
       "    </tr>\n",
       "    <tr>\n",
       "      <th>wet</th>\n",
       "      <td>0.411625</td>\n",
       "      <td>1.000000</td>\n",
       "      <td>0.395807</td>\n",
       "    </tr>\n",
       "    <tr>\n",
       "      <th>accident</th>\n",
       "      <td>0.150569</td>\n",
       "      <td>0.395807</td>\n",
       "      <td>1.000000</td>\n",
       "    </tr>\n",
       "  </tbody>\n",
       "</table>\n",
       "</div>"
      ],
      "text/plain": [
       "              rain       wet  accident\n",
       "rain      1.000000  0.411625  0.150569\n",
       "wet       0.411625  1.000000  0.395807\n",
       "accident  0.150569  0.395807  1.000000"
      ]
     },
     "execution_count": 222,
     "metadata": {},
     "output_type": "execute_result"
    }
   ],
   "source": [
    "# Rain correlates to wetness not accidents\n",
    "# wetness correlated to both rain and accidents\n",
    "# accidents correlate only to wetness, not rain\n",
    "df.corr()"
   ]
  },
  {
   "cell_type": "code",
   "execution_count": 223,
   "id": "5496937e",
   "metadata": {},
   "outputs": [
    {
     "data": {
      "text/plain": [
       "rain        1.000000\n",
       "wet         0.703528\n",
       "accident    0.576694\n",
       "dtype: float64"
      ]
     },
     "execution_count": 223,
     "metadata": {},
     "output_type": "execute_result"
    }
   ],
   "source": [
    "df[df.rain==1].mean()"
   ]
  },
  {
   "cell_type": "code",
   "execution_count": 224,
   "id": "ca3cda37",
   "metadata": {},
   "outputs": [
    {
     "data": {
      "text/plain": [
       "rain        0.710568\n",
       "wet         1.000000\n",
       "accident    0.700160\n",
       "dtype: float64"
      ]
     },
     "execution_count": 224,
     "metadata": {},
     "output_type": "execute_result"
    }
   ],
   "source": [
    "df[df.wet==1].mean()"
   ]
  },
  {
   "cell_type": "markdown",
   "id": "406e4c04",
   "metadata": {},
   "source": [
    "# Example 2: Fork"
   ]
  },
  {
   "cell_type": "code",
   "execution_count": 225,
   "id": "919c4ee1",
   "metadata": {},
   "outputs": [
    {
     "data": {
      "image/png": "[encoded data removed]",
      "text/plain": [
       "<Figure size 432x288 with 1 Axes>"
      ]
     },
     "metadata": {},
     "output_type": "display_data"
    }
   ],
   "source": [
    "import networkx as nx\n",
    "G = nx.DiGraph()\n",
    "G.add_nodes_from(['gender', 'drug-taking', 'recovery'])\n",
    "G.add_edge('gender', 'drug-taking')\n",
    "G.add_edge('gender', 'recovery')\n",
    "G.add_edge('drug-taking', 'recovery')\n",
    "\n",
    "options = {\n",
    "    \"font_size\": 10,\n",
    "    \"node_size\": 3000,\n",
    "    \"node_color\": \"red\",\n",
    "    \"edgecolors\": \"black\",\n",
    "    \"linewidths\": 1,\n",
    "    \"width\": 5,\n",
    "}\n",
    "\n",
    "nx.draw(G, **options, with_labels=True)\n",
    "plt.show()"
   ]
  },
  {
   "cell_type": "markdown",
   "id": "85df7545",
   "metadata": {},
   "source": [
    "- Gender influences both drug\n",
    "- But each has intrisic randomness, there are no deterministic relationships\n",
    "- we generate N datapoints from this causal graph\n",
    "- first rain is randomly generated (half the time it rains), then wetness, then accidents\n",
    "- the prob of wetness if it rains is 0.7\n",
    "- the prob of accidents if is wet is 0.7\n",
    "- rain is not somewhat related to accidents but its correlation is very little (could be misleading)"
   ]
  },
  {
   "cell_type": "code",
   "execution_count": null,
   "id": "586cdbdf",
   "metadata": {},
   "outputs": [],
   "source": []
  }
 ],
 "metadata": {
  "kernelspec": {
   "display_name": "Python 3 (ipykernel)",
   "language": "python",
   "name": "python3"
  },
  "language_info": {
   "codemirror_mode": {
    "name": "ipython",
    "version": 3
   },
   "file_extension": ".py",
   "mimetype": "text/x-python",
   "name": "python",
   "nbconvert_exporter": "python",
   "pygments_lexer": "ipython3",
   "version": "3.10.9"
  }
 },
 "nbformat": 4,
 "nbformat_minor": 5
}
