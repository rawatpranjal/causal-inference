{
 "cells": [
  {
   "cell_type": "code",
   "execution_count": 31,
   "id": "b4a5c00c",
   "metadata": {},
   "outputs": [
    {
     "name": "stdout",
     "output_type": "stream",
     "text": [
      "[[ 1.3350233   1.         -0.31039239]\n",
      " [ 2.01914427  1.         -0.07658046]\n",
      " [ 1.23317922  0.          0.7735825 ]\n",
      " [ 2.09711519  1.         -0.72175969]\n",
      " [ 1.53820646  0.         -1.23052169]]\n"
     ]
    },
    {
     "name": "stderr",
     "output_type": "stream",
     "text": [
      "A column-vector y was passed when a 1d array was expected. Please change the shape of y to (n_samples, ), for example using ravel().\n",
      "setting an array element with a sequence. This was supported in some cases where the elements are arrays with a single element. For example `np.array([1, np.array([2])], dtype=int)`. In the future this will raise the same ValueError as `np.array([1, [2]], dtype=int)`.\n",
      "A column-vector y was passed when a 1d array was expected. Please change the shape of y to (n_samples, ), for example using ravel().\n"
     ]
    },
    {
     "name": "stdout",
     "output_type": "stream",
     "text": [
      "[[ 2.293216    1.          1.93920745]\n",
      " [ 4.71024258  1.         -2.83746959]\n",
      " [ 2.62211073  1.          0.03072896]\n",
      " [ 2.29982838  1.         -0.28462427]\n",
      " [ 2.87105136  1.          1.65037975]]\n"
     ]
    },
    {
     "name": "stderr",
     "output_type": "stream",
     "text": [
      "setting an array element with a sequence. This was supported in some cases where the elements are arrays with a single element. For example `np.array([1, np.array([2])], dtype=int)`. In the future this will raise the same ValueError as `np.array([1, [2]], dtype=int)`.\n",
      "A column-vector y was passed when a 1d array was expected. Please change the shape of y to (n_samples, ), for example using ravel().\n"
     ]
    },
    {
     "name": "stdout",
     "output_type": "stream",
     "text": [
      "[[ 3.72904086  1.         -1.23190008]\n",
      " [ 1.02750777  1.         -0.80100759]\n",
      " [ 2.49966744  1.         -0.28961215]\n",
      " [ 1.86120033  1.         -1.22427791]\n",
      " [ 3.20502714  1.         -1.53792477]]\n"
     ]
    },
    {
     "name": "stderr",
     "output_type": "stream",
     "text": [
      "setting an array element with a sequence. This was supported in some cases where the elements are arrays with a single element. For example `np.array([1, np.array([2])], dtype=int)`. In the future this will raise the same ValueError as `np.array([1, [2]], dtype=int)`.\n",
      "A column-vector y was passed when a 1d array was expected. Please change the shape of y to (n_samples, ), for example using ravel().\n"
     ]
    },
    {
     "name": "stdout",
     "output_type": "stream",
     "text": [
      "[[ 2.43975143  1.          1.52073425]\n",
      " [ 3.02788877  1.         -0.0844169 ]\n",
      " [ 2.01482107  1.          0.60892084]\n",
      " [ 2.06819544  1.          0.31338432]\n",
      " [ 1.95047551  1.          1.02705774]]\n"
     ]
    },
    {
     "name": "stderr",
     "output_type": "stream",
     "text": [
      "setting an array element with a sequence. This was supported in some cases where the elements are arrays with a single element. For example `np.array([1, np.array([2])], dtype=int)`. In the future this will raise the same ValueError as `np.array([1, [2]], dtype=int)`.\n",
      "A column-vector y was passed when a 1d array was expected. Please change the shape of y to (n_samples, ), for example using ravel().\n"
     ]
    },
    {
     "name": "stdout",
     "output_type": "stream",
     "text": [
      "[[ 1.59924015  1.         -0.07707244]\n",
      " [ 1.73841657  1.         -0.0717572 ]\n",
      " [ 2.6005368   1.          0.71833562]\n",
      " [ 2.25290934  1.         -0.19027376]\n",
      " [ 1.90162475  1.         -0.28680498]]\n"
     ]
    },
    {
     "name": "stderr",
     "output_type": "stream",
     "text": [
      "setting an array element with a sequence. This was supported in some cases where the elements are arrays with a single element. For example `np.array([1, np.array([2])], dtype=int)`. In the future this will raise the same ValueError as `np.array([1, [2]], dtype=int)`.\n",
      "A column-vector y was passed when a 1d array was expected. Please change the shape of y to (n_samples, ), for example using ravel().\n"
     ]
    },
    {
     "name": "stdout",
     "output_type": "stream",
     "text": [
      "[[ 1.78242282  1.         -1.02611971]\n",
      " [ 3.94761799  1.         -1.27977919]\n",
      " [ 1.97461034  1.          0.00665174]\n",
      " [ 4.27292331  1.          0.8203229 ]\n",
      " [ 3.04011386  0.         -2.64389737]]\n"
     ]
    },
    {
     "name": "stderr",
     "output_type": "stream",
     "text": [
      "setting an array element with a sequence. This was supported in some cases where the elements are arrays with a single element. For example `np.array([1, np.array([2])], dtype=int)`. In the future this will raise the same ValueError as `np.array([1, [2]], dtype=int)`.\n",
      "A column-vector y was passed when a 1d array was expected. Please change the shape of y to (n_samples, ), for example using ravel().\n"
     ]
    },
    {
     "name": "stdout",
     "output_type": "stream",
     "text": [
      "[[ 1.66950517  0.          0.80211943]\n",
      " [ 1.26078945  0.          1.59099829]\n",
      " [ 1.24605972  1.          0.18608273]\n",
      " [ 0.66333614  1.          0.98409895]\n",
      " [ 2.73788239  1.         -0.54093377]]\n"
     ]
    },
    {
     "name": "stderr",
     "output_type": "stream",
     "text": [
      "setting an array element with a sequence. This was supported in some cases where the elements are arrays with a single element. For example `np.array([1, np.array([2])], dtype=int)`. In the future this will raise the same ValueError as `np.array([1, [2]], dtype=int)`.\n",
      "A column-vector y was passed when a 1d array was expected. Please change the shape of y to (n_samples, ), for example using ravel().\n"
     ]
    },
    {
     "name": "stdout",
     "output_type": "stream",
     "text": [
      "[[ 1.96484479  1.          0.26357698]\n",
      " [ 1.27489492  0.          1.23124973]\n",
      " [ 3.54288072  1.          1.80526688]\n",
      " [ 2.18690746  1.          0.79482139]\n",
      " [ 2.58668384  1.         -0.75682555]]\n"
     ]
    },
    {
     "name": "stderr",
     "output_type": "stream",
     "text": [
      "setting an array element with a sequence. This was supported in some cases where the elements are arrays with a single element. For example `np.array([1, np.array([2])], dtype=int)`. In the future this will raise the same ValueError as `np.array([1, [2]], dtype=int)`.\n",
      "A column-vector y was passed when a 1d array was expected. Please change the shape of y to (n_samples, ), for example using ravel().\n"
     ]
    },
    {
     "name": "stdout",
     "output_type": "stream",
     "text": [
      "[[ 1.82665884  1.         -0.90781613]\n",
      " [ 3.99579299  1.         -1.45333887]\n",
      " [ 1.54568517  0.         -0.79879022]\n",
      " [ 0.65066868  0.         -1.06132473]\n",
      " [ 2.96273452  1.          1.16929255]]\n"
     ]
    },
    {
     "name": "stderr",
     "output_type": "stream",
     "text": [
      "setting an array element with a sequence. This was supported in some cases where the elements are arrays with a single element. For example `np.array([1, np.array([2])], dtype=int)`. In the future this will raise the same ValueError as `np.array([1, [2]], dtype=int)`.\n",
      "A column-vector y was passed when a 1d array was expected. Please change the shape of y to (n_samples, ), for example using ravel().\n"
     ]
    },
    {
     "name": "stdout",
     "output_type": "stream",
     "text": [
      "[[ 1.43396102  1.          0.07336588]\n",
      " [ 0.60365811  1.          0.07275608]\n",
      " [-0.05621902  1.         -0.30644208]\n",
      " [ 2.87557395  1.          1.59664462]\n",
      " [ 2.28063837  1.         -0.18303613]]\n"
     ]
    },
    {
     "name": "stderr",
     "output_type": "stream",
     "text": [
      "setting an array element with a sequence. This was supported in some cases where the elements are arrays with a single element. For example `np.array([1, np.array([2])], dtype=int)`. In the future this will raise the same ValueError as `np.array([1, [2]], dtype=int)`.\n",
      "A column-vector y was passed when a 1d array was expected. Please change the shape of y to (n_samples, ), for example using ravel().\n"
     ]
    },
    {
     "name": "stdout",
     "output_type": "stream",
     "text": [
      "[[ 1.91721469  1.         -1.08686035]\n",
      " [ 0.75015751  1.          0.80558461]\n",
      " [ 1.45374426  1.          0.16711326]\n",
      " [ 0.15311451  0.         -0.04031358]\n",
      " [ 2.89934498  1.          0.16871536]]\n"
     ]
    },
    {
     "name": "stderr",
     "output_type": "stream",
     "text": [
      "setting an array element with a sequence. This was supported in some cases where the elements are arrays with a single element. For example `np.array([1, np.array([2])], dtype=int)`. In the future this will raise the same ValueError as `np.array([1, [2]], dtype=int)`.\n",
      "A column-vector y was passed when a 1d array was expected. Please change the shape of y to (n_samples, ), for example using ravel().\n"
     ]
    },
    {
     "name": "stdout",
     "output_type": "stream",
     "text": [
      "[[ 2.01975507  0.         -0.51353708]\n",
      " [-0.40911209  0.          0.72061081]\n",
      " [ 2.96860925  1.          0.76311328]\n",
      " [ 2.72010523  0.         -1.12488743]\n",
      " [ 2.42029185  1.          1.27356482]]\n"
     ]
    },
    {
     "name": "stderr",
     "output_type": "stream",
     "text": [
      "setting an array element with a sequence. This was supported in some cases where the elements are arrays with a single element. For example `np.array([1, np.array([2])], dtype=int)`. In the future this will raise the same ValueError as `np.array([1, [2]], dtype=int)`.\n",
      "A column-vector y was passed when a 1d array was expected. Please change the shape of y to (n_samples, ), for example using ravel().\n"
     ]
    },
    {
     "name": "stdout",
     "output_type": "stream",
     "text": [
      "[[ 1.44554749  0.         -0.97670633]\n",
      " [ 3.17563418  1.          0.74260106]\n",
      " [ 3.72811822  0.         -0.25081209]\n",
      " [ 3.02508254  1.          1.39393087]\n",
      " [ 2.18836088  0.         -1.12450496]]\n"
     ]
    },
    {
     "name": "stderr",
     "output_type": "stream",
     "text": [
      "setting an array element with a sequence. This was supported in some cases where the elements are arrays with a single element. For example `np.array([1, np.array([2])], dtype=int)`. In the future this will raise the same ValueError as `np.array([1, [2]], dtype=int)`.\n",
      "A column-vector y was passed when a 1d array was expected. Please change the shape of y to (n_samples, ), for example using ravel().\n"
     ]
    },
    {
     "name": "stdout",
     "output_type": "stream",
     "text": [
      "[[ 1.12499538  1.          0.07633011]\n",
      " [ 2.60880158  1.         -0.44486392]\n",
      " [ 1.85164545  1.         -0.40618819]\n",
      " [ 4.23034961  0.         -1.41215083]\n",
      " [ 4.52597904  1.          2.68354919]]\n"
     ]
    },
    {
     "name": "stderr",
     "output_type": "stream",
     "text": [
      "setting an array element with a sequence. This was supported in some cases where the elements are arrays with a single element. For example `np.array([1, np.array([2])], dtype=int)`. In the future this will raise the same ValueError as `np.array([1, [2]], dtype=int)`.\n",
      "A column-vector y was passed when a 1d array was expected. Please change the shape of y to (n_samples, ), for example using ravel().\n"
     ]
    },
    {
     "name": "stdout",
     "output_type": "stream",
     "text": [
      "[[ 2.52672875  1.         -1.61860947]\n",
      " [ 2.56312911  1.          0.2480724 ]\n",
      " [ 0.39904826  1.         -0.20707107]\n",
      " [ 3.8995906   1.          1.46853362]\n",
      " [ 1.96436095  1.         -0.53682862]]\n"
     ]
    },
    {
     "name": "stderr",
     "output_type": "stream",
     "text": [
      "setting an array element with a sequence. This was supported in some cases where the elements are arrays with a single element. For example `np.array([1, np.array([2])], dtype=int)`. In the future this will raise the same ValueError as `np.array([1, [2]], dtype=int)`.\n",
      "A column-vector y was passed when a 1d array was expected. Please change the shape of y to (n_samples, ), for example using ravel().\n"
     ]
    },
    {
     "name": "stdout",
     "output_type": "stream",
     "text": [
      "[[ 2.11130375  1.         -0.11998693]\n",
      " [ 2.51859935  0.         -1.3600317 ]\n",
      " [ 3.19553973  1.         -0.94531563]\n",
      " [ 1.76466058  1.         -0.95216469]\n",
      " [ 2.52885357  1.          2.06502063]]\n"
     ]
    },
    {
     "name": "stderr",
     "output_type": "stream",
     "text": [
      "setting an array element with a sequence. This was supported in some cases where the elements are arrays with a single element. For example `np.array([1, np.array([2])], dtype=int)`. In the future this will raise the same ValueError as `np.array([1, [2]], dtype=int)`.\n",
      "A column-vector y was passed when a 1d array was expected. Please change the shape of y to (n_samples, ), for example using ravel().\n"
     ]
    },
    {
     "name": "stdout",
     "output_type": "stream",
     "text": [
      "[[ 1.23883106  0.          0.23945234]\n",
      " [ 3.32519346  1.          0.24695773]\n",
      " [ 0.41949419  0.          0.10503119]\n",
      " [ 2.10745363  1.         -0.57019792]\n",
      " [ 1.50942718  1.         -0.32287141]]\n"
     ]
    },
    {
     "name": "stderr",
     "output_type": "stream",
     "text": [
      "setting an array element with a sequence. This was supported in some cases where the elements are arrays with a single element. For example `np.array([1, np.array([2])], dtype=int)`. In the future this will raise the same ValueError as `np.array([1, [2]], dtype=int)`.\n",
      "A column-vector y was passed when a 1d array was expected. Please change the shape of y to (n_samples, ), for example using ravel().\n"
     ]
    },
    {
     "name": "stdout",
     "output_type": "stream",
     "text": [
      "[[0.8260284  1.         0.02539673]\n",
      " [2.10044357 1.         0.8244    ]\n",
      " [3.37241299 0.         0.34943885]\n",
      " [3.17656215 1.         1.18104369]\n",
      " [2.4149301  1.         0.84442393]]\n"
     ]
    },
    {
     "name": "stderr",
     "output_type": "stream",
     "text": [
      "setting an array element with a sequence. This was supported in some cases where the elements are arrays with a single element. For example `np.array([1, np.array([2])], dtype=int)`. In the future this will raise the same ValueError as `np.array([1, [2]], dtype=int)`.\n",
      "A column-vector y was passed when a 1d array was expected. Please change the shape of y to (n_samples, ), for example using ravel().\n"
     ]
    },
    {
     "name": "stdout",
     "output_type": "stream",
     "text": [
      "[[ 1.7621962   1.          1.81021833]\n",
      " [ 0.44237633  0.          0.21462922]\n",
      " [ 2.21694266  1.         -1.32998422]\n",
      " [ 2.07105203  1.         -1.55623028]\n",
      " [ 0.98414071  1.          0.53033485]]\n"
     ]
    },
    {
     "name": "stderr",
     "output_type": "stream",
     "text": [
      "setting an array element with a sequence. This was supported in some cases where the elements are arrays with a single element. For example `np.array([1, np.array([2])], dtype=int)`. In the future this will raise the same ValueError as `np.array([1, [2]], dtype=int)`.\n",
      "A column-vector y was passed when a 1d array was expected. Please change the shape of y to (n_samples, ), for example using ravel().\n"
     ]
    },
    {
     "name": "stdout",
     "output_type": "stream",
     "text": [
      "[[ 0.58108513  1.          0.31314655]\n",
      " [ 0.16395094  1.         -1.06507954]\n",
      " [ 1.04385677  1.         -0.39825331]\n",
      " [ 4.23163509  1.          1.98304927]\n",
      " [ 3.21683164  1.          1.7846199 ]]\n"
     ]
    },
    {
     "name": "stderr",
     "output_type": "stream",
     "text": [
      "setting an array element with a sequence. This was supported in some cases where the elements are arrays with a single element. For example `np.array([1, np.array([2])], dtype=int)`. In the future this will raise the same ValueError as `np.array([1, [2]], dtype=int)`.\n",
      "A column-vector y was passed when a 1d array was expected. Please change the shape of y to (n_samples, ), for example using ravel().\n"
     ]
    },
    {
     "name": "stdout",
     "output_type": "stream",
     "text": [
      "[[ 2.16201546  1.          1.26652387]\n",
      " [ 1.85604263  1.          0.51562215]\n",
      " [ 2.12159528  0.          0.55517097]\n",
      " [-0.68804219  1.         -0.04682295]\n",
      " [ 1.07024449  1.         -0.07050858]]\n"
     ]
    },
    {
     "name": "stderr",
     "output_type": "stream",
     "text": [
      "setting an array element with a sequence. This was supported in some cases where the elements are arrays with a single element. For example `np.array([1, np.array([2])], dtype=int)`. In the future this will raise the same ValueError as `np.array([1, [2]], dtype=int)`.\n",
      "A column-vector y was passed when a 1d array was expected. Please change the shape of y to (n_samples, ), for example using ravel().\n"
     ]
    },
    {
     "name": "stdout",
     "output_type": "stream",
     "text": [
      "[[ 2.26178388  1.         -0.7514818 ]\n",
      " [ 2.71875473  1.         -1.27074136]\n",
      " [ 4.93804168  1.          2.92331329]\n",
      " [ 3.45953902  1.          1.02041655]\n",
      " [ 3.58641283  1.         -0.52263666]]\n"
     ]
    },
    {
     "name": "stderr",
     "output_type": "stream",
     "text": [
      "setting an array element with a sequence. This was supported in some cases where the elements are arrays with a single element. For example `np.array([1, np.array([2])], dtype=int)`. In the future this will raise the same ValueError as `np.array([1, [2]], dtype=int)`.\n",
      "A column-vector y was passed when a 1d array was expected. Please change the shape of y to (n_samples, ), for example using ravel().\n"
     ]
    },
    {
     "name": "stdout",
     "output_type": "stream",
     "text": [
      "[[ 0.83635649  0.         -0.6891006 ]\n",
      " [ 2.31999092  1.          0.13316201]\n",
      " [ 1.67551352  1.          2.07230523]\n",
      " [ 2.66503486  1.         -0.70273636]\n",
      " [ 2.92941878  1.         -0.8539453 ]]\n"
     ]
    },
    {
     "name": "stderr",
     "output_type": "stream",
     "text": [
      "setting an array element with a sequence. This was supported in some cases where the elements are arrays with a single element. For example `np.array([1, np.array([2])], dtype=int)`. In the future this will raise the same ValueError as `np.array([1, [2]], dtype=int)`.\n",
      "A column-vector y was passed when a 1d array was expected. Please change the shape of y to (n_samples, ), for example using ravel().\n"
     ]
    },
    {
     "name": "stdout",
     "output_type": "stream",
     "text": [
      "[[ 1.16493503  1.         -0.43794361]\n",
      " [ 0.74541358  1.          1.16865914]\n",
      " [ 1.27810213  0.         -0.06613168]\n",
      " [ 2.41249998  1.          0.27840648]\n",
      " [ 3.75208922  1.          1.72161399]]\n"
     ]
    },
    {
     "name": "stderr",
     "output_type": "stream",
     "text": [
      "setting an array element with a sequence. This was supported in some cases where the elements are arrays with a single element. For example `np.array([1, np.array([2])], dtype=int)`. In the future this will raise the same ValueError as `np.array([1, [2]], dtype=int)`.\n",
      "A column-vector y was passed when a 1d array was expected. Please change the shape of y to (n_samples, ), for example using ravel().\n"
     ]
    },
    {
     "name": "stdout",
     "output_type": "stream",
     "text": [
      "[[ 2.28076152  1.          1.52414708]\n",
      " [ 0.16808143  0.         -0.44911474]\n",
      " [ 0.10817318  1.          0.59587746]\n",
      " [ 1.83444098  1.          1.30122836]\n",
      " [ 4.01647427  0.         -1.84812789]]\n"
     ]
    },
    {
     "name": "stderr",
     "output_type": "stream",
     "text": [
      "setting an array element with a sequence. This was supported in some cases where the elements are arrays with a single element. For example `np.array([1, np.array([2])], dtype=int)`. In the future this will raise the same ValueError as `np.array([1, [2]], dtype=int)`.\n",
      "A column-vector y was passed when a 1d array was expected. Please change the shape of y to (n_samples, ), for example using ravel().\n"
     ]
    },
    {
     "name": "stdout",
     "output_type": "stream",
     "text": [
      "[[-0.99139272  1.         -1.02613444]\n",
      " [ 1.23057747  0.          0.63991236]\n",
      " [ 4.91193598  1.          1.05016272]\n",
      " [-0.00518382  1.          0.62466277]\n",
      " [ 0.67051624  0.          1.11707204]]\n"
     ]
    },
    {
     "name": "stderr",
     "output_type": "stream",
     "text": [
      "setting an array element with a sequence. This was supported in some cases where the elements are arrays with a single element. For example `np.array([1, np.array([2])], dtype=int)`. In the future this will raise the same ValueError as `np.array([1, [2]], dtype=int)`.\n",
      "A column-vector y was passed when a 1d array was expected. Please change the shape of y to (n_samples, ), for example using ravel().\n"
     ]
    },
    {
     "name": "stdout",
     "output_type": "stream",
     "text": [
      "[[ 0.69143114  1.          0.32285036]\n",
      " [ 1.04977167  1.          1.23712124]\n",
      " [ 1.43688438  0.         -1.44644372]\n",
      " [ 1.29393786  1.         -0.13960893]\n",
      " [ 0.3585106   0.         -1.30918017]]\n"
     ]
    },
    {
     "name": "stderr",
     "output_type": "stream",
     "text": [
      "setting an array element with a sequence. This was supported in some cases where the elements are arrays with a single element. For example `np.array([1, np.array([2])], dtype=int)`. In the future this will raise the same ValueError as `np.array([1, [2]], dtype=int)`.\n",
      "A column-vector y was passed when a 1d array was expected. Please change the shape of y to (n_samples, ), for example using ravel().\n"
     ]
    },
    {
     "name": "stdout",
     "output_type": "stream",
     "text": [
      "[[ 1.86519592  1.          0.90966636]\n",
      " [ 1.98163085  1.          0.66373547]\n",
      " [ 0.34353203  1.          0.04137678]\n",
      " [ 1.91346881  0.         -1.15802901]\n",
      " [ 0.52344337  1.         -1.3750071 ]]\n"
     ]
    },
    {
     "name": "stderr",
     "output_type": "stream",
     "text": [
      "setting an array element with a sequence. This was supported in some cases where the elements are arrays with a single element. For example `np.array([1, np.array([2])], dtype=int)`. In the future this will raise the same ValueError as `np.array([1, [2]], dtype=int)`.\n",
      "A column-vector y was passed when a 1d array was expected. Please change the shape of y to (n_samples, ), for example using ravel().\n"
     ]
    },
    {
     "name": "stdout",
     "output_type": "stream",
     "text": [
      "[[ 1.98844849  1.          0.42873037]\n",
      " [ 2.75071781  1.          0.91750264]\n",
      " [ 1.24804402  1.         -0.2559027 ]\n",
      " [-0.86495884  0.         -0.4230801 ]\n",
      " [ 3.82283631  1.          2.02012289]]\n"
     ]
    },
    {
     "name": "stderr",
     "output_type": "stream",
     "text": [
      "setting an array element with a sequence. This was supported in some cases where the elements are arrays with a single element. For example `np.array([1, np.array([2])], dtype=int)`. In the future this will raise the same ValueError as `np.array([1, [2]], dtype=int)`.\n",
      "A column-vector y was passed when a 1d array was expected. Please change the shape of y to (n_samples, ), for example using ravel().\n"
     ]
    },
    {
     "name": "stdout",
     "output_type": "stream",
     "text": [
      "[[ 2.22464     1.         -0.75399933]\n",
      " [ 0.54004745  1.          0.32527206]\n",
      " [ 1.33452728  1.          0.28334231]\n",
      " [ 2.42138894  0.         -0.09894236]\n",
      " [ 4.43717606  1.          1.80016837]]\n"
     ]
    },
    {
     "name": "stderr",
     "output_type": "stream",
     "text": [
      "setting an array element with a sequence. This was supported in some cases where the elements are arrays with a single element. For example `np.array([1, np.array([2])], dtype=int)`. In the future this will raise the same ValueError as `np.array([1, [2]], dtype=int)`.\n",
      "A column-vector y was passed when a 1d array was expected. Please change the shape of y to (n_samples, ), for example using ravel().\n"
     ]
    },
    {
     "name": "stdout",
     "output_type": "stream",
     "text": [
      "[[ 2.38398822  1.         -1.25997222]\n",
      " [ 1.22121855  1.         -0.72999611]\n",
      " [ 0.21038072  1.          0.79830742]\n",
      " [ 3.06230623  1.          0.02824266]\n",
      " [ 1.30366965  1.         -1.14280656]]\n"
     ]
    },
    {
     "name": "stderr",
     "output_type": "stream",
     "text": [
      "setting an array element with a sequence. This was supported in some cases where the elements are arrays with a single element. For example `np.array([1, np.array([2])], dtype=int)`. In the future this will raise the same ValueError as `np.array([1, [2]], dtype=int)`.\n",
      "A column-vector y was passed when a 1d array was expected. Please change the shape of y to (n_samples, ), for example using ravel().\n"
     ]
    },
    {
     "name": "stdout",
     "output_type": "stream",
     "text": [
      "[[ 3.56240792  1.          1.5903304 ]\n",
      " [ 2.43478301  1.         -1.17002169]\n",
      " [ 2.51148107  0.         -0.62488805]\n",
      " [ 1.48594823  1.          0.42788254]\n",
      " [ 0.45337481  1.          0.21073162]]\n"
     ]
    },
    {
     "name": "stderr",
     "output_type": "stream",
     "text": [
      "setting an array element with a sequence. This was supported in some cases where the elements are arrays with a single element. For example `np.array([1, np.array([2])], dtype=int)`. In the future this will raise the same ValueError as `np.array([1, [2]], dtype=int)`.\n",
      "A column-vector y was passed when a 1d array was expected. Please change the shape of y to (n_samples, ), for example using ravel().\n"
     ]
    },
    {
     "name": "stdout",
     "output_type": "stream",
     "text": [
      "[[ 2.03103423  1.         -0.10968506]\n",
      " [ 1.68326484  0.         -0.63699185]\n",
      " [ 2.48850431  0.         -1.33026968]\n",
      " [ 1.15871386  0.          1.1241439 ]\n",
      " [ 2.41169131  1.          1.54474434]]\n"
     ]
    },
    {
     "name": "stderr",
     "output_type": "stream",
     "text": [
      "setting an array element with a sequence. This was supported in some cases where the elements are arrays with a single element. For example `np.array([1, np.array([2])], dtype=int)`. In the future this will raise the same ValueError as `np.array([1, [2]], dtype=int)`.\n",
      "A column-vector y was passed when a 1d array was expected. Please change the shape of y to (n_samples, ), for example using ravel().\n"
     ]
    },
    {
     "name": "stdout",
     "output_type": "stream",
     "text": [
      "[[ 0.6271566   1.         -0.76806962]\n",
      " [-0.07418629  1.          0.15125004]\n",
      " [ 0.6721398   1.         -0.13549802]\n",
      " [ 1.84443249  1.          0.61484759]\n",
      " [ 2.35341936  0.          1.88827386]]\n"
     ]
    },
    {
     "name": "stderr",
     "output_type": "stream",
     "text": [
      "setting an array element with a sequence. This was supported in some cases where the elements are arrays with a single element. For example `np.array([1, np.array([2])], dtype=int)`. In the future this will raise the same ValueError as `np.array([1, [2]], dtype=int)`.\n",
      "A column-vector y was passed when a 1d array was expected. Please change the shape of y to (n_samples, ), for example using ravel().\n"
     ]
    },
    {
     "name": "stdout",
     "output_type": "stream",
     "text": [
      "[[ 2.63332642  1.          0.76320328]\n",
      " [ 0.54111637  1.          1.27856265]\n",
      " [ 2.83623331  1.          0.70290032]\n",
      " [ 3.21303482  1.         -1.77545066]\n",
      " [ 3.20392276  1.          0.79970655]]\n"
     ]
    },
    {
     "name": "stderr",
     "output_type": "stream",
     "text": [
      "setting an array element with a sequence. This was supported in some cases where the elements are arrays with a single element. For example `np.array([1, np.array([2])], dtype=int)`. In the future this will raise the same ValueError as `np.array([1, [2]], dtype=int)`.\n",
      "A column-vector y was passed when a 1d array was expected. Please change the shape of y to (n_samples, ), for example using ravel().\n"
     ]
    },
    {
     "name": "stdout",
     "output_type": "stream",
     "text": [
      "[[ 2.66857332  1.          0.82145156]\n",
      " [ 1.48812719  0.         -0.04589753]\n",
      " [ 2.04903844  1.         -0.0585372 ]\n",
      " [ 2.0514637   1.          0.07126719]\n",
      " [ 1.95035744  1.          0.66540235]]\n"
     ]
    },
    {
     "name": "stderr",
     "output_type": "stream",
     "text": [
      "setting an array element with a sequence. This was supported in some cases where the elements are arrays with a single element. For example `np.array([1, np.array([2])], dtype=int)`. In the future this will raise the same ValueError as `np.array([1, [2]], dtype=int)`.\n",
      "A column-vector y was passed when a 1d array was expected. Please change the shape of y to (n_samples, ), for example using ravel().\n"
     ]
    },
    {
     "name": "stdout",
     "output_type": "stream",
     "text": [
      "[[ 2.25187484  0.         -0.76062078]\n",
      " [ 2.59865207  1.          1.65666092]\n",
      " [ 3.16835959  1.          1.88585275]\n",
      " [ 3.09856836  1.         -0.21147443]\n",
      " [ 0.36004191  0.          0.52545638]]\n"
     ]
    },
    {
     "name": "stderr",
     "output_type": "stream",
     "text": [
      "setting an array element with a sequence. This was supported in some cases where the elements are arrays with a single element. For example `np.array([1, np.array([2])], dtype=int)`. In the future this will raise the same ValueError as `np.array([1, [2]], dtype=int)`.\n",
      "A column-vector y was passed when a 1d array was expected. Please change the shape of y to (n_samples, ), for example using ravel().\n"
     ]
    },
    {
     "name": "stdout",
     "output_type": "stream",
     "text": [
      "[[ 2.51476384  1.         -0.16686016]\n",
      " [ 3.43202283  0.         -1.91425521]\n",
      " [ 4.01639625  1.         -0.64522965]\n",
      " [ 2.57548913  0.         -0.77983913]\n",
      " [ 2.15523144  1.         -0.73450894]]\n"
     ]
    },
    {
     "name": "stderr",
     "output_type": "stream",
     "text": [
      "setting an array element with a sequence. This was supported in some cases where the elements are arrays with a single element. For example `np.array([1, np.array([2])], dtype=int)`. In the future this will raise the same ValueError as `np.array([1, [2]], dtype=int)`.\n",
      "A column-vector y was passed when a 1d array was expected. Please change the shape of y to (n_samples, ), for example using ravel().\n"
     ]
    },
    {
     "name": "stdout",
     "output_type": "stream",
     "text": [
      "[[ 1.22608528  1.         -0.65107089]\n",
      " [ 2.61216023  1.          1.43465279]\n",
      " [ 1.71447959  1.          0.48862783]\n",
      " [ 2.57793545  1.          1.57627195]\n",
      " [ 0.52653954  1.          0.04441314]]\n"
     ]
    },
    {
     "name": "stderr",
     "output_type": "stream",
     "text": [
      "setting an array element with a sequence. This was supported in some cases where the elements are arrays with a single element. For example `np.array([1, np.array([2])], dtype=int)`. In the future this will raise the same ValueError as `np.array([1, [2]], dtype=int)`.\n",
      "A column-vector y was passed when a 1d array was expected. Please change the shape of y to (n_samples, ), for example using ravel().\n"
     ]
    },
    {
     "name": "stdout",
     "output_type": "stream",
     "text": [
      "[[ 2.83670636  1.         -1.10028563]\n",
      " [ 2.0213938   0.         -0.99581791]\n",
      " [ 3.51711233  1.         -0.16865162]\n",
      " [ 1.58546475  1.         -0.63214685]\n",
      " [-0.52696703  0.         -0.30468185]]\n"
     ]
    },
    {
     "name": "stderr",
     "output_type": "stream",
     "text": [
      "setting an array element with a sequence. This was supported in some cases where the elements are arrays with a single element. For example `np.array([1, np.array([2])], dtype=int)`. In the future this will raise the same ValueError as `np.array([1, [2]], dtype=int)`.\n",
      "A column-vector y was passed when a 1d array was expected. Please change the shape of y to (n_samples, ), for example using ravel().\n"
     ]
    },
    {
     "name": "stdout",
     "output_type": "stream",
     "text": [
      "[[ 2.36946584  1.          0.79433685]\n",
      " [ 1.10316952  0.          0.74505727]\n",
      " [ 0.96515831  1.         -1.39692056]\n",
      " [ 3.04332702  1.          1.95880598]\n",
      " [ 2.32092289  1.          0.40359996]]\n"
     ]
    },
    {
     "name": "stderr",
     "output_type": "stream",
     "text": [
      "setting an array element with a sequence. This was supported in some cases where the elements are arrays with a single element. For example `np.array([1, np.array([2])], dtype=int)`. In the future this will raise the same ValueError as `np.array([1, [2]], dtype=int)`.\n",
      "A column-vector y was passed when a 1d array was expected. Please change the shape of y to (n_samples, ), for example using ravel().\n"
     ]
    },
    {
     "name": "stdout",
     "output_type": "stream",
     "text": [
      "[[ 0.44392395  0.         -0.08520883]\n",
      " [ 2.23216039  1.          0.47162622]\n",
      " [ 2.18978242  1.          1.15839736]\n",
      " [ 0.87619558  1.         -0.00354235]\n",
      " [ 2.34650882  1.          0.61797591]]\n"
     ]
    },
    {
     "name": "stderr",
     "output_type": "stream",
     "text": [
      "setting an array element with a sequence. This was supported in some cases where the elements are arrays with a single element. For example `np.array([1, np.array([2])], dtype=int)`. In the future this will raise the same ValueError as `np.array([1, [2]], dtype=int)`.\n",
      "A column-vector y was passed when a 1d array was expected. Please change the shape of y to (n_samples, ), for example using ravel().\n"
     ]
    },
    {
     "name": "stdout",
     "output_type": "stream",
     "text": [
      "[[ 1.12522044  0.         -0.55827749]\n",
      " [ 2.0633018   1.          0.93740403]\n",
      " [ 0.68986822  1.          0.46940369]\n",
      " [ 3.8784006   1.          1.03573075]\n",
      " [ 2.28410172  0.         -0.80149202]]\n"
     ]
    },
    {
     "name": "stderr",
     "output_type": "stream",
     "text": [
      "setting an array element with a sequence. This was supported in some cases where the elements are arrays with a single element. For example `np.array([1, np.array([2])], dtype=int)`. In the future this will raise the same ValueError as `np.array([1, [2]], dtype=int)`.\n",
      "A column-vector y was passed when a 1d array was expected. Please change the shape of y to (n_samples, ), for example using ravel().\n"
     ]
    },
    {
     "name": "stdout",
     "output_type": "stream",
     "text": [
      "[[ 1.04786162  1.          1.6654354 ]\n",
      " [ 1.93873838  1.          0.65383278]\n",
      " [-1.44925035  0.         -0.29394652]\n",
      " [ 1.4503065   1.          0.89479952]\n",
      " [ 1.30867715  1.         -0.35061588]]\n"
     ]
    },
    {
     "name": "stderr",
     "output_type": "stream",
     "text": [
      "setting an array element with a sequence. This was supported in some cases where the elements are arrays with a single element. For example `np.array([1, np.array([2])], dtype=int)`. In the future this will raise the same ValueError as `np.array([1, [2]], dtype=int)`.\n",
      "A column-vector y was passed when a 1d array was expected. Please change the shape of y to (n_samples, ), for example using ravel().\n"
     ]
    },
    {
     "name": "stdout",
     "output_type": "stream",
     "text": [
      "[[ 2.56274694  1.          1.09859048]\n",
      " [-0.1287677   0.         -0.75438428]\n",
      " [ 0.52260143  1.         -0.45959168]\n",
      " [ 1.02803542  0.          1.44809745]\n",
      " [ 2.47721916  0.         -0.26644888]]\n"
     ]
    },
    {
     "name": "stderr",
     "output_type": "stream",
     "text": [
      "setting an array element with a sequence. This was supported in some cases where the elements are arrays with a single element. For example `np.array([1, np.array([2])], dtype=int)`. In the future this will raise the same ValueError as `np.array([1, [2]], dtype=int)`.\n",
      "A column-vector y was passed when a 1d array was expected. Please change the shape of y to (n_samples, ), for example using ravel().\n"
     ]
    },
    {
     "name": "stdout",
     "output_type": "stream",
     "text": [
      "[[ 1.82285303  0.          0.86510301]\n",
      " [ 0.79393816  0.         -0.5337744 ]\n",
      " [ 2.08645676  1.          1.38770165]\n",
      " [ 2.46182413  0.          0.31432733]\n",
      " [ 0.78747894  1.          0.0058167 ]]\n"
     ]
    },
    {
     "name": "stderr",
     "output_type": "stream",
     "text": [
      "setting an array element with a sequence. This was supported in some cases where the elements are arrays with a single element. For example `np.array([1, np.array([2])], dtype=int)`. In the future this will raise the same ValueError as `np.array([1, [2]], dtype=int)`.\n",
      "A column-vector y was passed when a 1d array was expected. Please change the shape of y to (n_samples, ), for example using ravel().\n"
     ]
    },
    {
     "name": "stdout",
     "output_type": "stream",
     "text": [
      "[[ 0.39718233  0.          0.04829393]\n",
      " [-0.5787568   1.         -0.41826412]\n",
      " [ 0.66353467  0.         -1.45155037]\n",
      " [ 2.68033758  0.          0.05830912]\n",
      " [ 1.4581385   1.          0.37736997]]\n"
     ]
    },
    {
     "name": "stderr",
     "output_type": "stream",
     "text": [
      "setting an array element with a sequence. This was supported in some cases where the elements are arrays with a single element. For example `np.array([1, np.array([2])], dtype=int)`. In the future this will raise the same ValueError as `np.array([1, [2]], dtype=int)`.\n",
      "A column-vector y was passed when a 1d array was expected. Please change the shape of y to (n_samples, ), for example using ravel().\n"
     ]
    },
    {
     "name": "stdout",
     "output_type": "stream",
     "text": [
      "[[ 1.79274249  1.          0.12448454]\n",
      " [ 3.15602691  1.         -0.60146955]\n",
      " [ 1.44523453  1.         -0.17852924]\n",
      " [ 2.65147753  1.          0.48560201]\n",
      " [ 3.87510995  1.          1.32833434]]\n"
     ]
    },
    {
     "name": "stderr",
     "output_type": "stream",
     "text": [
      "setting an array element with a sequence. This was supported in some cases where the elements are arrays with a single element. For example `np.array([1, np.array([2])], dtype=int)`. In the future this will raise the same ValueError as `np.array([1, [2]], dtype=int)`.\n",
      "A column-vector y was passed when a 1d array was expected. Please change the shape of y to (n_samples, ), for example using ravel().\n"
     ]
    },
    {
     "name": "stdout",
     "output_type": "stream",
     "text": [
      "[[ 1.43805069  1.         -0.36851988]\n",
      " [ 3.36994609  1.          0.47238273]\n",
      " [ 2.62302841  1.         -0.68941161]\n",
      " [ 0.977342    1.         -0.03470169]\n",
      " [ 3.7804321   1.         -2.76713132]]\n"
     ]
    },
    {
     "name": "stderr",
     "output_type": "stream",
     "text": [
      "setting an array element with a sequence. This was supported in some cases where the elements are arrays with a single element. For example `np.array([1, np.array([2])], dtype=int)`. In the future this will raise the same ValueError as `np.array([1, [2]], dtype=int)`.\n",
      "A column-vector y was passed when a 1d array was expected. Please change the shape of y to (n_samples, ), for example using ravel().\n"
     ]
    },
    {
     "name": "stdout",
     "output_type": "stream",
     "text": [
      "[[ 3.11361377  1.         -0.09239495]\n",
      " [ 1.29483134  1.          0.22002072]\n",
      " [ 1.73176466  1.          0.47819026]\n",
      " [ 1.32934913  1.         -0.35294421]\n",
      " [ 2.15308459  1.          0.16405121]]\n"
     ]
    },
    {
     "name": "stderr",
     "output_type": "stream",
     "text": [
      "setting an array element with a sequence. This was supported in some cases where the elements are arrays with a single element. For example `np.array([1, np.array([2])], dtype=int)`. In the future this will raise the same ValueError as `np.array([1, [2]], dtype=int)`.\n"
     ]
    }
   ],
   "source": [
    "import statsmodels.api as sm\n",
    "import numpy as np\n",
    "from econml.dml import LinearDML\n",
    "from sklearn.ensemble import RandomForestRegressor, RandomForestClassifier\n",
    "from xgboost import XGBClassifier, XGBRegressor\n",
    "from sklearn.model_selection import train_test_split\n",
    "from sklearn.linear_model import LogisticRegression, LinearRegression\n",
    "from sklearn.neural_network import MLPClassifier, MLPRegressor\n",
    "from catboost import CatBoostRegressor, CatBoostClassifier\n",
    "from scipy.stats import logistic\n",
    "\n",
    "MC_N = 50\n",
    "MC_θ = np.zeros((MC_N,4))\n",
    "MC_y = np.zeros((MC_N,4))\n",
    "MC_t = np.zeros((MC_N,4))\n",
    "\n",
    "for j in range(MC_N):\n",
    "    import numpy as np\n",
    "    N = 5000\n",
    "    σ_t = 1\n",
    "    σ_y = 1\n",
    "    σ_x = 1\n",
    "    θ = 0.5 # TRUE ATE\n",
    "    α_t = 0.5\n",
    "    α_y = 0.5\n",
    "    x = np.random.normal(0,σ_x,N)\n",
    "    e_t = np.random.normal(0,σ_t,N)\n",
    "    e_y = np.random.normal(0,σ_y,N)\n",
    "    t = np.random.binomial(1,logistic.cdf(np.exp(α_t*x)))\n",
    "    y = np.exp(α_y * x)*np.where(x>0,1,0)+np.exp(-α_y * x)*np.where(x<=0,1,0) + θ * t + e_y\n",
    "    x = x.reshape(-1, 1)\n",
    "    y = y.reshape(-1, 1)\n",
    "    t = t.reshape(-1, 1)\n",
    "    data = np.c_[y,t,x]\n",
    "    print(data[0:5])\n",
    "    \n",
    "    # OLS - Full Estimation\n",
    "    model_OLS = sm.OLS(y, np.c_[t,x])\n",
    "    res = model_OLS.fit()\n",
    "    θ_OLS = res.params[0]\n",
    "    # OLS First Stage: Y\n",
    "    model_OLS = sm.OLS(y, np.c_[x])\n",
    "    res_y = model_OLS.fit()\n",
    "    θ_OLS_y = res_y.params[0]    \n",
    "    # Logistic First Stage\n",
    "    clf = LogisticRegression(random_state=0).fit(x, t)\n",
    "    \n",
    "    # DML Lasso\n",
    "    model_Lasso = LinearDML(discrete_treatment=True, random_state=1)\n",
    "    model_Lasso.fit(y, t, X=None,W=x)\n",
    "    θ_DMLL = model_Lasso.intercept_\n",
    "\n",
    "    # DML RF\n",
    "    model_XGB = LinearDML(discrete_treatment=True, \n",
    "                          model_y = CatBoostRegressor(learning_rate=0.01, verbose = False), \n",
    "                          model_t = CatBoostClassifier(learning_rate=0.01, verbose = False))\n",
    "    model_XGB.fit(y.ravel(), t.ravel(), X=None,W=x)\n",
    "    θ_DMLRF = model_XGB.intercept_\n",
    "    \n",
    "    # DML NN - First Stage\n",
    "    model_NN = LinearDML(discrete_treatment=True, \n",
    "                         model_y = MLPRegressor(hidden_layer_sizes=(100,20)), \n",
    "                         model_t = MLPClassifier(hidden_layer_sizes=(100,20)))\n",
    "    model_NN.fit(y.ravel(), t.ravel(), X=None,W=x)\n",
    "    θ_DMLRF = model_NN.intercept_\n",
    "\n",
    "\n",
    "    MC_θ[j] = [θ_OLS, model_Lasso.intercept_, model_XGB.intercept_, model_NN.intercept_]\n",
    "    MC_y[j] = [res_y.rsquared, np.mean(model_Lasso.nuisance_scores_y), np.mean(model_XGB.nuisance_scores_y),np.mean(model_NN.nuisance_scores_y)]\n",
    "    MC_t[j] = [clf.score(x,t), np.mean(model_Lasso.nuisance_scores_t), np.mean(model_XGB.nuisance_scores_t),np.mean(model_NN.nuisance_scores_t)]\n",
    "    \n",
    "    "
   ]
  },
  {
   "cell_type": "code",
   "execution_count": 35,
   "id": "31aebd79",
   "metadata": {},
   "outputs": [
    {
     "name": "stdout",
     "output_type": "stream",
     "text": [
      "+------------------------+-------+-------+-----------+--------+\n",
      "|          Var           |  OLS  | DML-L | DML-Boost | DML-NN |\n",
      "+------------------------+-------+-------+-----------+--------+\n",
      "|       Mean θ_hat       | 2.092 | 0.541 |   0.506   | 0.509  |\n",
      "|      Stdev θ_hat       | 0.021 | 0.046 |   0.039   | 0.037  |\n",
      "|  97.5 Quantile θ_hat   | 2.131 | 0.619 |   0.575   | 0.573  |\n",
      "|   2.5 Quantile θ_hat   | 2.057 | 0.452 |   0.440   | 0.449  |\n",
      "|    First Stage Y R2    | 0.001 | 0.000 |   0.222   | 0.230  |\n",
      "| First Stage D Accuracy | 0.740 | 0.741 |   0.740   | 0.741  |\n",
      "+------------------------+-------+-------+-----------+--------+\n"
     ]
    }
   ],
   "source": [
    "from prettytable import PrettyTable\n",
    "from PIL import Image, ImageDraw, ImageFont\n",
    "table = PrettyTable()\n",
    "table.field_names = ['Var', 'OLS','DML-L','DML-Boost','DML-NN']\n",
    "a = ['Mean θ_hat']+ np.mean(MC_θ, axis = 0).tolist()\n",
    "table.add_row(a)\n",
    "a = ['Stdev θ_hat']+ np.std(MC_θ, axis = 0).tolist()\n",
    "table.add_row(a)\n",
    "a = ['97.5 Quantile θ_hat']+ np.quantile(MC_θ,0.975, axis = 0).tolist()\n",
    "table.add_row(a)\n",
    "a = ['2.5 Quantile θ_hat']+ np.quantile(MC_θ,0.025, axis = 0).tolist()\n",
    "table.add_row(a)\n",
    "a = ['First Stage Y R2']+ np.mean(MC_y, axis = 0).tolist()\n",
    "table.add_row(a)\n",
    "a = ['First Stage D Accuracy']+ np.mean(MC_t, axis = 0).tolist()\n",
    "table.add_row(a)\n",
    "table.float_format = '0.3'\n",
    "print(table)"
   ]
  },
  {
   "cell_type": "code",
   "execution_count": 34,
   "id": "8a5acecf",
   "metadata": {},
   "outputs": [
    {
     "data": {
      "image/png": "[encoded data removed]",
      "text/plain": [
       "<Figure size 1000x1000 with 1 Axes>"
      ]
     },
     "metadata": {},
     "output_type": "display_data"
    }
   ],
   "source": [
    "import seaborn as sns\n",
    "import pandas as pd \n",
    "import matplotlib.pyplot as plt \n",
    "df = pd.DataFrame(MC_θ,columns=['OLS','DML-L','DML-XGB','DML-NN'])\n",
    "plt.figure(figsize=(10,10))\n",
    "sns.kdeplot(df)\n",
    "plt.axvline(0.5, color='black')\n",
    "plt.savefig('ex4g.png')"
   ]
  },
  {
   "cell_type": "code",
   "execution_count": null,
   "id": "b847c801",
   "metadata": {},
   "outputs": [],
   "source": []
  }
 ],
 "metadata": {
  "kernelspec": {
   "display_name": "Python 3 (ipykernel)",
   "language": "python",
   "name": "python3"
  },
  "language_info": {
   "codemirror_mode": {
    "name": "ipython",
    "version": 3
   },
   "file_extension": ".py",
   "mimetype": "text/x-python",
   "name": "python",
   "nbconvert_exporter": "python",
   "pygments_lexer": "ipython3",
   "version": "3.10.8"
  }
 },
 "nbformat": 4,
 "nbformat_minor": 5
}
