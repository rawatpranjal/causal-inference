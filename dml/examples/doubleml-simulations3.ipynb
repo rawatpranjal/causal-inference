{
 "cells": [
  {
   "cell_type": "code",
   "execution_count": 212,
   "id": "b4a5c00c",
   "metadata": {},
   "outputs": [
    {
     "name": "stdout",
     "output_type": "stream",
     "text": [
      "[[ 0.75502675  0.         -1.49721933]\n",
      " [ 0.73289707  1.         -0.1772263 ]\n",
      " [ 3.44502448  0.          0.41034591]\n",
      " [ 6.2012002   1.          1.7732367 ]\n",
      " [ 0.70422561  1.         -1.3191929 ]]\n"
     ]
    },
    {
     "name": "stderr",
     "output_type": "stream",
     "text": [
      "A column-vector y was passed when a 1d array was expected. Please change the shape of y to (n_samples, ), for example using ravel().\n",
      "Stochastic Optimizer: Maximum iterations (200) reached and the optimization hasn't converged yet.\n",
      "Stochastic Optimizer: Maximum iterations (200) reached and the optimization hasn't converged yet.\n",
      "A column-vector y was passed when a 1d array was expected. Please change the shape of y to (n_samples, ), for example using ravel().\n"
     ]
    },
    {
     "name": "stdout",
     "output_type": "stream",
     "text": [
      "[[ 0.8169273   0.         -0.49572818]\n",
      " [ 3.05259409  1.          1.06138069]\n",
      " [-0.20417319  0.         -2.04244604]\n",
      " [ 1.92075957  0.          0.91841002]\n",
      " [ 1.52571366  1.          0.71698027]]\n"
     ]
    },
    {
     "name": "stderr",
     "output_type": "stream",
     "text": [
      "Stochastic Optimizer: Maximum iterations (200) reached and the optimization hasn't converged yet.\n",
      "Stochastic Optimizer: Maximum iterations (200) reached and the optimization hasn't converged yet.\n",
      "A column-vector y was passed when a 1d array was expected. Please change the shape of y to (n_samples, ), for example using ravel().\n"
     ]
    },
    {
     "name": "stdout",
     "output_type": "stream",
     "text": [
      "[[ 2.97463954  1.          0.1078117 ]\n",
      " [ 3.36022888  1.         -0.50354175]\n",
      " [ 1.51902564  1.         -0.10889478]\n",
      " [ 3.4413764   1.          0.52633701]\n",
      " [ 0.27995703  0.         -1.49480479]]\n"
     ]
    },
    {
     "name": "stderr",
     "output_type": "stream",
     "text": [
      "Stochastic Optimizer: Maximum iterations (200) reached and the optimization hasn't converged yet.\n",
      "Stochastic Optimizer: Maximum iterations (200) reached and the optimization hasn't converged yet.\n",
      "A column-vector y was passed when a 1d array was expected. Please change the shape of y to (n_samples, ), for example using ravel().\n"
     ]
    },
    {
     "name": "stdout",
     "output_type": "stream",
     "text": [
      "[[15.55054992  1.          2.68864332]\n",
      " [ 4.36575969  1.          0.42952996]\n",
      " [ 2.62958011  0.          0.89684227]\n",
      " [ 7.00450392  1.          1.7736063 ]\n",
      " [ 8.60232537  1.          1.8550371 ]]\n"
     ]
    },
    {
     "name": "stderr",
     "output_type": "stream",
     "text": [
      "Stochastic Optimizer: Maximum iterations (200) reached and the optimization hasn't converged yet.\n",
      "Stochastic Optimizer: Maximum iterations (200) reached and the optimization hasn't converged yet.\n",
      "A column-vector y was passed when a 1d array was expected. Please change the shape of y to (n_samples, ), for example using ravel().\n"
     ]
    },
    {
     "name": "stdout",
     "output_type": "stream",
     "text": [
      "[[ 0.02525431  0.         -0.55843627]\n",
      " [ 0.71764379  0.         -0.20463209]\n",
      " [-0.48445033  0.         -0.42623749]\n",
      " [-0.22499695  0.          0.35931317]\n",
      " [-0.17953204  1.         -1.55404101]]\n"
     ]
    },
    {
     "name": "stderr",
     "output_type": "stream",
     "text": [
      "Stochastic Optimizer: Maximum iterations (200) reached and the optimization hasn't converged yet.\n",
      "Stochastic Optimizer: Maximum iterations (200) reached and the optimization hasn't converged yet.\n",
      "A column-vector y was passed when a 1d array was expected. Please change the shape of y to (n_samples, ), for example using ravel().\n"
     ]
    },
    {
     "name": "stdout",
     "output_type": "stream",
     "text": [
      "[[ 3.14463819  1.          0.44565039]\n",
      " [-0.32798856  0.         -1.16359171]\n",
      " [ 2.32710989  1.          0.12440444]\n",
      " [-0.68060503  0.         -0.64561447]\n",
      " [ 0.63850566  1.         -0.69800118]]\n"
     ]
    },
    {
     "name": "stderr",
     "output_type": "stream",
     "text": [
      "Stochastic Optimizer: Maximum iterations (200) reached and the optimization hasn't converged yet.\n",
      "Stochastic Optimizer: Maximum iterations (200) reached and the optimization hasn't converged yet.\n",
      "A column-vector y was passed when a 1d array was expected. Please change the shape of y to (n_samples, ), for example using ravel().\n"
     ]
    },
    {
     "name": "stdout",
     "output_type": "stream",
     "text": [
      "[[ 1.37639544  1.          0.701314  ]\n",
      " [ 0.54594197  0.         -0.34198234]\n",
      " [ 4.27688028  0.          1.15658212]\n",
      " [ 4.29868811  1.          0.81475994]\n",
      " [ 2.89735281  0.          0.69613777]]\n"
     ]
    },
    {
     "name": "stderr",
     "output_type": "stream",
     "text": [
      "Stochastic Optimizer: Maximum iterations (200) reached and the optimization hasn't converged yet.\n",
      "Stochastic Optimizer: Maximum iterations (200) reached and the optimization hasn't converged yet.\n",
      "A column-vector y was passed when a 1d array was expected. Please change the shape of y to (n_samples, ), for example using ravel().\n"
     ]
    },
    {
     "name": "stdout",
     "output_type": "stream",
     "text": [
      "[[ 2.6633472   1.          0.46915442]\n",
      " [ 1.7714821   1.         -0.1567405 ]\n",
      " [ 5.06551288  1.          1.17149174]\n",
      " [ 0.72375282  0.         -0.60409612]\n",
      " [ 1.62062409  1.          0.19859521]]\n"
     ]
    },
    {
     "name": "stderr",
     "output_type": "stream",
     "text": [
      "Stochastic Optimizer: Maximum iterations (200) reached and the optimization hasn't converged yet.\n",
      "Stochastic Optimizer: Maximum iterations (200) reached and the optimization hasn't converged yet.\n",
      "A column-vector y was passed when a 1d array was expected. Please change the shape of y to (n_samples, ), for example using ravel().\n"
     ]
    },
    {
     "name": "stdout",
     "output_type": "stream",
     "text": [
      "[[ 0.04271208  0.         -0.20104781]\n",
      " [ 0.56840878  0.         -0.68199713]\n",
      " [ 2.02592611  0.          0.91660888]\n",
      " [-0.05014196  1.         -1.74837004]\n",
      " [ 2.28407738  0.          0.03490633]]\n"
     ]
    },
    {
     "name": "stderr",
     "output_type": "stream",
     "text": [
      "Stochastic Optimizer: Maximum iterations (200) reached and the optimization hasn't converged yet.\n",
      "Stochastic Optimizer: Maximum iterations (200) reached and the optimization hasn't converged yet.\n",
      "A column-vector y was passed when a 1d array was expected. Please change the shape of y to (n_samples, ), for example using ravel().\n"
     ]
    },
    {
     "name": "stdout",
     "output_type": "stream",
     "text": [
      "[[ 4.038821    1.          1.13087658]\n",
      " [ 8.31918523  0.          2.12205876]\n",
      " [-0.30786005  0.         -1.5155495 ]\n",
      " [ 3.43406401  0.          1.1984228 ]\n",
      " [ 1.03222408  1.         -0.68866387]]\n"
     ]
    },
    {
     "name": "stderr",
     "output_type": "stream",
     "text": [
      "Stochastic Optimizer: Maximum iterations (200) reached and the optimization hasn't converged yet.\n",
      "Stochastic Optimizer: Maximum iterations (200) reached and the optimization hasn't converged yet.\n",
      "A column-vector y was passed when a 1d array was expected. Please change the shape of y to (n_samples, ), for example using ravel().\n"
     ]
    },
    {
     "name": "stdout",
     "output_type": "stream",
     "text": [
      "[[ 3.94890085  1.          0.83631254]\n",
      " [ 3.56400357  1.         -0.29768633]\n",
      " [ 1.7796542   1.         -0.31213273]\n",
      " [ 1.74499283  0.          0.60144864]\n",
      " [ 2.22623414  1.          0.19757931]]\n"
     ]
    },
    {
     "name": "stderr",
     "output_type": "stream",
     "text": [
      "Stochastic Optimizer: Maximum iterations (200) reached and the optimization hasn't converged yet.\n",
      "Stochastic Optimizer: Maximum iterations (200) reached and the optimization hasn't converged yet.\n",
      "A column-vector y was passed when a 1d array was expected. Please change the shape of y to (n_samples, ), for example using ravel().\n"
     ]
    },
    {
     "name": "stdout",
     "output_type": "stream",
     "text": [
      "[[ 1.59249913  0.         -0.64596345]\n",
      " [ 2.47483644  0.          0.36287666]\n",
      " [ 0.33919377  0.          0.3532861 ]\n",
      " [ 1.26933242  0.         -0.69067319]\n",
      " [ 0.36534182  0.         -1.56169538]]\n"
     ]
    },
    {
     "name": "stderr",
     "output_type": "stream",
     "text": [
      "Stochastic Optimizer: Maximum iterations (200) reached and the optimization hasn't converged yet.\n",
      "Stochastic Optimizer: Maximum iterations (200) reached and the optimization hasn't converged yet.\n",
      "A column-vector y was passed when a 1d array was expected. Please change the shape of y to (n_samples, ), for example using ravel().\n"
     ]
    },
    {
     "name": "stdout",
     "output_type": "stream",
     "text": [
      "[[ 0.77209196  0.          0.0371364 ]\n",
      " [ 2.38643228  1.          0.20367953]\n",
      " [ 0.69934975  1.         -0.63529233]\n",
      " [ 2.42523041  0.         -0.71762794]\n",
      " [ 0.1924297   1.         -0.94888741]]\n"
     ]
    },
    {
     "name": "stderr",
     "output_type": "stream",
     "text": [
      "Stochastic Optimizer: Maximum iterations (200) reached and the optimization hasn't converged yet.\n",
      "Stochastic Optimizer: Maximum iterations (200) reached and the optimization hasn't converged yet.\n",
      "A column-vector y was passed when a 1d array was expected. Please change the shape of y to (n_samples, ), for example using ravel().\n"
     ]
    },
    {
     "name": "stdout",
     "output_type": "stream",
     "text": [
      "[[ 0.94748732  1.          0.29758279]\n",
      " [ 0.82785618  0.          0.6762028 ]\n",
      " [ 0.91140614  0.         -0.37867582]\n",
      " [ 0.32627233  0.         -0.06823018]\n",
      " [ 1.5149204   1.         -0.08564931]]\n"
     ]
    },
    {
     "name": "stderr",
     "output_type": "stream",
     "text": [
      "Stochastic Optimizer: Maximum iterations (200) reached and the optimization hasn't converged yet.\n",
      "Stochastic Optimizer: Maximum iterations (200) reached and the optimization hasn't converged yet.\n",
      "A column-vector y was passed when a 1d array was expected. Please change the shape of y to (n_samples, ), for example using ravel().\n"
     ]
    },
    {
     "name": "stdout",
     "output_type": "stream",
     "text": [
      "[[-0.12702259  0.          0.23165015]\n",
      " [ 3.09128586  1.          0.43793519]\n",
      " [ 1.35931477  0.          0.01375667]\n",
      " [ 1.47170343  1.         -0.1945484 ]\n",
      " [ 1.24261161  1.          0.05952845]]\n"
     ]
    },
    {
     "name": "stderr",
     "output_type": "stream",
     "text": [
      "Stochastic Optimizer: Maximum iterations (200) reached and the optimization hasn't converged yet.\n",
      "Stochastic Optimizer: Maximum iterations (200) reached and the optimization hasn't converged yet.\n",
      "A column-vector y was passed when a 1d array was expected. Please change the shape of y to (n_samples, ), for example using ravel().\n"
     ]
    },
    {
     "name": "stdout",
     "output_type": "stream",
     "text": [
      "[[ 2.80324882  1.          1.00158475]\n",
      " [ 0.99323002  0.         -0.49524101]\n",
      " [ 0.29198786  1.          0.29698174]\n",
      " [ 1.19826289  0.          0.25679834]\n",
      " [ 2.2840466   1.          0.71931702]]\n"
     ]
    },
    {
     "name": "stderr",
     "output_type": "stream",
     "text": [
      "Stochastic Optimizer: Maximum iterations (200) reached and the optimization hasn't converged yet.\n",
      "Stochastic Optimizer: Maximum iterations (200) reached and the optimization hasn't converged yet.\n",
      "A column-vector y was passed when a 1d array was expected. Please change the shape of y to (n_samples, ), for example using ravel().\n"
     ]
    },
    {
     "name": "stdout",
     "output_type": "stream",
     "text": [
      "[[ 1.06638168  1.          0.16134218]\n",
      " [ 1.75318388  1.         -0.60197213]\n",
      " [ 2.90342062  1.          0.56773634]\n",
      " [ 2.85032919  1.          0.08542162]\n",
      " [ 1.60624511  1.         -1.05583366]]\n"
     ]
    },
    {
     "name": "stderr",
     "output_type": "stream",
     "text": [
      "Stochastic Optimizer: Maximum iterations (200) reached and the optimization hasn't converged yet.\n",
      "Stochastic Optimizer: Maximum iterations (200) reached and the optimization hasn't converged yet.\n",
      "A column-vector y was passed when a 1d array was expected. Please change the shape of y to (n_samples, ), for example using ravel().\n"
     ]
    },
    {
     "name": "stdout",
     "output_type": "stream",
     "text": [
      "[[-0.69891727  0.         -0.0367808 ]\n",
      " [ 2.47587693  0.          1.13257886]\n",
      " [ 3.43485768  1.          1.0359117 ]\n",
      " [ 2.94928196  1.          0.5926063 ]\n",
      " [ 0.16674739  0.         -1.28320663]]\n"
     ]
    },
    {
     "name": "stderr",
     "output_type": "stream",
     "text": [
      "Stochastic Optimizer: Maximum iterations (200) reached and the optimization hasn't converged yet.\n",
      "Stochastic Optimizer: Maximum iterations (200) reached and the optimization hasn't converged yet.\n",
      "A column-vector y was passed when a 1d array was expected. Please change the shape of y to (n_samples, ), for example using ravel().\n"
     ]
    },
    {
     "name": "stdout",
     "output_type": "stream",
     "text": [
      "[[ 1.44171053  1.         -1.61350435]\n",
      " [ 2.73320556  0.          0.17002034]\n",
      " [-0.02834922  0.         -1.54232593]\n",
      " [-0.36965557  1.          0.04587863]\n",
      " [ 1.64594951  0.         -0.43044055]]\n"
     ]
    },
    {
     "name": "stderr",
     "output_type": "stream",
     "text": [
      "Stochastic Optimizer: Maximum iterations (200) reached and the optimization hasn't converged yet.\n",
      "Stochastic Optimizer: Maximum iterations (200) reached and the optimization hasn't converged yet.\n",
      "A column-vector y was passed when a 1d array was expected. Please change the shape of y to (n_samples, ), for example using ravel().\n"
     ]
    },
    {
     "name": "stdout",
     "output_type": "stream",
     "text": [
      "[[-0.01810581  0.         -1.85808168]\n",
      " [ 2.63197432  1.          0.87158918]\n",
      " [ 1.71745809  0.         -0.59831916]\n",
      " [ 0.59334129  0.         -0.59734861]\n",
      " [ 0.62894961  0.         -1.91563805]]\n"
     ]
    },
    {
     "name": "stderr",
     "output_type": "stream",
     "text": [
      "Stochastic Optimizer: Maximum iterations (200) reached and the optimization hasn't converged yet.\n",
      "Stochastic Optimizer: Maximum iterations (200) reached and the optimization hasn't converged yet.\n",
      "A column-vector y was passed when a 1d array was expected. Please change the shape of y to (n_samples, ), for example using ravel().\n"
     ]
    },
    {
     "name": "stdout",
     "output_type": "stream",
     "text": [
      "[[ 1.29040453  0.          0.26856187]\n",
      " [ 3.28860745  1.          0.84509975]\n",
      " [ 0.24460773  0.         -0.46251315]\n",
      " [ 2.01492088  1.          0.36865397]\n",
      " [ 0.6153323   1.         -2.29973855]]\n"
     ]
    },
    {
     "name": "stderr",
     "output_type": "stream",
     "text": [
      "Stochastic Optimizer: Maximum iterations (200) reached and the optimization hasn't converged yet.\n",
      "Stochastic Optimizer: Maximum iterations (200) reached and the optimization hasn't converged yet.\n",
      "A column-vector y was passed when a 1d array was expected. Please change the shape of y to (n_samples, ), for example using ravel().\n"
     ]
    },
    {
     "name": "stdout",
     "output_type": "stream",
     "text": [
      "[[ 1.88045271  1.         -1.38472362]\n",
      " [ 2.0752209   1.          0.98970508]\n",
      " [ 1.19322136  1.          0.2778406 ]\n",
      " [ 0.5414784   1.         -0.64049182]\n",
      " [ 1.26660243  0.          0.8693008 ]]\n"
     ]
    },
    {
     "name": "stderr",
     "output_type": "stream",
     "text": [
      "Stochastic Optimizer: Maximum iterations (200) reached and the optimization hasn't converged yet.\n",
      "Stochastic Optimizer: Maximum iterations (200) reached and the optimization hasn't converged yet.\n",
      "A column-vector y was passed when a 1d array was expected. Please change the shape of y to (n_samples, ), for example using ravel().\n"
     ]
    },
    {
     "name": "stdout",
     "output_type": "stream",
     "text": [
      "[[ 1.24185146e+00  1.00000000e+00 -1.73910137e-01]\n",
      " [-3.58153681e-01  0.00000000e+00 -1.69316200e-02]\n",
      " [ 2.49824838e-01  0.00000000e+00 -1.25078334e+00]\n",
      " [ 1.93049537e+01  1.00000000e+00  2.93902489e+00]\n",
      " [ 1.88897032e+00  1.00000000e+00 -9.85329125e-01]]\n"
     ]
    },
    {
     "name": "stderr",
     "output_type": "stream",
     "text": [
      "Stochastic Optimizer: Maximum iterations (200) reached and the optimization hasn't converged yet.\n",
      "Stochastic Optimizer: Maximum iterations (200) reached and the optimization hasn't converged yet.\n",
      "A column-vector y was passed when a 1d array was expected. Please change the shape of y to (n_samples, ), for example using ravel().\n"
     ]
    },
    {
     "name": "stdout",
     "output_type": "stream",
     "text": [
      "[[ 2.47709056  1.         -0.18768295]\n",
      " [ 5.89996289  1.          1.41211114]\n",
      " [ 0.95595451  0.          0.52831116]\n",
      " [ 5.06450791  1.          1.26564693]\n",
      " [ 0.22482774  0.         -0.59458352]]\n"
     ]
    },
    {
     "name": "stderr",
     "output_type": "stream",
     "text": [
      "Stochastic Optimizer: Maximum iterations (200) reached and the optimization hasn't converged yet.\n",
      "Stochastic Optimizer: Maximum iterations (200) reached and the optimization hasn't converged yet.\n",
      "A column-vector y was passed when a 1d array was expected. Please change the shape of y to (n_samples, ), for example using ravel().\n"
     ]
    },
    {
     "name": "stdout",
     "output_type": "stream",
     "text": [
      "[[ 2.69173783  0.          0.95108689]\n",
      " [ 2.29364784  1.          0.89231083]\n",
      " [ 0.79432209  1.         -0.82228607]\n",
      " [ 1.31264812  1.         -0.12363101]\n",
      " [ 2.80675887  0.          0.84319729]]\n"
     ]
    },
    {
     "name": "stderr",
     "output_type": "stream",
     "text": [
      "Stochastic Optimizer: Maximum iterations (200) reached and the optimization hasn't converged yet.\n",
      "Stochastic Optimizer: Maximum iterations (200) reached and the optimization hasn't converged yet.\n",
      "A column-vector y was passed when a 1d array was expected. Please change the shape of y to (n_samples, ), for example using ravel().\n"
     ]
    },
    {
     "name": "stdout",
     "output_type": "stream",
     "text": [
      "[[ 3.1600892   1.          0.50661554]\n",
      " [ 3.07323649  1.          0.49878476]\n",
      " [ 2.07864176  1.         -0.82167592]\n",
      " [ 1.11143744  1.          0.79725986]\n",
      " [ 2.32584236  1.          0.00857614]]\n"
     ]
    },
    {
     "name": "stderr",
     "output_type": "stream",
     "text": [
      "Stochastic Optimizer: Maximum iterations (200) reached and the optimization hasn't converged yet.\n",
      "Stochastic Optimizer: Maximum iterations (200) reached and the optimization hasn't converged yet.\n",
      "A column-vector y was passed when a 1d array was expected. Please change the shape of y to (n_samples, ), for example using ravel().\n"
     ]
    },
    {
     "name": "stdout",
     "output_type": "stream",
     "text": [
      "[[-0.07544056  0.         -1.26474754]\n",
      " [ 4.94914901  1.          1.70473104]\n",
      " [ 1.06108138  0.         -0.087314  ]\n",
      " [ 0.78074071  0.         -0.44436712]\n",
      " [ 3.66610441  1.          0.99330196]]\n"
     ]
    },
    {
     "name": "stderr",
     "output_type": "stream",
     "text": [
      "Stochastic Optimizer: Maximum iterations (200) reached and the optimization hasn't converged yet.\n",
      "Stochastic Optimizer: Maximum iterations (200) reached and the optimization hasn't converged yet.\n",
      "A column-vector y was passed when a 1d array was expected. Please change the shape of y to (n_samples, ), for example using ravel().\n"
     ]
    },
    {
     "name": "stdout",
     "output_type": "stream",
     "text": [
      "[[ 0.04686667  1.         -0.4120457 ]\n",
      " [ 2.78324189  0.          1.07754726]\n",
      " [ 1.41075506  1.         -0.08479191]\n",
      " [ 3.97716737  0.          1.3683487 ]\n",
      " [ 2.63356238  1.          0.67317844]]\n"
     ]
    },
    {
     "name": "stderr",
     "output_type": "stream",
     "text": [
      "Stochastic Optimizer: Maximum iterations (200) reached and the optimization hasn't converged yet.\n",
      "Stochastic Optimizer: Maximum iterations (200) reached and the optimization hasn't converged yet.\n",
      "A column-vector y was passed when a 1d array was expected. Please change the shape of y to (n_samples, ), for example using ravel().\n"
     ]
    },
    {
     "name": "stdout",
     "output_type": "stream",
     "text": [
      "[[ 1.07335492  0.         -0.66194319]\n",
      " [-1.11085633  1.         -0.93768383]\n",
      " [-0.17615236  0.         -1.35220501]\n",
      " [ 4.73563688  1.          0.84645312]\n",
      " [-0.03040969  0.         -2.31511523]]\n"
     ]
    },
    {
     "name": "stderr",
     "output_type": "stream",
     "text": [
      "Stochastic Optimizer: Maximum iterations (200) reached and the optimization hasn't converged yet.\n",
      "Stochastic Optimizer: Maximum iterations (200) reached and the optimization hasn't converged yet.\n",
      "A column-vector y was passed when a 1d array was expected. Please change the shape of y to (n_samples, ), for example using ravel().\n"
     ]
    },
    {
     "name": "stdout",
     "output_type": "stream",
     "text": [
      "[[ 3.02845568  1.          0.9109321 ]\n",
      " [ 2.56193565  1.         -0.1073926 ]\n",
      " [ 0.48843175  0.         -0.04997719]\n",
      " [ 1.47042863  0.         -0.78478974]\n",
      " [ 3.22553413  0.          1.40737025]]\n"
     ]
    },
    {
     "name": "stderr",
     "output_type": "stream",
     "text": [
      "Stochastic Optimizer: Maximum iterations (200) reached and the optimization hasn't converged yet.\n",
      "Stochastic Optimizer: Maximum iterations (200) reached and the optimization hasn't converged yet.\n",
      "A column-vector y was passed when a 1d array was expected. Please change the shape of y to (n_samples, ), for example using ravel().\n"
     ]
    },
    {
     "name": "stdout",
     "output_type": "stream",
     "text": [
      "[[ 2.48159129  0.         -0.0617387 ]\n",
      " [ 1.31611155  0.          0.06606176]\n",
      " [-0.2026655   0.         -0.55002402]\n",
      " [ 1.61053127  1.         -0.15175054]\n",
      " [ 0.46860185  0.         -1.63974978]]\n"
     ]
    },
    {
     "name": "stderr",
     "output_type": "stream",
     "text": [
      "Stochastic Optimizer: Maximum iterations (200) reached and the optimization hasn't converged yet.\n",
      "Stochastic Optimizer: Maximum iterations (200) reached and the optimization hasn't converged yet.\n",
      "A column-vector y was passed when a 1d array was expected. Please change the shape of y to (n_samples, ), for example using ravel().\n"
     ]
    },
    {
     "name": "stdout",
     "output_type": "stream",
     "text": [
      "[[ 2.18963004  1.         -0.34276833]\n",
      " [-0.09161645  0.         -0.76523986]\n",
      " [ 2.31606858  1.         -0.79484135]\n",
      " [ 2.05498008  0.          0.54659575]\n",
      " [ 2.08022929  1.         -0.61386072]]\n"
     ]
    },
    {
     "name": "stderr",
     "output_type": "stream",
     "text": [
      "Stochastic Optimizer: Maximum iterations (200) reached and the optimization hasn't converged yet.\n",
      "Stochastic Optimizer: Maximum iterations (200) reached and the optimization hasn't converged yet.\n",
      "A column-vector y was passed when a 1d array was expected. Please change the shape of y to (n_samples, ), for example using ravel().\n"
     ]
    },
    {
     "name": "stdout",
     "output_type": "stream",
     "text": [
      "[[ 0.22478934  0.         -0.54132553]\n",
      " [ 1.0399457   0.         -0.28816014]\n",
      " [ 1.33592897  1.         -0.2247746 ]\n",
      " [ 1.76577415  0.          0.37879693]\n",
      " [ 2.49926087  1.          0.86410434]]\n"
     ]
    },
    {
     "name": "stderr",
     "output_type": "stream",
     "text": [
      "Stochastic Optimizer: Maximum iterations (200) reached and the optimization hasn't converged yet.\n",
      "Stochastic Optimizer: Maximum iterations (200) reached and the optimization hasn't converged yet.\n",
      "A column-vector y was passed when a 1d array was expected. Please change the shape of y to (n_samples, ), for example using ravel().\n"
     ]
    },
    {
     "name": "stdout",
     "output_type": "stream",
     "text": [
      "[[ 0.4654225   1.         -1.29126218]\n",
      " [ 1.51821663  0.          0.21668199]\n",
      " [ 0.2820829   1.         -0.37522151]\n",
      " [-0.27266871  0.         -1.25231393]\n",
      " [-0.75679269  0.         -0.75941825]]\n"
     ]
    },
    {
     "name": "stderr",
     "output_type": "stream",
     "text": [
      "Stochastic Optimizer: Maximum iterations (200) reached and the optimization hasn't converged yet.\n",
      "Stochastic Optimizer: Maximum iterations (200) reached and the optimization hasn't converged yet.\n",
      "A column-vector y was passed when a 1d array was expected. Please change the shape of y to (n_samples, ), for example using ravel().\n"
     ]
    },
    {
     "name": "stdout",
     "output_type": "stream",
     "text": [
      "[[ 2.87949059  1.         -0.07076205]\n",
      " [ 3.62921878  0.          1.22006524]\n",
      " [-0.37871673  0.         -0.52212767]\n",
      " [-0.86273723  1.         -2.33601941]\n",
      " [-0.28508312  0.         -0.0537529 ]]\n"
     ]
    },
    {
     "name": "stderr",
     "output_type": "stream",
     "text": [
      "Stochastic Optimizer: Maximum iterations (200) reached and the optimization hasn't converged yet.\n",
      "Stochastic Optimizer: Maximum iterations (200) reached and the optimization hasn't converged yet.\n",
      "A column-vector y was passed when a 1d array was expected. Please change the shape of y to (n_samples, ), for example using ravel().\n"
     ]
    },
    {
     "name": "stdout",
     "output_type": "stream",
     "text": [
      "[[ 1.21817352  0.          0.24827036]\n",
      " [-0.85892359  0.         -1.3286226 ]\n",
      " [ 6.97686598  0.          1.97767346]\n",
      " [ 2.19850733  0.          1.18602105]\n",
      " [ 3.48778624  1.          0.65972584]]\n"
     ]
    },
    {
     "name": "stderr",
     "output_type": "stream",
     "text": [
      "Stochastic Optimizer: Maximum iterations (200) reached and the optimization hasn't converged yet.\n",
      "Stochastic Optimizer: Maximum iterations (200) reached and the optimization hasn't converged yet.\n",
      "A column-vector y was passed when a 1d array was expected. Please change the shape of y to (n_samples, ), for example using ravel().\n"
     ]
    },
    {
     "name": "stdout",
     "output_type": "stream",
     "text": [
      "[[-0.10120517  0.          0.4004701 ]\n",
      " [ 1.51813456  0.         -0.38767329]\n",
      " [-0.44108233  0.         -1.4990301 ]\n",
      " [-0.38088736  1.          0.31479707]\n",
      " [-0.88747832  1.         -0.11254   ]]\n"
     ]
    },
    {
     "name": "stderr",
     "output_type": "stream",
     "text": [
      "Stochastic Optimizer: Maximum iterations (200) reached and the optimization hasn't converged yet.\n"
     ]
    },
    {
     "name": "stdout",
     "output_type": "stream",
     "text": [
      "[[ 4.23065536  1.          1.25758528]\n",
      " [ 2.45113315  1.          0.06703853]\n",
      " [ 0.04326205  0.         -0.41795324]\n",
      " [ 3.78688294  1.          1.12865647]\n",
      " [ 2.53514042  1.          0.42195948]]\n"
     ]
    },
    {
     "name": "stderr",
     "output_type": "stream",
     "text": [
      "A column-vector y was passed when a 1d array was expected. Please change the shape of y to (n_samples, ), for example using ravel().\n",
      "Stochastic Optimizer: Maximum iterations (200) reached and the optimization hasn't converged yet.\n",
      "Stochastic Optimizer: Maximum iterations (200) reached and the optimization hasn't converged yet.\n",
      "A column-vector y was passed when a 1d array was expected. Please change the shape of y to (n_samples, ), for example using ravel().\n"
     ]
    },
    {
     "name": "stdout",
     "output_type": "stream",
     "text": [
      "[[ 0.95246311  0.          0.53125185]\n",
      " [ 3.11367956  1.          1.09216701]\n",
      " [ 0.39923438  0.          0.55311364]\n",
      " [ 1.87779756  0.         -0.38937411]\n",
      " [ 2.56291833  0.          1.19998389]]\n"
     ]
    },
    {
     "name": "stderr",
     "output_type": "stream",
     "text": [
      "Stochastic Optimizer: Maximum iterations (200) reached and the optimization hasn't converged yet.\n",
      "Stochastic Optimizer: Maximum iterations (200) reached and the optimization hasn't converged yet.\n",
      "A column-vector y was passed when a 1d array was expected. Please change the shape of y to (n_samples, ), for example using ravel().\n"
     ]
    },
    {
     "name": "stdout",
     "output_type": "stream",
     "text": [
      "[[4.76339896 1.         1.49783628]\n",
      " [7.964092   1.         2.05841222]\n",
      " [2.91799666 0.         0.59690225]\n",
      " [4.14892176 1.         1.2526811 ]\n",
      " [2.93875749 0.         1.04869854]]\n"
     ]
    },
    {
     "name": "stderr",
     "output_type": "stream",
     "text": [
      "Stochastic Optimizer: Maximum iterations (200) reached and the optimization hasn't converged yet.\n",
      "Stochastic Optimizer: Maximum iterations (200) reached and the optimization hasn't converged yet.\n",
      "A column-vector y was passed when a 1d array was expected. Please change the shape of y to (n_samples, ), for example using ravel().\n"
     ]
    },
    {
     "name": "stdout",
     "output_type": "stream",
     "text": [
      "[[ 0.69989213  1.          0.16825485]\n",
      " [ 3.7389066   1.          0.56398044]\n",
      " [ 7.63708488  1.          1.91676286]\n",
      " [ 4.62878835  0.          1.17523695]\n",
      " [ 1.55974252  0.         -0.09940811]]\n"
     ]
    },
    {
     "name": "stderr",
     "output_type": "stream",
     "text": [
      "Stochastic Optimizer: Maximum iterations (200) reached and the optimization hasn't converged yet.\n",
      "Stochastic Optimizer: Maximum iterations (200) reached and the optimization hasn't converged yet.\n",
      "A column-vector y was passed when a 1d array was expected. Please change the shape of y to (n_samples, ), for example using ravel().\n"
     ]
    },
    {
     "name": "stdout",
     "output_type": "stream",
     "text": [
      "[[ 1.43372666  1.         -0.19197351]\n",
      " [ 2.62360501  1.         -0.53805172]\n",
      " [-0.14589491  0.         -0.107212  ]\n",
      " [ 2.20123883  0.          0.43690861]\n",
      " [ 1.61015638  0.         -0.59463946]]\n"
     ]
    },
    {
     "name": "stderr",
     "output_type": "stream",
     "text": [
      "Stochastic Optimizer: Maximum iterations (200) reached and the optimization hasn't converged yet.\n"
     ]
    },
    {
     "name": "stdout",
     "output_type": "stream",
     "text": [
      "[[ 0.87161877  0.         -1.67257205]\n",
      " [ 0.98773547  1.         -1.84689426]\n",
      " [ 0.95272769  0.         -0.11550284]\n",
      " [ 3.3215621   1.          0.03566731]\n",
      " [-0.82626641  0.         -1.13458477]]\n"
     ]
    },
    {
     "name": "stderr",
     "output_type": "stream",
     "text": [
      "A column-vector y was passed when a 1d array was expected. Please change the shape of y to (n_samples, ), for example using ravel().\n",
      "Stochastic Optimizer: Maximum iterations (200) reached and the optimization hasn't converged yet.\n",
      "Stochastic Optimizer: Maximum iterations (200) reached and the optimization hasn't converged yet.\n",
      "A column-vector y was passed when a 1d array was expected. Please change the shape of y to (n_samples, ), for example using ravel().\n"
     ]
    },
    {
     "name": "stdout",
     "output_type": "stream",
     "text": [
      "[[ 0.62947062  0.         -1.3184801 ]\n",
      " [ 0.76230928  1.          0.64184012]\n",
      " [ 0.7468941   1.         -1.25840342]\n",
      " [ 3.19183707  0.          1.32776537]\n",
      " [ 0.04830169  1.         -0.57794138]]\n"
     ]
    },
    {
     "name": "stderr",
     "output_type": "stream",
     "text": [
      "Stochastic Optimizer: Maximum iterations (200) reached and the optimization hasn't converged yet.\n",
      "Stochastic Optimizer: Maximum iterations (200) reached and the optimization hasn't converged yet.\n",
      "A column-vector y was passed when a 1d array was expected. Please change the shape of y to (n_samples, ), for example using ravel().\n"
     ]
    },
    {
     "name": "stdout",
     "output_type": "stream",
     "text": [
      "[[ 5.97955153  0.          1.77866236]\n",
      " [ 5.57868014  1.          1.65702663]\n",
      " [ 2.1541391   1.         -0.61298417]\n",
      " [-0.58546401  0.          0.03246042]\n",
      " [ 1.92835524  0.         -0.34199825]]\n"
     ]
    },
    {
     "name": "stderr",
     "output_type": "stream",
     "text": [
      "Stochastic Optimizer: Maximum iterations (200) reached and the optimization hasn't converged yet.\n",
      "Stochastic Optimizer: Maximum iterations (200) reached and the optimization hasn't converged yet.\n",
      "A column-vector y was passed when a 1d array was expected. Please change the shape of y to (n_samples, ), for example using ravel().\n"
     ]
    },
    {
     "name": "stdout",
     "output_type": "stream",
     "text": [
      "[[ 0.12962158  0.         -0.73025374]\n",
      " [-0.3637323   1.         -1.99675736]\n",
      " [ 0.9607627   1.         -0.0325061 ]\n",
      " [ 1.80286607  1.          0.41859248]\n",
      " [ 7.48192275  0.          2.20193996]]\n"
     ]
    },
    {
     "name": "stderr",
     "output_type": "stream",
     "text": [
      "Stochastic Optimizer: Maximum iterations (200) reached and the optimization hasn't converged yet.\n",
      "Stochastic Optimizer: Maximum iterations (200) reached and the optimization hasn't converged yet.\n",
      "A column-vector y was passed when a 1d array was expected. Please change the shape of y to (n_samples, ), for example using ravel().\n"
     ]
    },
    {
     "name": "stdout",
     "output_type": "stream",
     "text": [
      "[[ 2.32106727  1.          0.16614019]\n",
      " [ 2.12108758  0.         -0.72893789]\n",
      " [-0.49957125  1.         -1.16069516]\n",
      " [-0.70564613  1.          0.02724985]\n",
      " [ 2.5632328   1.          0.14854731]]\n"
     ]
    },
    {
     "name": "stderr",
     "output_type": "stream",
     "text": [
      "Stochastic Optimizer: Maximum iterations (200) reached and the optimization hasn't converged yet.\n",
      "Stochastic Optimizer: Maximum iterations (200) reached and the optimization hasn't converged yet.\n",
      "A column-vector y was passed when a 1d array was expected. Please change the shape of y to (n_samples, ), for example using ravel().\n"
     ]
    },
    {
     "name": "stdout",
     "output_type": "stream",
     "text": [
      "[[-0.58322015  0.         -1.52122752]\n",
      " [-0.50411449  0.         -0.01314415]\n",
      " [ 0.52577336  1.          0.06212858]\n",
      " [ 0.75650884  0.          0.19804753]\n",
      " [-0.15745484  0.         -0.99854993]]\n"
     ]
    },
    {
     "name": "stderr",
     "output_type": "stream",
     "text": [
      "Stochastic Optimizer: Maximum iterations (200) reached and the optimization hasn't converged yet.\n",
      "Stochastic Optimizer: Maximum iterations (200) reached and the optimization hasn't converged yet.\n",
      "A column-vector y was passed when a 1d array was expected. Please change the shape of y to (n_samples, ), for example using ravel().\n"
     ]
    },
    {
     "name": "stdout",
     "output_type": "stream",
     "text": [
      "[[-2.29597169  0.         -2.00597479]\n",
      " [ 2.652526    0.         -0.69658511]\n",
      " [ 7.91565989  1.          1.69637109]\n",
      " [ 3.70550385  1.          0.86429635]\n",
      " [ 3.10207782  1.          1.05738039]]\n"
     ]
    },
    {
     "name": "stderr",
     "output_type": "stream",
     "text": [
      "Stochastic Optimizer: Maximum iterations (200) reached and the optimization hasn't converged yet.\n",
      "Stochastic Optimizer: Maximum iterations (200) reached and the optimization hasn't converged yet.\n",
      "A column-vector y was passed when a 1d array was expected. Please change the shape of y to (n_samples, ), for example using ravel().\n"
     ]
    },
    {
     "name": "stdout",
     "output_type": "stream",
     "text": [
      "[[ 0.24061711  0.         -0.21437004]\n",
      " [ 1.29077675  0.         -1.22192617]\n",
      " [ 2.56573461  0.          0.33925939]\n",
      " [ 3.83780323  1.          1.09678165]\n",
      " [ 1.75841283  0.          0.00526764]]\n"
     ]
    },
    {
     "name": "stderr",
     "output_type": "stream",
     "text": [
      "Stochastic Optimizer: Maximum iterations (200) reached and the optimization hasn't converged yet.\n",
      "Stochastic Optimizer: Maximum iterations (200) reached and the optimization hasn't converged yet.\n"
     ]
    }
   ],
   "source": [
    "import statsmodels.api as sm\n",
    "import numpy as np\n",
    "from econml.dml import LinearDML\n",
    "from sklearn.ensemble import RandomForestRegressor, RandomForestClassifier\n",
    "from xgboost import XGBClassifier, XGBRegressor\n",
    "from sklearn.model_selection import train_test_split\n",
    "from sklearn.linear_model import LogisticRegression, LinearRegression\n",
    "from sklearn.neural_network import MLPClassifier, MLPRegressor\n",
    "\n",
    "MC_N = 50\n",
    "MC_θ = np.zeros((MC_N,4))\n",
    "MC_y = np.zeros((MC_N,4))\n",
    "MC_t = np.zeros((MC_N,4))\n",
    "\n",
    "for j in range(MC_N):\n",
    "    import numpy as np\n",
    "    N = 10000\n",
    "    σ_t = 1\n",
    "    σ_y = 1\n",
    "    σ_x = 1\n",
    "    θ = 0.5 # TRUE ATE\n",
    "    α_t = 0.5\n",
    "    α_y = 0.5\n",
    "    x = np.random.normal(0,σ_x,N)\n",
    "    e_t = np.random.normal(0,σ_t,N)\n",
    "    e_y = np.random.normal(0,σ_y,N)\n",
    "    t = np.random.binomial(1, np.exp(α_t * x)/(1+np.exp(α_t * x)))\n",
    "    y = np.power(np.exp(α_y * x),2) + θ * t + e_y\n",
    "    x = x.reshape(-1, 1)\n",
    "    y = y.reshape(-1, 1)\n",
    "    t = t.reshape(-1, 1)\n",
    "    data = np.c_[y,t,x]\n",
    "    print(data[0:5])\n",
    "    \n",
    "    # OLS - Full Estimation\n",
    "    model_OLS = sm.OLS(y, np.c_[t,x])\n",
    "    res = model_OLS.fit()\n",
    "    θ_OLS = res.params[0]\n",
    "    # OLS First Stage: Y\n",
    "    model_OLS = sm.OLS(y, np.c_[x])\n",
    "    res_y = model_OLS.fit()\n",
    "    θ_OLS_y = res_y.params[0]    \n",
    "    # Logistic First Stage\n",
    "    clf = LogisticRegression(random_state=0).fit(x, t)\n",
    "    \n",
    "    # DML Lasso\n",
    "    model_Lasso = LinearDML(discrete_treatment=True, random_state=1)\n",
    "    model_Lasso.fit(y, t, X=None,W=x)\n",
    "    θ_DMLL = model_Lasso.intercept_\n",
    "\n",
    "    # DML RF\n",
    "    model_XGB = LinearDML(discrete_treatment=True, model_y = XGBRegressor(n_estimators = 500, \n",
    "                                                                          max_depth = 8, \n",
    "                                                                          learning_rate=0.01), \n",
    "                          model_t = XGBClassifier(n_estimators = 500,\n",
    "                                                  max_depth = 3,\n",
    "                                                  learning_rate=0.01))\n",
    "    model_XGB.fit(y.ravel(), t.ravel(), X=None,W=x)\n",
    "    θ_DMLRF = model_XGB.intercept_\n",
    "    \n",
    "    # DML NN - First Stage\n",
    "    model_NN = LinearDML(discrete_treatment=True, model_y = MLPRegressor(), model_t = MLPClassifier())\n",
    "    model_NN.fit(y.ravel(), t.ravel(), X=None,W=x)\n",
    "    θ_DMLRF = model_NN.intercept_\n",
    "\n",
    "\n",
    "    MC_θ[j] = [res.rsquared, model_XGB.intercept_, model_XGB.intercept_, model_XGB.intercept_]\n",
    "    MC_y[j] = [res_y.rsquared, np.mean(model_Lasso.nuisance_scores_y), np.mean(model_XGB.nuisance_scores_y),np.mean(model_NN.nuisance_scores_y)]\n",
    "    MC_t[j] = [clf.score(x,t), np.mean(model_Lasso.nuisance_scores_t), np.mean(model_XGB.nuisance_scores_t),np.mean(model_NN.nuisance_scores_t)]\n",
    "    \n",
    "    "
   ]
  },
  {
   "cell_type": "code",
   "execution_count": 273,
   "id": "cd2fedc3",
   "metadata": {},
   "outputs": [
    {
     "ename": "ModuleNotFoundError",
     "evalue": "No module named 'Image'",
     "output_type": "error",
     "traceback": [
      "\u001b[0;31m---------------------------------------------------------------------------\u001b[0m",
      "\u001b[0;31mModuleNotFoundError\u001b[0m                       Traceback (most recent call last)",
      "Cell \u001b[0;32mIn [273], line 3\u001b[0m\n\u001b[1;32m      1\u001b[0m np\u001b[38;5;241m.\u001b[39mset_printoptions(precision\u001b[38;5;241m=\u001b[39m\u001b[38;5;241m3\u001b[39m)\n\u001b[1;32m      2\u001b[0m \u001b[38;5;28;01mfrom\u001b[39;00m \u001b[38;5;21;01mPIL\u001b[39;00m \u001b[38;5;28;01mimport\u001b[39;00m Image, ImageDraw, ImageFont\n\u001b[0;32m----> 3\u001b[0m \u001b[38;5;28;01mimport\u001b[39;00m \u001b[38;5;21;01mImage\u001b[39;00m\n\u001b[1;32m      5\u001b[0m \u001b[38;5;28mprint\u001b[39m(np\u001b[38;5;241m.\u001b[39mmean(MC_θ, axis \u001b[38;5;241m=\u001b[39m \u001b[38;5;241m0\u001b[39m))\n\u001b[1;32m      6\u001b[0m \u001b[38;5;28mprint\u001b[39m(np\u001b[38;5;241m.\u001b[39mstd(MC_θ, axis \u001b[38;5;241m=\u001b[39m \u001b[38;5;241m0\u001b[39m))\n",
      "\u001b[0;31mModuleNotFoundError\u001b[0m: No module named 'Image'"
     ]
    }
   ],
   "source": [
    "np.set_printoptions(precision=3)\n",
    "import Image\n",
    "\n",
    "print(np.mean(MC_θ, axis = 0))\n",
    "print(np.std(MC_θ, axis = 0))\n",
    "print(np.mean(MC_y, axis = 0))\n",
    "print(np.mean(MC_t, axis = 0))"
   ]
  },
  {
   "cell_type": "code",
   "execution_count": 260,
   "id": "ac7ba5f7",
   "metadata": {},
   "outputs": [
    {
     "data": {
      "text/plain": [
       "['Mean θ_hat',\n",
       " 0.54925529686103,\n",
       " 0.5075439437968791,\n",
       " 0.5075439437968791,\n",
       " 0.5075439437968791]"
      ]
     },
     "execution_count": 260,
     "metadata": {},
     "output_type": "execute_result"
    }
   ],
   "source": [
    "['Mean θ_hat']+ np.mean(MC_θ, axis = 0).tolist()"
   ]
  },
  {
   "cell_type": "code",
   "execution_count": 292,
   "id": "31aebd79",
   "metadata": {},
   "outputs": [
    {
     "name": "stdout",
     "output_type": "stream",
     "text": [
      "+------------------------+-------+-------+---------+--------+\n",
      "|          Var           |  OLS  | DML-L | DML-XGB | DML-NN |\n",
      "+------------------------+-------+-------+---------+--------+\n",
      "|       Mean θ_hat       | 0.549 | 0.508 |  0.508  | 0.508  |\n",
      "|      Stdev θ_hat       | 0.024 | 0.021 |  0.021  | 0.021  |\n",
      "|  97.5 Quantile θ_hat   | 0.573 | 0.548 |  0.548  | 0.548  |\n",
      "|   2.5 Quantile θ_hat   | 0.505 | 0.474 |  0.474  | 0.474  |\n",
      "|    First Stage Y R2    | 0.305 | 0.491 |  0.794  | 0.799  |\n",
      "| First Stage D Accuracy | 0.596 | 0.596 |  0.593  | 0.596  |\n",
      "+------------------------+-------+-------+---------+--------+\n"
     ]
    }
   ],
   "source": [
    "from prettytable import PrettyTable\n",
    "from PIL import Image, ImageDraw, ImageFont\n",
    "table = PrettyTable()\n",
    "table.field_names = ['Var', 'OLS','DML-L','DML-XGB','DML-NN']\n",
    "a = ['Mean θ_hat']+ np.mean(MC_θ, axis = 0).tolist()\n",
    "table.add_row(a)\n",
    "a = ['Stdev θ_hat']+ np.std(MC_θ, axis = 0).tolist()\n",
    "table.add_row(a)\n",
    "a = ['97.5 Quantile θ_hat']+ np.quantile(MC_θ,0.975, axis = 0).tolist()\n",
    "table.add_row(a)\n",
    "a = ['2.5 Quantile θ_hat']+ np.quantile(MC_θ,0.025, axis = 0).tolist()\n",
    "table.add_row(a)\n",
    "a = ['First Stage Y R2']+ np.mean(MC_y, axis = 0).tolist()\n",
    "table.add_row(a)\n",
    "a = ['First Stage D Accuracy']+ np.mean(MC_t, axis = 0).tolist()\n",
    "table.add_row(a)\n",
    "table.float_format = '0.3'\n",
    "print(table)"
   ]
  },
  {
   "cell_type": "code",
   "execution_count": 295,
   "id": "8a5acecf",
   "metadata": {},
   "outputs": [
    {
     "data": {
      "image/png": "[encoded data removed]",
      "text/plain": [
       "<Figure size 1000x1000 with 1 Axes>"
      ]
     },
     "metadata": {},
     "output_type": "display_data"
    }
   ],
   "source": [
    "import seaborn as sns\n",
    "import pandas as pd \n",
    "import matplotlib.pyplot as plt \n",
    "df = pd.DataFrame(MC_θ,columns=['OLS','DML-L','DML-XGB','DML-NN'])\n",
    "plt.figure(figsize=(10,10))\n",
    "sns.kdeplot(df)\n",
    "plt.axvline(0.5, color='black')\n",
    "plt.savefig('ex2g.png')"
   ]
  },
  {
   "cell_type": "code",
   "execution_count": null,
   "id": "2ddeaed0",
   "metadata": {},
   "outputs": [],
   "source": []
  }
 ],
 "metadata": {
  "kernelspec": {
   "display_name": "Python 3 (ipykernel)",
   "language": "python",
   "name": "python3"
  },
  "language_info": {
   "codemirror_mode": {
    "name": "ipython",
    "version": 3
   },
   "file_extension": ".py",
   "mimetype": "text/x-python",
   "name": "python",
   "nbconvert_exporter": "python",
   "pygments_lexer": "ipython3",
   "version": "3.10.8"
  }
 },
 "nbformat": 4,
 "nbformat_minor": 5
}
