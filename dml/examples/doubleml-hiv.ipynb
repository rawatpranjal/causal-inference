{
 "cells": [
  {
   "cell_type": "code",
   "execution_count": 35,
   "id": "e8a6fe4f",
   "metadata": {},
   "outputs": [
    {
     "name": "stdout",
     "output_type": "stream",
     "text": [
      "['Mroz', '__all__', '__builtins__', '__cached__', '__doc__', '__file__', '__loader__', '__name__', '__package__', '__path__', '__spec__', 'abortion', 'adult_services', 'auto', 'avocado', 'black_politicians', 'castle', 'close_elections_lmb', 'cps_mixtape', 'credit_cards', 'gapminder', 'google_stock', 'gov_transfers', 'gov_transfers_density', 'greek_data', 'mortgages', 'nhefs', 'nhefs_codebook', 'nhefs_complete', 'nsw_mixtape', 'organ_donations', 'restaurant_inspections', 'ri', 'scorecard', 'snow', 'social_insure', 'texas', 'thornton_hiv', 'titanic', 'training_bias_reduction', 'training_example', 'yule']\n",
      "::\n",
      "    Number of observations - 1629\n",
      "    Number of variables -67\n",
      "    See the nhefs_codebook data set for variable documentation\n",
      "\n",
      "nhefs is a cleaned data set of the data used in Causal Inference by Hernán and Robins. nhefs is dataset containing data from the National Health and Nutrition Examination Survey Data I Epidemiologic Follow-up Study (NHEFS). The NHEFS was jointly initiated by the National Center for Health Statistics and the National Institute on Aging in collaboration with other agencies of the United States Public Health Service. A detailed description of the NHEFS, together with publicly available data sets and documentation, can be found at wwwn.cdc.gov/nchs/nhanes/nhefs/.\n",
      "\n",
      "wwwn.cdc.gov/nchs/nhanes/nhefs/\n",
      "\n"
     ]
    }
   ],
   "source": [
    "import causaldata\n",
    "import numpy as np\n",
    "print(dir(causaldata))\n",
    "df = causaldata.thornton_hiv.load_pandas().data\n",
    "print(causaldata.nhefs.NOTE)\n",
    "print(causaldata.nhefs.DESCRLONG)\n",
    "print(causaldata.nhefs.SOURCE)"
   ]
  },
  {
   "cell_type": "code",
   "execution_count": 24,
   "id": "8957f6e4",
   "metadata": {},
   "outputs": [],
   "source": [
    "outcome = 'got'\n",
    "treatment = 'any'\n",
    "rest = df.drop([outcome, treatment, 'villnum'], axis=1).columns"
   ]
  },
  {
   "cell_type": "code",
   "execution_count": 25,
   "id": "e10c68a3",
   "metadata": {},
   "outputs": [
    {
     "name": "stdout",
     "output_type": "stream",
     "text": [
      "(2825, 7)\n"
     ]
    },
    {
     "data": {
      "text/html": [
       "<div>\n",
       "<style scoped>\n",
       "    .dataframe tbody tr th:only-of-type {\n",
       "        vertical-align: middle;\n",
       "    }\n",
       "\n",
       "    .dataframe tbody tr th {\n",
       "        vertical-align: top;\n",
       "    }\n",
       "\n",
       "    .dataframe thead th {\n",
       "        text-align: right;\n",
       "    }\n",
       "</style>\n",
       "<table border=\"1\" class=\"dataframe\">\n",
       "  <thead>\n",
       "    <tr style=\"text-align: right;\">\n",
       "      <th></th>\n",
       "      <th>villnum</th>\n",
       "      <th>got</th>\n",
       "      <th>distvct</th>\n",
       "      <th>tinc</th>\n",
       "      <th>any</th>\n",
       "      <th>age</th>\n",
       "      <th>hiv2004</th>\n",
       "    </tr>\n",
       "  </thead>\n",
       "  <tbody>\n",
       "    <tr>\n",
       "      <th>0</th>\n",
       "      <td>1.0</td>\n",
       "      <td>1.0</td>\n",
       "      <td>2.718921</td>\n",
       "      <td>2.08032</td>\n",
       "      <td>1.0</td>\n",
       "      <td>22.0</td>\n",
       "      <td>0.0</td>\n",
       "    </tr>\n",
       "    <tr>\n",
       "      <th>2</th>\n",
       "      <td>1.0</td>\n",
       "      <td>1.0</td>\n",
       "      <td>2.485713</td>\n",
       "      <td>1.89120</td>\n",
       "      <td>1.0</td>\n",
       "      <td>19.0</td>\n",
       "      <td>0.0</td>\n",
       "    </tr>\n",
       "    <tr>\n",
       "      <th>4</th>\n",
       "      <td>1.0</td>\n",
       "      <td>1.0</td>\n",
       "      <td>1.837131</td>\n",
       "      <td>0.09456</td>\n",
       "      <td>1.0</td>\n",
       "      <td>53.0</td>\n",
       "      <td>0.0</td>\n",
       "    </tr>\n",
       "    <tr>\n",
       "      <th>5</th>\n",
       "      <td>1.0</td>\n",
       "      <td>1.0</td>\n",
       "      <td>2.217743</td>\n",
       "      <td>0.94560</td>\n",
       "      <td>1.0</td>\n",
       "      <td>50.0</td>\n",
       "      <td>0.0</td>\n",
       "    </tr>\n",
       "    <tr>\n",
       "      <th>10</th>\n",
       "      <td>1.0</td>\n",
       "      <td>0.0</td>\n",
       "      <td>2.907790</td>\n",
       "      <td>0.56736</td>\n",
       "      <td>1.0</td>\n",
       "      <td>21.0</td>\n",
       "      <td>0.0</td>\n",
       "    </tr>\n",
       "  </tbody>\n",
       "</table>\n",
       "</div>"
      ],
      "text/plain": [
       "    villnum  got   distvct     tinc  any   age  hiv2004\n",
       "0       1.0  1.0  2.718921  2.08032  1.0  22.0      0.0\n",
       "2       1.0  1.0  2.485713  1.89120  1.0  19.0      0.0\n",
       "4       1.0  1.0  1.837131  0.09456  1.0  53.0      0.0\n",
       "5       1.0  1.0  2.217743  0.94560  1.0  50.0      0.0\n",
       "10      1.0  0.0  2.907790  0.56736  1.0  21.0      0.0"
      ]
     },
     "execution_count": 25,
     "metadata": {},
     "output_type": "execute_result"
    }
   ],
   "source": [
    "#import wooldridge\n",
    "#df = wooldridge.data('jtrain3')\n",
    "#df['avg'] = 0.5 * (df.re74+df.re75)\n",
    "df = df.dropna()\n",
    "#df = df[df.avg <= 15]\n",
    "y = df[outcome]\n",
    "d = df[treatment]\n",
    "x = df[rest]\n",
    "print(df.shape)\n",
    "df.head()"
   ]
  },
  {
   "cell_type": "code",
   "execution_count": 26,
   "id": "52505279",
   "metadata": {},
   "outputs": [
    {
     "name": "stdout",
     "output_type": "stream",
     "text": [
      "                            OLS Regression Results                            \n",
      "==============================================================================\n",
      "Dep. Variable:                    got   R-squared:                       0.164\n",
      "Model:                            OLS   Adj. R-squared:                  0.163\n",
      "Method:                 Least Squares   F-statistic:                     552.2\n",
      "Date:                Sun, 04 Dec 2022   Prob (F-statistic):          1.11e-111\n",
      "Time:                        20:56:59   Log-Likelihood:                -1573.5\n",
      "No. Observations:                2825   AIC:                             3151.\n",
      "Df Residuals:                    2823   BIC:                             3163.\n",
      "Df Model:                           1                                         \n",
      "Covariance Type:            nonrobust                                         \n",
      "==============================================================================\n",
      "                 coef    std err          t      P>|t|      [0.025      0.975]\n",
      "------------------------------------------------------------------------------\n",
      "x1             0.4511      0.019     23.500      0.000       0.413       0.489\n",
      "const          0.3398      0.017     20.041      0.000       0.307       0.373\n",
      "==============================================================================\n",
      "Omnibus:                      271.085   Durbin-Watson:                   1.920\n",
      "Prob(Omnibus):                  0.000   Jarque-Bera (JB):              315.219\n",
      "Skew:                          -0.787   Prob(JB):                     3.56e-69\n",
      "Kurtosis:                       2.550   Cond. No.                         4.05\n",
      "==============================================================================\n",
      "\n",
      "Notes:\n",
      "[1] Standard Errors assume that the covariance matrix of the errors is correctly specified.\n",
      "0.4510602885691668\n",
      "0.01919405789256344\n"
     ]
    }
   ],
   "source": [
    "# Simple Comparision of Means\n",
    "import statsmodels.api as sm\n",
    "mod = sm.OLS(y, sm.add_constant(np.c_[d], prepend=False))\n",
    "res = mod.fit()\n",
    "print(res.summary())\n",
    "print(res.params[0])\n",
    "print(res.bse[0])"
   ]
  },
  {
   "cell_type": "code",
   "execution_count": 27,
   "id": "8167540c",
   "metadata": {},
   "outputs": [
    {
     "name": "stdout",
     "output_type": "stream",
     "text": [
      "                            OLS Regression Results                            \n",
      "==============================================================================\n",
      "Dep. Variable:                    got   R-squared:                       0.190\n",
      "Model:                            OLS   Adj. R-squared:                  0.189\n",
      "Method:                 Least Squares   F-statistic:                     132.3\n",
      "Date:                Sun, 04 Dec 2022   Prob (F-statistic):          2.84e-126\n",
      "Time:                        20:56:59   Log-Likelihood:                -1528.0\n",
      "No. Observations:                2825   AIC:                             3068.\n",
      "Df Residuals:                    2819   BIC:                             3104.\n",
      "Df Model:                           5                                         \n",
      "Covariance Type:            nonrobust                                         \n",
      "==============================================================================\n",
      "                 coef    std err          t      P>|t|      [0.025      0.975]\n",
      "------------------------------------------------------------------------------\n",
      "x1             0.3433      0.024     14.581      0.000       0.297       0.389\n",
      "x2            -0.0299      0.006     -4.833      0.000      -0.042      -0.018\n",
      "x3             0.0830      0.011      7.660      0.000       0.062       0.104\n",
      "x4             0.0018      0.001      3.174      0.002       0.001       0.003\n",
      "x5            -0.0391      0.031     -1.259      0.208      -0.100       0.022\n",
      "const          0.3418      0.027     12.491      0.000       0.288       0.395\n",
      "==============================================================================\n",
      "Omnibus:                      238.649   Durbin-Watson:                   1.908\n",
      "Prob(Omnibus):                  0.000   Jarque-Bera (JB):              264.125\n",
      "Skew:                          -0.713   Prob(JB):                     4.43e-58\n",
      "Kurtosis:                       2.541   Cond. No.                         145.\n",
      "==============================================================================\n",
      "\n",
      "Notes:\n",
      "[1] Standard Errors assume that the covariance matrix of the errors is correctly specified.\n",
      "0.3432714049284361\n",
      "0.02354161347136309\n"
     ]
    }
   ],
   "source": [
    "# Pooled Regression Adjustment\n",
    "import statsmodels.api as sm\n",
    "mod = sm.OLS(y, sm.add_constant(np.c_[d, x], prepend=False))\n",
    "res = mod.fit()\n",
    "print(res.summary())\n",
    "print(res.params[0])\n",
    "print(res.bse[0])"
   ]
  },
  {
   "cell_type": "code",
   "execution_count": 30,
   "id": "a72d3881",
   "metadata": {},
   "outputs": [
    {
     "name": "stdout",
     "output_type": "stream",
     "text": [
      "================== DoubleMLData Object ==================\n",
      "\n",
      "------------------ Data summary      ------------------\n",
      "Outcome variable: got\n",
      "Treatment variable(s): ['any']\n",
      "Covariates: ['distvct', 'tinc', 'age', 'hiv2004']\n",
      "Instrument variable(s): None\n",
      "No. Observations: 2825\n",
      "\n",
      "------------------ DataFrame info    ------------------\n",
      "<class 'pandas.core.frame.DataFrame'>\n",
      "Int64Index: 2825 entries, 0 to 4791\n",
      "Columns: 7 entries, villnum to hiv2004\n",
      "dtypes: float32(2), float64(5)\n",
      "memory usage: 154.5 KB\n",
      "\n",
      "================== DoubleMLPLR Object ==================\n",
      "\n",
      "------------------ Data summary      ------------------\n",
      "Outcome variable: got\n",
      "Treatment variable(s): ['any']\n",
      "Covariates: ['distvct', 'tinc', 'age', 'hiv2004']\n",
      "Instrument variable(s): None\n",
      "No. Observations: 2825\n",
      "\n",
      "------------------ Score & algorithm ------------------\n",
      "Score function: partialling out\n",
      "DML algorithm: dml2\n",
      "\n",
      "------------------ Machine learner   ------------------\n",
      "Learner ml_l: RandomForestRegressor(max_depth=3, max_features='sqrt', n_estimators=500)\n",
      "Learner ml_m: RandomForestRegressor(max_depth=3, max_features='sqrt', n_estimators=500)\n",
      "\n",
      "------------------ Resampling        ------------------\n",
      "No. folds: 5\n",
      "No. repeated sample splits: 1\n",
      "Apply cross-fitting: True\n",
      "\n",
      "------------------ Fit summary       ------------------\n",
      "         coef   std err         t     P>|t|     2.5 %    97.5 %\n",
      "any  0.472362  0.153236  3.082585  0.002052  0.172026  0.772698\n"
     ]
    }
   ],
   "source": [
    "import numpy as np\n",
    "from doubleml.datasets import make_plr_CCDDHNR2018\n",
    "from doubleml import DoubleMLData\n",
    "\n",
    "np.random.seed(1234)\n",
    "dml_data_bonus = DoubleMLData(df, y_col=outcome,\n",
    "                                  d_cols=treatment,\n",
    "                                  x_cols=list(rest))\n",
    "print(dml_data_bonus)\n",
    "from sklearn.base import clone\n",
    "from sklearn.ensemble import RandomForestRegressor\n",
    "from sklearn.linear_model import LassoCV\n",
    "learner = RandomForestRegressor(n_estimators = 500, max_features = 'sqrt', max_depth= 3)\n",
    "ml_l_bonus = clone(learner)\n",
    "ml_m_bonus = clone(learner)\n",
    "learner = LassoCV()\n",
    "ml_l_sim = clone(learner)\n",
    "ml_m_sim = clone(learner)\n",
    "def non_orth_score(y, d, l_hat, m_hat, g_hat, smpls):\n",
    "    u_hat = y - g_hat\n",
    "    psi_a = -np.multiply(d, d)\n",
    "    psi_b = np.multiply(d, u_hat)\n",
    "    return psi_a, psi_b\n",
    "\n",
    "from doubleml import DoubleMLPLR\n",
    "np.random.seed(3141)\n",
    "obj_dml_plr_bonus = DoubleMLPLR(dml_data_bonus, ml_l_bonus, ml_m_bonus)\n",
    "obj_dml_plr_bonus.fit();\n",
    "print(obj_dml_plr_bonus)"
   ]
  },
  {
   "cell_type": "code",
   "execution_count": 31,
   "id": "0c9d0077",
   "metadata": {},
   "outputs": [
    {
     "name": "stdout",
     "output_type": "stream",
     "text": [
      "Coefficient Results:  X is None, please call intercept_inference to learn the constant!\n"
     ]
    },
    {
     "data": {
      "text/html": [
       "<table class=\"simpletable\">\n",
       "<caption>CATE Intercept Results</caption>\n",
       "<tr>\n",
       "         <td></td>        <th>point_estimate</th> <th>stderr</th>  <th>zstat</th> <th>pvalue</th> <th>ci_lower</th> <th>ci_upper</th>\n",
       "</tr>\n",
       "<tr>\n",
       "  <th>cate_intercept</th>      <td>0.343</td>      <td>0.026</td> <td>13.262</td>   <td>0.0</td>    <td>0.292</td>    <td>0.393</td> \n",
       "</tr>\n",
       "</table><br/><br/><sub>A linear parametric conditional average treatment effect (CATE) model was fitted:<br/>$Y = \\Theta(X)\\cdot T + g(X, W) + \\epsilon$<br/>where for every outcome $i$ and treatment $j$ the CATE $\\Theta_{ij}(X)$ has the form:<br/>$\\Theta_{ij}(X) = X' coef_{ij} + cate\\_intercept_{ij}$<br/>Coefficient Results table portrays the $coef_{ij}$ parameter vector for each outcome $i$ and treatment $j$. Intercept Results table portrays the $cate\\_intercept_{ij}$ parameter.</sub>"
      ],
      "text/plain": [
       "<class 'econml.utilities.Summary'>\n",
       "\"\"\"\n",
       "                       CATE Intercept Results                       \n",
       "====================================================================\n",
       "               point_estimate stderr zstat  pvalue ci_lower ci_upper\n",
       "--------------------------------------------------------------------\n",
       "cate_intercept          0.343  0.026 13.262    0.0    0.292    0.393\n",
       "--------------------------------------------------------------------\n",
       "\n",
       "<sub>A linear parametric conditional average treatment effect (CATE) model was fitted:\n",
       "$Y = \\Theta(X)\\cdot T + g(X, W) + \\epsilon$\n",
       "where for every outcome $i$ and treatment $j$ the CATE $\\Theta_{ij}(X)$ has the form:\n",
       "$\\Theta_{ij}(X) = X' coef_{ij} + cate\\_intercept_{ij}$\n",
       "Coefficient Results table portrays the $coef_{ij}$ parameter vector for each outcome $i$ and treatment $j$. Intercept Results table portrays the $cate\\_intercept_{ij}$ parameter.</sub>\n",
       "\"\"\""
      ]
     },
     "execution_count": 31,
     "metadata": {},
     "output_type": "execute_result"
    }
   ],
   "source": [
    "# DML regression - still yeilds unbiased estimate of ATE \n",
    "from econml.dml import LinearDML\n",
    "est = LinearDML(random_state=45)\n",
    "est.fit(y, d, X=None,W=x)\n",
    "est.summary()"
   ]
  },
  {
   "cell_type": "code",
   "execution_count": null,
   "id": "96e5aa4f",
   "metadata": {},
   "outputs": [],
   "source": []
  }
 ],
 "metadata": {
  "kernelspec": {
   "display_name": "Python 3 (ipykernel)",
   "language": "python",
   "name": "python3"
  },
  "language_info": {
   "codemirror_mode": {
    "name": "ipython",
    "version": 3
   },
   "file_extension": ".py",
   "mimetype": "text/x-python",
   "name": "python",
   "nbconvert_exporter": "python",
   "pygments_lexer": "ipython3",
   "version": "3.10.9"
  }
 },
 "nbformat": 4,
 "nbformat_minor": 5
}
