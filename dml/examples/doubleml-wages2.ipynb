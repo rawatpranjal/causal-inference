{
 "cells": [
  {
   "cell_type": "markdown",
   "id": "bc8bc1d0",
   "metadata": {},
   "source": [
    "# Packages"
   ]
  },
  {
   "cell_type": "code",
   "execution_count": 4,
   "id": "cbc5a055",
   "metadata": {},
   "outputs": [],
   "source": [
    "import numpy as np\n",
    "import pandas as pd\n",
    "from doubleml.datasets import fetch_bonus\n",
    "from doubleml import DoubleMLData \n",
    "import statsmodels.api as sm\n",
    "from sklearn.base import clone\n",
    "from sklearn.ensemble import RandomForestRegressor, RandomForestClassifier\n",
    "from sklearn.linear_model import LassoCV\n",
    "from doubleml import DoubleMLPLIV\n",
    "from doubleml import DoubleMLPLR\n",
    "from prettytable import PrettyTable\n",
    "from PIL import Image, ImageDraw, ImageFont\n",
    "from sklearn.linear_model import LinearRegression, LogisticRegression, LassoCV, LogisticRegressionCV\n",
    "from sklearn.neural_network import MLPRegressor, MLPClassifier\n",
    "from catboost import CatBoostRegressor, CatBoostClassifier\n",
    "from xgboost import XGBRegressor, XGBClassifier\n",
    "from sklearn.preprocessing import normalize\n",
    "from sklearn.model_selection import cross_val_score\n",
    "import wooldridge\n",
    "import warnings\n",
    "warnings.filterwarnings('ignore')\n",
    "np.random.seed(3293423)"
   ]
  },
  {
   "cell_type": "markdown",
   "id": "3e3ea0e8",
   "metadata": {},
   "source": [
    "# Load the Data"
   ]
  },
  {
   "cell_type": "markdown",
   "id": "fcc4c264",
   "metadata": {},
   "source": [
    "Wooldridge Source: D. Card (1995), Using Geographic Variation in College Proximity to Estimate the Return to Schooling, in Aspects of Labour Market Behavior: Essays in Honour of John Van- derkamp. Ed. L.N. Christophides, E.K. Grant, and R. Swidinsky, 201-222. Toronto: University of Toronto Press. Professor Card kindly provided these data. Data loads lazily.\n",
    "            \n",
    "A data.frame with 3010 observations on 34 variables:\n",
    "- id: person identifier\n",
    "- nearc2: =1 if near 2 yr college, 1966\n",
    "- nearc4: =1 if near 4 yr college, 1966\n",
    "- educ: years of schooling, 1976\n",
    "- age: in years\n",
    "- fatheduc: father’s schooling\n",
    "- motheduc: mother’s schooling\n",
    "- weight: NLS sampling weight, 1976\n",
    "- momdad14: =1 if live with mom, dad at 14 - sinmom14: =1 if with single mom at 14\n",
    "- step14: =1 if with step parent at 14\n",
    "- reg661: =1 for region 1, 1966\n",
    "- reg662: =1 for region 2, 1966\n",
    "- reg663: =1 for region 3, 1966\n",
    "- reg664: =1 for region 4, 1966\n",
    "- reg665: =1 for region 5, 1966\n",
    "- reg666: =1 for region 6, 1966\n",
    "- reg667: =1 for region 7, 1966\n",
    "- reg668: =1 for region 8, 1966\n",
    "- reg669: =1 for region 9, 1966\n",
    "- south66: =1 if in south in 1966\n",
    "- black: =1 if black\n",
    "- smsa: =1 in in SMSA, 1976\n",
    "- south: =1 if in south, 1976\n",
    "- smsa66: =1 if in SMSA, 1966\n",
    "- wage: hourly wage in cents, 1976\n",
    "- enroll: =1 if enrolled in school, 1976\n",
    "- KWW: knowledge world of work score - IQ: IQ score\n",
    "- married: =1 if married, 1976\n",
    "- libcrd14: =1 if lib. card in home at 14 - exper: age - educ - 6\n",
    "- lwage: log(wage)\n",
    "- expersq: exper^2\n"
   ]
  },
  {
   "cell_type": "code",
   "execution_count": 6,
   "id": "ba0dcabc",
   "metadata": {},
   "outputs": [
    {
     "data": {
      "text/html": [
       "<div>\n",
       "<style scoped>\n",
       "    .dataframe tbody tr th:only-of-type {\n",
       "        vertical-align: middle;\n",
       "    }\n",
       "\n",
       "    .dataframe tbody tr th {\n",
       "        vertical-align: top;\n",
       "    }\n",
       "\n",
       "    .dataframe thead th {\n",
       "        text-align: right;\n",
       "    }\n",
       "</style>\n",
       "<table border=\"1\" class=\"dataframe\">\n",
       "  <thead>\n",
       "    <tr style=\"text-align: right;\">\n",
       "      <th></th>\n",
       "      <th>lwage</th>\n",
       "      <th>nearc2</th>\n",
       "      <th>nearc4</th>\n",
       "      <th>age</th>\n",
       "      <th>married</th>\n",
       "      <th>smsa</th>\n",
       "      <th>educ</th>\n",
       "    </tr>\n",
       "  </thead>\n",
       "  <tbody>\n",
       "    <tr>\n",
       "      <th>0</th>\n",
       "      <td>6.306275</td>\n",
       "      <td>0</td>\n",
       "      <td>0</td>\n",
       "      <td>29</td>\n",
       "      <td>1.0</td>\n",
       "      <td>1</td>\n",
       "      <td>7</td>\n",
       "    </tr>\n",
       "    <tr>\n",
       "      <th>1</th>\n",
       "      <td>6.175867</td>\n",
       "      <td>0</td>\n",
       "      <td>0</td>\n",
       "      <td>27</td>\n",
       "      <td>1.0</td>\n",
       "      <td>1</td>\n",
       "      <td>12</td>\n",
       "    </tr>\n",
       "    <tr>\n",
       "      <th>2</th>\n",
       "      <td>6.580639</td>\n",
       "      <td>0</td>\n",
       "      <td>0</td>\n",
       "      <td>34</td>\n",
       "      <td>1.0</td>\n",
       "      <td>1</td>\n",
       "      <td>12</td>\n",
       "    </tr>\n",
       "    <tr>\n",
       "      <th>3</th>\n",
       "      <td>5.521461</td>\n",
       "      <td>1</td>\n",
       "      <td>1</td>\n",
       "      <td>27</td>\n",
       "      <td>1.0</td>\n",
       "      <td>1</td>\n",
       "      <td>11</td>\n",
       "    </tr>\n",
       "    <tr>\n",
       "      <th>4</th>\n",
       "      <td>6.591674</td>\n",
       "      <td>1</td>\n",
       "      <td>1</td>\n",
       "      <td>34</td>\n",
       "      <td>1.0</td>\n",
       "      <td>1</td>\n",
       "      <td>12</td>\n",
       "    </tr>\n",
       "  </tbody>\n",
       "</table>\n",
       "</div>"
      ],
      "text/plain": [
       "      lwage  nearc2  nearc4  age  married  smsa  educ\n",
       "0  6.306275       0       0   29      1.0     1     7\n",
       "1  6.175867       0       0   27      1.0     1    12\n",
       "2  6.580639       0       0   34      1.0     1    12\n",
       "3  5.521461       1       1   27      1.0     1    11\n",
       "4  6.591674       1       1   34      1.0     1    12"
      ]
     },
     "execution_count": 6,
     "metadata": {},
     "output_type": "execute_result"
    }
   ],
   "source": [
    "df = wooldridge.data('card')\n",
    "df = df[['lwage','nearc2', 'nearc4' ,'age', 'married', 'smsa', 'educ' ]].dropna()\n",
    "df.head()"
   ]
  },
  {
   "cell_type": "code",
   "execution_count": 7,
   "id": "dcefa355",
   "metadata": {},
   "outputs": [
    {
     "name": "stdout",
     "output_type": "stream",
     "text": [
      "lwage      0\n",
      "nearc2     0\n",
      "nearc4     0\n",
      "age        0\n",
      "married    0\n",
      "smsa       0\n",
      "educ       0\n",
      "dtype: int64\n"
     ]
    }
   ],
   "source": [
    "print(df.isnull().sum())"
   ]
  },
  {
   "cell_type": "code",
   "execution_count": 10,
   "id": "13df97da",
   "metadata": {},
   "outputs": [
    {
     "name": "stdout",
     "output_type": "stream",
     "text": [
      "(3003,) (3003,) (3003, 3) (3003, 2)\n"
     ]
    }
   ],
   "source": [
    "np.random.seed(1)\n",
    "outcome = 'lwage'\n",
    "treatment = 'educ'\n",
    "rest = ['age', 'married', 'smsa']\n",
    "instruments = ['nearc2', 'nearc4']\n",
    "df = df.dropna()\n",
    "df = df[[outcome] + [treatment] + rest + instruments]\n",
    "y = df[outcome]\n",
    "d = df[treatment]\n",
    "x = df[rest].astype('float')\n",
    "z = df[instruments]\n",
    "print(y.shape, d.shape, x.shape, z.shape)"
   ]
  },
  {
   "cell_type": "markdown",
   "id": "b8448830",
   "metadata": {},
   "source": [
    "# First Stage"
   ]
  },
  {
   "cell_type": "code",
   "execution_count": 19,
   "id": "e42a800c",
   "metadata": {},
   "outputs": [
    {
     "name": "stdout",
     "output_type": "stream",
     "text": [
      "+-----------------------+---------------+---------------+\n",
      "|       Estimator       | g(X):Rsquared | m(X):Rsquared |\n",
      "+-----------------------+---------------+---------------+\n",
      "|    Linear/Logistic    |     0.070     |     -0.025    |\n",
      "| Linear/Logistic (Reg) |     0.068     |     -0.026    |\n",
      "|     Random Forests    |     0.061     |     -0.018    |\n",
      "|        Boosting       |     0.052     |     -0.023    |\n",
      "|    Neural Networks    |     -0.034    |     -0.027    |\n",
      "+-----------------------+---------------+---------------+\n"
     ]
    }
   ],
   "source": [
    "np.random.seed(42)\n",
    "table = PrettyTable()\n",
    "table.field_names = ['Estimator', 'g(X):Rsquared', 'm(X):Rsquared']\n",
    "a = ['Linear/Logistic',np.mean(cross_val_score(LinearRegression(), x, y, cv=5)),np.mean(cross_val_score(LinearRegression(), x, d, cv=5))]\n",
    "table.add_row(a)\n",
    "a = ['Linear/Logistic (Reg)',np.mean(cross_val_score(LassoCV(), x, y, cv=5)),np.mean(cross_val_score(LassoCV(), x, d, cv=5))]\n",
    "table.add_row(a)\n",
    "a = ['Random Forests',np.mean(cross_val_score(RandomForestRegressor(max_depth=5,n_estimators=500,verbose=0), x, y, cv=5)),np.mean(cross_val_score(RandomForestRegressor(max_depth=3, n_estimators=500), x, d, cv=5))]\n",
    "table.add_row(a)\n",
    "a = ['Boosting',np.mean(cross_val_score(XGBRegressor(max_depth=3,verbosity=0), x, y, cv=5)),np.mean(cross_val_score(XGBRegressor(verbosity=0,max_depth=3), x, d, cv=5))]\n",
    "table.add_row(a)\n",
    "a = ['Neural Networks',np.mean(cross_val_score(MLPRegressor((100,), activation = 'tanh', max_iter=500, learning_rate_init=0.01), normalize(x), y, cv=5)),np.mean(cross_val_score(MLPRegressor((100,), activation = 'tanh', max_iter=500,learning_rate_init=0.01), normalize(x), d, cv=5))]\n",
    "table.add_row(a)\n",
    "table.float_format = '0.3'\n",
    "print(table)"
   ]
  },
  {
   "cell_type": "markdown",
   "id": "74745986",
   "metadata": {},
   "source": [
    "# OLS"
   ]
  },
  {
   "cell_type": "code",
   "execution_count": 13,
   "id": "0691d6cb",
   "metadata": {},
   "outputs": [
    {
     "name": "stdout",
     "output_type": "stream",
     "text": [
      "                            OLS Regression Results                            \n",
      "==============================================================================\n",
      "Dep. Variable:                  lwage   R-squared:                       0.249\n",
      "Model:                            OLS   Adj. R-squared:                  0.248\n",
      "Method:                 Least Squares   F-statistic:                     248.8\n",
      "Date:                Thu, 15 Dec 2022   Prob (F-statistic):          9.36e-185\n",
      "Time:                        10:29:04   Log-Likelihood:                -1389.8\n",
      "No. Observations:                3003   AIC:                             2790.\n",
      "Df Residuals:                    2998   BIC:                             2820.\n",
      "Df Model:                           4                                         \n",
      "Covariance Type:            nonrobust                                         \n",
      "==============================================================================\n",
      "                 coef    std err          t      P>|t|      [0.025      0.975]\n",
      "------------------------------------------------------------------------------\n",
      "constant       4.5824      0.075     60.721      0.000       4.434       4.730\n",
      "educ           0.0485      0.003     18.122      0.000       0.043       0.054\n",
      "age            0.0351      0.002     15.279      0.000       0.031       0.040\n",
      "married       -0.0406      0.004    -11.573      0.000      -0.047      -0.034\n",
      "smsa           0.1972      0.016     12.445      0.000       0.166       0.228\n",
      "==============================================================================\n",
      "Omnibus:                       42.633   Durbin-Watson:                   1.793\n",
      "Prob(Omnibus):                  0.000   Jarque-Bera (JB):               52.840\n",
      "Skew:                          -0.211   Prob(JB):                     3.36e-12\n",
      "Kurtosis:                       3.494   Cond. No.                         337.\n",
      "==============================================================================\n",
      "\n",
      "Notes:\n",
      "[1] Standard Errors assume that the covariance matrix of the errors is correctly specified.\n"
     ]
    }
   ],
   "source": [
    "OLS = sm.OLS(endog=y, exog=sm.add_constant(np.c_[d,x]), prepend=True).fit()\n",
    "print(OLS.summary(xname=['constant', treatment]+rest))"
   ]
  },
  {
   "cell_type": "code",
   "execution_count": 14,
   "id": "c88bad44",
   "metadata": {},
   "outputs": [
    {
     "name": "stdout",
     "output_type": "stream",
     "text": [
      "                          IV2SLS Regression Results                           \n",
      "==============================================================================\n",
      "Dep. Variable:                  lwage   R-squared:                      -0.093\n",
      "Model:                         IV2SLS   Adj. R-squared:                 -0.094\n",
      "Method:                     Two Stage   F-statistic:                     118.4\n",
      "                        Least Squares   Prob (F-statistic):           7.21e-94\n",
      "Date:                Thu, 15 Dec 2022                                         \n",
      "Time:                        10:29:04                                         \n",
      "No. Observations:                3003                                         \n",
      "Df Residuals:                    2998                                         \n",
      "Df Model:                           4                                         \n",
      "==============================================================================\n",
      "                 coef    std err          t      P>|t|      [0.025      0.975]\n",
      "------------------------------------------------------------------------------\n",
      "const          3.3827      0.465      7.275      0.000       2.471       4.294\n",
      "educ           0.1473      0.038      3.908      0.000       0.073       0.221\n",
      "age            0.0345      0.003     12.389      0.000       0.029       0.040\n",
      "married       -0.0479      0.005     -9.454      0.000      -0.058      -0.038\n",
      "smsa           0.0900      0.045      1.998      0.046       0.002       0.178\n",
      "==============================================================================\n",
      "Omnibus:                       20.554   Durbin-Watson:                   1.849\n",
      "Prob(Omnibus):                  0.000   Jarque-Bera (JB):               23.283\n",
      "Skew:                          -0.146   Prob(JB):                     8.79e-06\n",
      "Kurtosis:                       3.318   Cond. No.                         337.\n",
      "==============================================================================\n"
     ]
    }
   ],
   "source": [
    "from statsmodels.sandbox.regression.gmm import IV2SLS\n",
    "endog = df['lwage']\n",
    "exog =  df[[treatment] + rest]\n",
    "instr = df[rest + instruments]\n",
    "exog_constant = sm.add_constant(exog)\n",
    "instr_constant = sm.add_constant(instr)\n",
    "IV2SLS = IV2SLS(endog, exog_constant, instrument = instr_constant).fit()\n",
    "print(IV2SLS.summary())"
   ]
  },
  {
   "cell_type": "markdown",
   "id": "ae0712ed",
   "metadata": {},
   "source": [
    "# ML Estimation"
   ]
  },
  {
   "cell_type": "code",
   "execution_count": 15,
   "id": "25c4d154",
   "metadata": {},
   "outputs": [],
   "source": [
    "l = RandomForestRegressor(max_depth=4) # Model for E[Y|X] = E[θD+g(X)]\n",
    "g = RandomForestRegressor(max_depth=4) # Model for E[Y - θD|X]=g(X)\n",
    "r = m = RandomForestRegressor(max_depth=4) # Model for E[D|X]\n",
    "\n",
    "def score(y, d, l_hat, m_hat, g_hat, smpls):\n",
    "    \"Score function for Single ML\"\n",
    "    u_hat = y - g_hat\n",
    "    psi_a = -np.multiply(d, d)\n",
    "    psi_b = np.multiply(d, u_hat)\n",
    "    return psi_a, psi_b"
   ]
  },
  {
   "cell_type": "markdown",
   "id": "79977e89",
   "metadata": {},
   "source": [
    "# Orthogonal + Crossfitting (DML)"
   ]
  },
  {
   "cell_type": "code",
   "execution_count": 16,
   "id": "2b5dc3b3",
   "metadata": {},
   "outputs": [
    {
     "name": "stdout",
     "output_type": "stream",
     "text": [
      "          coef   std err         t     P>|t|     2.5 %    97.5 %\n",
      "educ  0.149897  0.038051  3.939374  0.000082  0.075319  0.224476\n"
     ]
    }
   ],
   "source": [
    "data = DoubleMLData(df, y_col=outcome,d_cols=treatment,x_cols=rest,z_cols=instruments)\n",
    "DML = DoubleMLPLIV(data, l,m,g, n_folds=5,apply_cross_fitting=True)\n",
    "DML.fit();\n",
    "print(DML.summary)"
   ]
  },
  {
   "cell_type": "markdown",
   "id": "d441e6e9",
   "metadata": {},
   "source": [
    "# Summary"
   ]
  },
  {
   "cell_type": "code",
   "execution_count": 17,
   "id": "5b13036a",
   "metadata": {},
   "outputs": [
    {
     "name": "stdout",
     "output_type": "stream",
     "text": [
      "+-----------------+-------+-----------+--------+-------+-------+--------+\n",
      "|    Estimator    | θ_hat | Std Error |   t    |   p   |  2.5% | 97.25% |\n",
      "+-----------------+-------+-----------+--------+-------+-------+--------+\n",
      "|       OLS       | 0.048 |   0.003   | 18.122 | 0.000 |  nan  |  nan   |\n",
      "|     IV-2SLS     | 0.147 |   0.038   | 3.908  | 0.000 |  nan  |  nan   |\n",
      "| Double ML (DML) | 0.150 |   0.038   | 3.939  | 0.000 | 0.075 | 0.224  |\n",
      "+-----------------+-------+-----------+--------+-------+-------+--------+\n"
     ]
    }
   ],
   "source": [
    "table = PrettyTable()\n",
    "table.field_names = ['Estimator', 'θ_hat', 'Std Error','t','p','2.5%','97.25%']\n",
    "idx = 1\n",
    "a = ['OLS']+ np.c_[OLS.params[idx], OLS.bse[idx], OLS.tvalues[idx], OLS.pvalues[idx], np.nan, np.nan].reshape(-1).tolist()\n",
    "table.add_row(a)\n",
    "a = ['IV-2SLS']+ np.c_[IV2SLS.params[1], IV2SLS.bse[1], IV2SLS.tvalues[1], IV2SLS.pvalues[1], np.nan, np.nan].reshape(-1).tolist()\n",
    "table.add_row(a)\n",
    "#a = ['Naive/Single ML (SML)']+ np.array(SML.summary).reshape(-1).tolist()\n",
    "#table.add_row(a)\n",
    "#a = ['Orthogonal ML (OML)']+ np.array(OML.summary).reshape(-1).tolist()\n",
    "#table.add_row(a)\n",
    "a = ['Double ML (DML)']+ np.array(DML.summary).reshape(-1).tolist()\n",
    "table.add_row(a)\n",
    "table.float_format = '0.3'\n",
    "print(table)"
   ]
  },
  {
   "cell_type": "code",
   "execution_count": null,
   "id": "baa5d2fa",
   "metadata": {},
   "outputs": [],
   "source": []
  }
 ],
 "metadata": {
  "kernelspec": {
   "display_name": "Python 3 (ipykernel)",
   "language": "python",
   "name": "python3"
  },
  "language_info": {
   "codemirror_mode": {
    "name": "ipython",
    "version": 3
   },
   "file_extension": ".py",
   "mimetype": "text/x-python",
   "name": "python",
   "nbconvert_exporter": "python",
   "pygments_lexer": "ipython3",
   "version": "3.10.9"
  }
 },
 "nbformat": 4,
 "nbformat_minor": 5
}
